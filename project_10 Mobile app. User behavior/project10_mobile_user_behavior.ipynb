{
 "cells": [
  {
   "cell_type": "markdown",
   "metadata": {},
   "source": [
    "# Проект 10: \"Анализ поведения пользователей мобильного приложения\""
   ]
  },
  {
   "cell_type": "markdown",
   "metadata": {},
   "source": [
    "## Описание проекта\n",
    "\n",
    "В стартапе по продаже продуктов питания через мобильное приложение необходимо разобраться, как ведут себя пользователи, изучить воронку продаж, определить основные этапы воронки и рассчитать основные метрики\n",
    "\n",
    "Вторая часть задачи: проанализировать результаты A/A/B-эксперимента, в котором дизайнеры поменяли шрифты во всём приложении."
   ]
  },
  {
   "cell_type": "markdown",
   "metadata": {},
   "source": [
    "## <a id='oglav'>ОГЛАВЛЕНИЕ:</a>\n",
    "[Шаг 1 - Загрузка данных](#paragraph1)\n",
    " - [Импорт библиотек](#lib_import)\n",
    " - [Загрузка файла с данными](#data_download)\n",
    "\n",
    "[Шаг 2 - Подготовка данных](#paragraph2)\n",
    " - [2.1 Обработка названий столбцов](#col_names)\n",
    " - [2.2 Проверка типов данных](#dtype)\n",
    " - [2.3 Проверка пропусков в данных](#dropna)\n",
    " - [2.4 Добавление столбца с датой](#col_date)\n",
    "\n",
    "[Шаг 3 - Изучение и проверка данных](#paragraph3)\n",
    " - [3.1 Расчёт данных в логе](#metrics)\n",
    " - [3.2 Определение периода сбора данных в логе](#period)\n",
    " - [3.3 Уточнённое число событий и пользователей](#metrics_upd)\n",
    " - [3.4 Проверка размеров экспериментальных групп](#exp_value)\n",
    "\n",
    "[Шаг 4 - Изучение воронки продаж](#paragraph4)\n",
    " - [4.1 Изучение событий воронки](#41)\n",
    " - [4.2 Определение метрик событий воронки](#42)\n",
    " - [4.3 Определение последовательности событий воронки](#43)\n",
    " - [4.4 Определение конверсии воронки](#44conversion)\n",
    " - [4.5 Выявление наибольшего снижения конверсии](#45)\n",
    " - [4.6 Определение доли прошедших всю воронку пользователей](#46)\n",
    "\n",
    "[Шаг 5 - Изучение результатов эксперимента](#paragraph5)\n",
    " - [5.1 Изучение экспериментальных групп](#51)\n",
    " - [5.2 Проверка результатов А/А-теста (группы 246 и 247)](#52)\n",
    " - [5.3 Проверка отличий групп А/А-теста по событиям на стат. достоверность](#53)\n",
    " - [5.4 Проверка отличий групп А/В-теста по событиям на стат. достоверность (А1/В, А2/В, (А1+А2)/В](#54)\n",
    " - [5.5 Определение уровня значимости при проверке стат. гипотез](#55)\n",
    "\n",
    "[Шаг 6 - Выводы по проекту](#paragraph6)"
   ]
  },
  {
   "cell_type": "markdown",
   "metadata": {},
   "source": [
    "## <a id='paragrapg1'>Шаг 1. Загрузка данных</a>\n",
    "([К оглавлению](#oglav))"
   ]
  },
  {
   "cell_type": "markdown",
   "metadata": {},
   "source": [
    "### <a id='lib_import'>Импорт библиотек</a>"
   ]
  },
  {
   "cell_type": "code",
   "execution_count": 1,
   "metadata": {},
   "outputs": [],
   "source": [
    "import pandas as pd\n",
    "import numpy as np\n",
    "import math as mt\n",
    "import matplotlib.pyplot as plt\n",
    "import scipy.stats as st\n",
    "import seaborn as sns\n"
   ]
  },
  {
   "cell_type": "markdown",
   "metadata": {},
   "source": [
    "### <a id='data_download'>Загрузка файла с данными</a>"
   ]
  },
  {
   "cell_type": "code",
   "execution_count": 2,
   "metadata": {},
   "outputs": [
    {
     "data": {
      "text/html": [
       "<div>\n",
       "<style scoped>\n",
       "    .dataframe tbody tr th:only-of-type {\n",
       "        vertical-align: middle;\n",
       "    }\n",
       "\n",
       "    .dataframe tbody tr th {\n",
       "        vertical-align: top;\n",
       "    }\n",
       "\n",
       "    .dataframe thead th {\n",
       "        text-align: right;\n",
       "    }\n",
       "</style>\n",
       "<table border=\"1\" class=\"dataframe\">\n",
       "  <thead>\n",
       "    <tr style=\"text-align: right;\">\n",
       "      <th></th>\n",
       "      <th>EventName</th>\n",
       "      <th>DeviceIDHash</th>\n",
       "      <th>EventTimestamp</th>\n",
       "      <th>ExpId</th>\n",
       "    </tr>\n",
       "  </thead>\n",
       "  <tbody>\n",
       "    <tr>\n",
       "      <td>0</td>\n",
       "      <td>MainScreenAppear</td>\n",
       "      <td>4575588528974610257</td>\n",
       "      <td>1564029816</td>\n",
       "      <td>246</td>\n",
       "    </tr>\n",
       "    <tr>\n",
       "      <td>1</td>\n",
       "      <td>MainScreenAppear</td>\n",
       "      <td>7416695313311560658</td>\n",
       "      <td>1564053102</td>\n",
       "      <td>246</td>\n",
       "    </tr>\n",
       "  </tbody>\n",
       "</table>\n",
       "</div>"
      ],
      "text/plain": [
       "          EventName         DeviceIDHash  EventTimestamp  ExpId\n",
       "0  MainScreenAppear  4575588528974610257      1564029816    246\n",
       "1  MainScreenAppear  7416695313311560658      1564053102    246"
      ]
     },
     "execution_count": 2,
     "metadata": {},
     "output_type": "execute_result"
    }
   ],
   "source": [
    "d = pd.read_csv('/datasets/logs_exp.csv', sep='\\t')\n",
    "d.head(2)"
   ]
  },
  {
   "cell_type": "markdown",
   "metadata": {},
   "source": [
    "### Выводы по шагу 1\n",
    "1. Бибилиотеки импортированы, данные загружены в датафрейм d\n",
    "\n",
    "---"
   ]
  },
  {
   "cell_type": "markdown",
   "metadata": {},
   "source": [
    "## <a id='paragrapg1'>Шаг 2. Подготовка данных</a>\n",
    "([К оглавлению](#oglav))"
   ]
  },
  {
   "cell_type": "markdown",
   "metadata": {},
   "source": [
    "**Шаг 2. Подготовьте данные**\n",
    "\n",
    "1. Замените названия столбцов на удобные для вас;\n",
    "- Проверьте пропуски и типы данных. Откорректируйте, если нужно;\n",
    "- Добавьте столбец даты и времени, а также отдельный столбец дат;\n"
   ]
  },
  {
   "cell_type": "markdown",
   "metadata": {},
   "source": [
    "---\n",
    "### <a id='col_names'>2.1 Обработка названий столбцов</a>"
   ]
  },
  {
   "cell_type": "code",
   "execution_count": 3,
   "metadata": {},
   "outputs": [
    {
     "data": {
      "text/html": [
       "<div>\n",
       "<style scoped>\n",
       "    .dataframe tbody tr th:only-of-type {\n",
       "        vertical-align: middle;\n",
       "    }\n",
       "\n",
       "    .dataframe tbody tr th {\n",
       "        vertical-align: top;\n",
       "    }\n",
       "\n",
       "    .dataframe thead th {\n",
       "        text-align: right;\n",
       "    }\n",
       "</style>\n",
       "<table border=\"1\" class=\"dataframe\">\n",
       "  <thead>\n",
       "    <tr style=\"text-align: right;\">\n",
       "      <th></th>\n",
       "      <th>EventName</th>\n",
       "      <th>DeviceIDHash</th>\n",
       "      <th>EventTimestamp</th>\n",
       "      <th>ExpId</th>\n",
       "    </tr>\n",
       "  </thead>\n",
       "  <tbody>\n",
       "    <tr>\n",
       "      <td>0</td>\n",
       "      <td>MainScreenAppear</td>\n",
       "      <td>4575588528974610257</td>\n",
       "      <td>1564029816</td>\n",
       "      <td>246</td>\n",
       "    </tr>\n",
       "    <tr>\n",
       "      <td>1</td>\n",
       "      <td>MainScreenAppear</td>\n",
       "      <td>7416695313311560658</td>\n",
       "      <td>1564053102</td>\n",
       "      <td>246</td>\n",
       "    </tr>\n",
       "  </tbody>\n",
       "</table>\n",
       "</div>"
      ],
      "text/plain": [
       "          EventName         DeviceIDHash  EventTimestamp  ExpId\n",
       "0  MainScreenAppear  4575588528974610257      1564029816    246\n",
       "1  MainScreenAppear  7416695313311560658      1564053102    246"
      ]
     },
     "execution_count": 3,
     "metadata": {},
     "output_type": "execute_result"
    }
   ],
   "source": [
    "d.head(2)"
   ]
  },
  {
   "cell_type": "code",
   "execution_count": 4,
   "metadata": {},
   "outputs": [
    {
     "data": {
      "text/html": [
       "<div>\n",
       "<style scoped>\n",
       "    .dataframe tbody tr th:only-of-type {\n",
       "        vertical-align: middle;\n",
       "    }\n",
       "\n",
       "    .dataframe tbody tr th {\n",
       "        vertical-align: top;\n",
       "    }\n",
       "\n",
       "    .dataframe thead th {\n",
       "        text-align: right;\n",
       "    }\n",
       "</style>\n",
       "<table border=\"1\" class=\"dataframe\">\n",
       "  <thead>\n",
       "    <tr style=\"text-align: right;\">\n",
       "      <th></th>\n",
       "      <th>ev_name</th>\n",
       "      <th>uid</th>\n",
       "      <th>ev_dt</th>\n",
       "      <th>enum</th>\n",
       "    </tr>\n",
       "  </thead>\n",
       "  <tbody>\n",
       "    <tr>\n",
       "      <td>0</td>\n",
       "      <td>MainScreenAppear</td>\n",
       "      <td>4575588528974610257</td>\n",
       "      <td>1564029816</td>\n",
       "      <td>246</td>\n",
       "    </tr>\n",
       "    <tr>\n",
       "      <td>1</td>\n",
       "      <td>MainScreenAppear</td>\n",
       "      <td>7416695313311560658</td>\n",
       "      <td>1564053102</td>\n",
       "      <td>246</td>\n",
       "    </tr>\n",
       "  </tbody>\n",
       "</table>\n",
       "</div>"
      ],
      "text/plain": [
       "            ev_name                  uid       ev_dt  enum\n",
       "0  MainScreenAppear  4575588528974610257  1564029816   246\n",
       "1  MainScreenAppear  7416695313311560658  1564053102   246"
      ]
     },
     "execution_count": 4,
     "metadata": {},
     "output_type": "execute_result"
    }
   ],
   "source": [
    "d.columns = ['ev_name', 'uid', 'ev_dt', 'enum']\n",
    "d.head(2)"
   ]
  },
  {
   "cell_type": "markdown",
   "metadata": {},
   "source": [
    "---\n",
    "### <a id='dtype'>2.2 Проверка типов данных</a>"
   ]
  },
  {
   "cell_type": "code",
   "execution_count": 5,
   "metadata": {},
   "outputs": [
    {
     "name": "stdout",
     "output_type": "stream",
     "text": [
      "<class 'pandas.core.frame.DataFrame'>\n",
      "RangeIndex: 244126 entries, 0 to 244125\n",
      "Data columns (total 4 columns):\n",
      "ev_name    244126 non-null object\n",
      "uid        244126 non-null int64\n",
      "ev_dt      244126 non-null int64\n",
      "enum       244126 non-null int64\n",
      "dtypes: int64(3), object(1)\n",
      "memory usage: 7.5+ MB\n"
     ]
    },
    {
     "data": {
      "text/html": [
       "<div>\n",
       "<style scoped>\n",
       "    .dataframe tbody tr th:only-of-type {\n",
       "        vertical-align: middle;\n",
       "    }\n",
       "\n",
       "    .dataframe tbody tr th {\n",
       "        vertical-align: top;\n",
       "    }\n",
       "\n",
       "    .dataframe thead th {\n",
       "        text-align: right;\n",
       "    }\n",
       "</style>\n",
       "<table border=\"1\" class=\"dataframe\">\n",
       "  <thead>\n",
       "    <tr style=\"text-align: right;\">\n",
       "      <th></th>\n",
       "      <th>ev_name</th>\n",
       "      <th>uid</th>\n",
       "      <th>ev_dt</th>\n",
       "      <th>enum</th>\n",
       "    </tr>\n",
       "  </thead>\n",
       "  <tbody>\n",
       "    <tr>\n",
       "      <td>0</td>\n",
       "      <td>MainScreenAppear</td>\n",
       "      <td>4575588528974610257</td>\n",
       "      <td>2019-07-25 04:43:36</td>\n",
       "      <td>246</td>\n",
       "    </tr>\n",
       "    <tr>\n",
       "      <td>1</td>\n",
       "      <td>MainScreenAppear</td>\n",
       "      <td>7416695313311560658</td>\n",
       "      <td>2019-07-25 11:11:42</td>\n",
       "      <td>246</td>\n",
       "    </tr>\n",
       "  </tbody>\n",
       "</table>\n",
       "</div>"
      ],
      "text/plain": [
       "            ev_name                  uid               ev_dt  enum\n",
       "0  MainScreenAppear  4575588528974610257 2019-07-25 04:43:36   246\n",
       "1  MainScreenAppear  7416695313311560658 2019-07-25 11:11:42   246"
      ]
     },
     "execution_count": 5,
     "metadata": {},
     "output_type": "execute_result"
    }
   ],
   "source": [
    "d.info()\n",
    "\n",
    "# Изменим формат даты-времени с unix на обычный\n",
    "d['ev_dt'] = pd.to_datetime(d['ev_dt'],unit='s')\n",
    "d.head(2)"
   ]
  },
  {
   "cell_type": "code",
   "execution_count": 6,
   "metadata": {},
   "outputs": [
    {
     "name": "stdout",
     "output_type": "stream",
     "text": [
      "<class 'pandas.core.frame.DataFrame'>\n",
      "RangeIndex: 244126 entries, 0 to 244125\n",
      "Data columns (total 4 columns):\n",
      "ev_name    244126 non-null object\n",
      "uid        244126 non-null int64\n",
      "ev_dt      244126 non-null datetime64[ns]\n",
      "enum       244126 non-null int64\n",
      "dtypes: datetime64[ns](1), int64(2), object(1)\n",
      "memory usage: 7.5+ MB\n"
     ]
    }
   ],
   "source": [
    "d.info() # всего строк 244126"
   ]
  },
  {
   "cell_type": "markdown",
   "metadata": {},
   "source": [
    "### <a id='dropna'>2.3 Проверка пропусков и дубликатов в данных</a>"
   ]
  },
  {
   "cell_type": "code",
   "execution_count": 7,
   "metadata": {},
   "outputs": [
    {
     "data": {
      "text/plain": [
       "ev_name    0\n",
       "uid        0\n",
       "ev_dt      0\n",
       "enum       0\n",
       "dtype: int64"
      ]
     },
     "execution_count": 7,
     "metadata": {},
     "output_type": "execute_result"
    }
   ],
   "source": [
    "# Проверим, есть ли пропуски\n",
    "d.isna().sum() # Пропусков нет"
   ]
  },
  {
   "cell_type": "code",
   "execution_count": 8,
   "metadata": {},
   "outputs": [
    {
     "data": {
      "text/html": [
       "<div>\n",
       "<style scoped>\n",
       "    .dataframe tbody tr th:only-of-type {\n",
       "        vertical-align: middle;\n",
       "    }\n",
       "\n",
       "    .dataframe tbody tr th {\n",
       "        vertical-align: top;\n",
       "    }\n",
       "\n",
       "    .dataframe thead th {\n",
       "        text-align: right;\n",
       "    }\n",
       "</style>\n",
       "<table border=\"1\" class=\"dataframe\">\n",
       "  <thead>\n",
       "    <tr style=\"text-align: right;\">\n",
       "      <th></th>\n",
       "      <th>ev_name</th>\n",
       "      <th>uid</th>\n",
       "      <th>ev_dt</th>\n",
       "      <th>enum</th>\n",
       "    </tr>\n",
       "  </thead>\n",
       "  <tbody>\n",
       "    <tr>\n",
       "      <td>453</td>\n",
       "      <td>MainScreenAppear</td>\n",
       "      <td>5613408041324010552</td>\n",
       "      <td>2019-07-30 08:19:44</td>\n",
       "      <td>248</td>\n",
       "    </tr>\n",
       "    <tr>\n",
       "      <td>2350</td>\n",
       "      <td>CartScreenAppear</td>\n",
       "      <td>1694940645335807244</td>\n",
       "      <td>2019-07-31 21:51:39</td>\n",
       "      <td>248</td>\n",
       "    </tr>\n",
       "    <tr>\n",
       "      <td>3573</td>\n",
       "      <td>MainScreenAppear</td>\n",
       "      <td>434103746454591587</td>\n",
       "      <td>2019-08-01 02:59:37</td>\n",
       "      <td>248</td>\n",
       "    </tr>\n",
       "    <tr>\n",
       "      <td>4076</td>\n",
       "      <td>MainScreenAppear</td>\n",
       "      <td>3761373764179762633</td>\n",
       "      <td>2019-08-01 03:47:46</td>\n",
       "      <td>247</td>\n",
       "    </tr>\n",
       "    <tr>\n",
       "      <td>4803</td>\n",
       "      <td>MainScreenAppear</td>\n",
       "      <td>2835328739789306622</td>\n",
       "      <td>2019-08-01 04:44:01</td>\n",
       "      <td>248</td>\n",
       "    </tr>\n",
       "    <tr>\n",
       "      <td>...</td>\n",
       "      <td>...</td>\n",
       "      <td>...</td>\n",
       "      <td>...</td>\n",
       "      <td>...</td>\n",
       "    </tr>\n",
       "    <tr>\n",
       "      <td>242329</td>\n",
       "      <td>MainScreenAppear</td>\n",
       "      <td>8870358373313968633</td>\n",
       "      <td>2019-08-07 19:26:44</td>\n",
       "      <td>247</td>\n",
       "    </tr>\n",
       "    <tr>\n",
       "      <td>242332</td>\n",
       "      <td>PaymentScreenSuccessful</td>\n",
       "      <td>4718002964983105693</td>\n",
       "      <td>2019-08-07 19:26:45</td>\n",
       "      <td>247</td>\n",
       "    </tr>\n",
       "    <tr>\n",
       "      <td>242360</td>\n",
       "      <td>PaymentScreenSuccessful</td>\n",
       "      <td>2382591782303281935</td>\n",
       "      <td>2019-08-07 19:27:29</td>\n",
       "      <td>246</td>\n",
       "    </tr>\n",
       "    <tr>\n",
       "      <td>242362</td>\n",
       "      <td>CartScreenAppear</td>\n",
       "      <td>2382591782303281935</td>\n",
       "      <td>2019-08-07 19:27:29</td>\n",
       "      <td>246</td>\n",
       "    </tr>\n",
       "    <tr>\n",
       "      <td>242635</td>\n",
       "      <td>MainScreenAppear</td>\n",
       "      <td>4097782667445790512</td>\n",
       "      <td>2019-08-07 19:36:58</td>\n",
       "      <td>246</td>\n",
       "    </tr>\n",
       "  </tbody>\n",
       "</table>\n",
       "<p>413 rows × 4 columns</p>\n",
       "</div>"
      ],
      "text/plain": [
       "                        ev_name                  uid               ev_dt  enum\n",
       "453            MainScreenAppear  5613408041324010552 2019-07-30 08:19:44   248\n",
       "2350           CartScreenAppear  1694940645335807244 2019-07-31 21:51:39   248\n",
       "3573           MainScreenAppear   434103746454591587 2019-08-01 02:59:37   248\n",
       "4076           MainScreenAppear  3761373764179762633 2019-08-01 03:47:46   247\n",
       "4803           MainScreenAppear  2835328739789306622 2019-08-01 04:44:01   248\n",
       "...                         ...                  ...                 ...   ...\n",
       "242329         MainScreenAppear  8870358373313968633 2019-08-07 19:26:44   247\n",
       "242332  PaymentScreenSuccessful  4718002964983105693 2019-08-07 19:26:45   247\n",
       "242360  PaymentScreenSuccessful  2382591782303281935 2019-08-07 19:27:29   246\n",
       "242362         CartScreenAppear  2382591782303281935 2019-08-07 19:27:29   246\n",
       "242635         MainScreenAppear  4097782667445790512 2019-08-07 19:36:58   246\n",
       "\n",
       "[413 rows x 4 columns]"
      ]
     },
     "execution_count": 8,
     "metadata": {},
     "output_type": "execute_result"
    }
   ],
   "source": [
    "# Проверим, есть ли дубликаты\n",
    "d[d[['ev_name','uid', 'ev_dt', 'enum']].duplicated() == True] # дубликаты есть !!!"
   ]
  },
  {
   "cell_type": "code",
   "execution_count": 9,
   "metadata": {},
   "outputs": [
    {
     "data": {
      "text/html": [
       "<div>\n",
       "<style scoped>\n",
       "    .dataframe tbody tr th:only-of-type {\n",
       "        vertical-align: middle;\n",
       "    }\n",
       "\n",
       "    .dataframe tbody tr th {\n",
       "        vertical-align: top;\n",
       "    }\n",
       "\n",
       "    .dataframe thead th {\n",
       "        text-align: right;\n",
       "    }\n",
       "</style>\n",
       "<table border=\"1\" class=\"dataframe\">\n",
       "  <thead>\n",
       "    <tr style=\"text-align: right;\">\n",
       "      <th></th>\n",
       "      <th>ev_name</th>\n",
       "      <th>uid</th>\n",
       "      <th>ev_dt</th>\n",
       "      <th>enum</th>\n",
       "    </tr>\n",
       "  </thead>\n",
       "  <tbody>\n",
       "    <tr>\n",
       "      <td>3572</td>\n",
       "      <td>MainScreenAppear</td>\n",
       "      <td>434103746454591587</td>\n",
       "      <td>2019-08-01 02:59:37</td>\n",
       "      <td>248</td>\n",
       "    </tr>\n",
       "    <tr>\n",
       "      <td>3573</td>\n",
       "      <td>MainScreenAppear</td>\n",
       "      <td>434103746454591587</td>\n",
       "      <td>2019-08-01 02:59:37</td>\n",
       "      <td>248</td>\n",
       "    </tr>\n",
       "  </tbody>\n",
       "</table>\n",
       "</div>"
      ],
      "text/plain": [
       "               ev_name                 uid               ev_dt  enum\n",
       "3572  MainScreenAppear  434103746454591587 2019-08-01 02:59:37   248\n",
       "3573  MainScreenAppear  434103746454591587 2019-08-01 02:59:37   248"
      ]
     },
     "execution_count": 9,
     "metadata": {},
     "output_type": "execute_result"
    }
   ],
   "source": [
    "d[(d['uid']==434103746454591587)&(d['ev_dt'] == '2019-08-01 02:59:37')]"
   ]
  },
  {
   "cell_type": "code",
   "execution_count": 10,
   "metadata": {},
   "outputs": [
    {
     "data": {
      "text/html": [
       "<div>\n",
       "<style scoped>\n",
       "    .dataframe tbody tr th:only-of-type {\n",
       "        vertical-align: middle;\n",
       "    }\n",
       "\n",
       "    .dataframe tbody tr th {\n",
       "        vertical-align: top;\n",
       "    }\n",
       "\n",
       "    .dataframe thead th {\n",
       "        text-align: right;\n",
       "    }\n",
       "</style>\n",
       "<table border=\"1\" class=\"dataframe\">\n",
       "  <thead>\n",
       "    <tr style=\"text-align: right;\">\n",
       "      <th></th>\n",
       "      <th>ev_name</th>\n",
       "      <th>uid</th>\n",
       "      <th>ev_dt</th>\n",
       "      <th>enum</th>\n",
       "    </tr>\n",
       "  </thead>\n",
       "  <tbody>\n",
       "    <tr>\n",
       "      <td>3572</td>\n",
       "      <td>MainScreenAppear</td>\n",
       "      <td>434103746454591587</td>\n",
       "      <td>2019-08-01 02:59:37</td>\n",
       "      <td>248</td>\n",
       "    </tr>\n",
       "  </tbody>\n",
       "</table>\n",
       "</div>"
      ],
      "text/plain": [
       "               ev_name                 uid               ev_dt  enum\n",
       "3572  MainScreenAppear  434103746454591587 2019-08-01 02:59:37   248"
      ]
     },
     "execution_count": 10,
     "metadata": {},
     "output_type": "execute_result"
    }
   ],
   "source": [
    "# Удалим дубликаты строк\n",
    "d = d.drop_duplicates()\n",
    "d[(d['uid']==434103746454591587)&(d['ev_dt'] == '2019-08-01 02:59:37')]"
   ]
  },
  {
   "cell_type": "code",
   "execution_count": 11,
   "metadata": {},
   "outputs": [
    {
     "data": {
      "text/plain": [
       "0.1691749342552562"
      ]
     },
     "execution_count": 11,
     "metadata": {},
     "output_type": "execute_result"
    }
   ],
   "source": [
    "(1 - len(d) / 244126)*100 # удалили менее 0.2% строк"
   ]
  },
  {
   "cell_type": "markdown",
   "metadata": {},
   "source": [
    "---\n",
    "### <a id='col_date'>2.3 Добавление столбца с датой</a>"
   ]
  },
  {
   "cell_type": "code",
   "execution_count": 12,
   "metadata": {},
   "outputs": [
    {
     "data": {
      "text/html": [
       "<div>\n",
       "<style scoped>\n",
       "    .dataframe tbody tr th:only-of-type {\n",
       "        vertical-align: middle;\n",
       "    }\n",
       "\n",
       "    .dataframe tbody tr th {\n",
       "        vertical-align: top;\n",
       "    }\n",
       "\n",
       "    .dataframe thead th {\n",
       "        text-align: right;\n",
       "    }\n",
       "</style>\n",
       "<table border=\"1\" class=\"dataframe\">\n",
       "  <thead>\n",
       "    <tr style=\"text-align: right;\">\n",
       "      <th></th>\n",
       "      <th>ev_name</th>\n",
       "      <th>uid</th>\n",
       "      <th>ev_dt</th>\n",
       "      <th>enum</th>\n",
       "      <th>ev_date</th>\n",
       "    </tr>\n",
       "  </thead>\n",
       "  <tbody>\n",
       "    <tr>\n",
       "      <td>0</td>\n",
       "      <td>MainScreenAppear</td>\n",
       "      <td>4575588528974610257</td>\n",
       "      <td>2019-07-25 04:43:36</td>\n",
       "      <td>246</td>\n",
       "      <td>2019-07-25</td>\n",
       "    </tr>\n",
       "    <tr>\n",
       "      <td>1</td>\n",
       "      <td>MainScreenAppear</td>\n",
       "      <td>7416695313311560658</td>\n",
       "      <td>2019-07-25 11:11:42</td>\n",
       "      <td>246</td>\n",
       "      <td>2019-07-25</td>\n",
       "    </tr>\n",
       "    <tr>\n",
       "      <td>2</td>\n",
       "      <td>PaymentScreenSuccessful</td>\n",
       "      <td>3518123091307005509</td>\n",
       "      <td>2019-07-25 11:28:47</td>\n",
       "      <td>248</td>\n",
       "      <td>2019-07-25</td>\n",
       "    </tr>\n",
       "  </tbody>\n",
       "</table>\n",
       "</div>"
      ],
      "text/plain": [
       "                   ev_name                  uid               ev_dt  enum  \\\n",
       "0         MainScreenAppear  4575588528974610257 2019-07-25 04:43:36   246   \n",
       "1         MainScreenAppear  7416695313311560658 2019-07-25 11:11:42   246   \n",
       "2  PaymentScreenSuccessful  3518123091307005509 2019-07-25 11:28:47   248   \n",
       "\n",
       "      ev_date  \n",
       "0  2019-07-25  \n",
       "1  2019-07-25  \n",
       "2  2019-07-25  "
      ]
     },
     "execution_count": 12,
     "metadata": {},
     "output_type": "execute_result"
    }
   ],
   "source": [
    "d['ev_date'] =  d['ev_dt'].dt.date\n",
    "d.head(3)"
   ]
  },
  {
   "cell_type": "code",
   "execution_count": 13,
   "metadata": {},
   "outputs": [
    {
     "data": {
      "text/html": [
       "<div>\n",
       "<style scoped>\n",
       "    .dataframe tbody tr th:only-of-type {\n",
       "        vertical-align: middle;\n",
       "    }\n",
       "\n",
       "    .dataframe tbody tr th {\n",
       "        vertical-align: top;\n",
       "    }\n",
       "\n",
       "    .dataframe thead th {\n",
       "        text-align: right;\n",
       "    }\n",
       "</style>\n",
       "<table border=\"1\" class=\"dataframe\">\n",
       "  <thead>\n",
       "    <tr style=\"text-align: right;\">\n",
       "      <th></th>\n",
       "      <th>ev_name</th>\n",
       "      <th>uid</th>\n",
       "      <th>ev_dt</th>\n",
       "      <th>enum</th>\n",
       "      <th>ev_date</th>\n",
       "      <th>ev_time</th>\n",
       "    </tr>\n",
       "  </thead>\n",
       "  <tbody>\n",
       "    <tr>\n",
       "      <td>0</td>\n",
       "      <td>MainScreenAppear</td>\n",
       "      <td>4575588528974610257</td>\n",
       "      <td>2019-07-25 04:43:36</td>\n",
       "      <td>246</td>\n",
       "      <td>2019-07-25</td>\n",
       "      <td>2019-07-25 04:44:00</td>\n",
       "    </tr>\n",
       "    <tr>\n",
       "      <td>1</td>\n",
       "      <td>MainScreenAppear</td>\n",
       "      <td>7416695313311560658</td>\n",
       "      <td>2019-07-25 11:11:42</td>\n",
       "      <td>246</td>\n",
       "      <td>2019-07-25</td>\n",
       "      <td>2019-07-25 11:12:00</td>\n",
       "    </tr>\n",
       "    <tr>\n",
       "      <td>2</td>\n",
       "      <td>PaymentScreenSuccessful</td>\n",
       "      <td>3518123091307005509</td>\n",
       "      <td>2019-07-25 11:28:47</td>\n",
       "      <td>248</td>\n",
       "      <td>2019-07-25</td>\n",
       "      <td>2019-07-25 11:29:00</td>\n",
       "    </tr>\n",
       "  </tbody>\n",
       "</table>\n",
       "</div>"
      ],
      "text/plain": [
       "                   ev_name                  uid               ev_dt  enum  \\\n",
       "0         MainScreenAppear  4575588528974610257 2019-07-25 04:43:36   246   \n",
       "1         MainScreenAppear  7416695313311560658 2019-07-25 11:11:42   246   \n",
       "2  PaymentScreenSuccessful  3518123091307005509 2019-07-25 11:28:47   248   \n",
       "\n",
       "      ev_date             ev_time  \n",
       "0  2019-07-25 2019-07-25 04:44:00  \n",
       "1  2019-07-25 2019-07-25 11:12:00  \n",
       "2  2019-07-25 2019-07-25 11:29:00  "
      ]
     },
     "execution_count": 13,
     "metadata": {},
     "output_type": "execute_result"
    }
   ],
   "source": [
    "### ДОПОЛНИТЕЛЬНО ###\n",
    "\n",
    "### Добавим столбец с временем\n",
    "d['ev_time'] =  d['ev_dt'].dt.round('min')\n",
    "d.head(3)"
   ]
  },
  {
   "cell_type": "markdown",
   "metadata": {},
   "source": [
    "### Выводы по шагу 2\n",
    "1. Переименованы названия столбцов\n",
    "- Изменён формат даты\n",
    "- Пропуски не выявлены. Дубликаты удалены\n",
    "- Добавлен столбец с датой события (без указания времени)\n",
    "\n",
    "---"
   ]
  },
  {
   "cell_type": "markdown",
   "metadata": {},
   "source": [
    "## <a id='paragraph3'>Шаг 3. Изучение и проверка данных</a>\n",
    "([К оглавлению](#oglav))"
   ]
  },
  {
   "cell_type": "markdown",
   "metadata": {},
   "source": [
    "[Шаг 3 - Изучение и проверка данных](#paragraph3)\n",
    " - [3.1 Расчёт данных в логе](#metrics)\n",
    " - [3.2 Определение периода сбора данных в логе](#period)\n",
    " - [3.3 Уточненные число событий и пользователей](#metrics_upd)\n",
    " - [3.4 Проверка размеров экспериментальных групп](#exp_value)"
   ]
  },
  {
   "cell_type": "markdown",
   "metadata": {},
   "source": [
    "---\n",
    "### <a id='metrics'>3.1 Расчёт данных в логе</a>"
   ]
  },
  {
   "cell_type": "markdown",
   "metadata": {},
   "source": [
    "1. Сколько всего событий в логе?\n",
    "- Сколько всего пользователей в логе?\n",
    "- Сколько в среднем событий приходится на пользователя?"
   ]
  },
  {
   "cell_type": "code",
   "execution_count": 14,
   "metadata": {},
   "outputs": [
    {
     "data": {
      "text/plain": [
       "243713"
      ]
     },
     "execution_count": 14,
     "metadata": {},
     "output_type": "execute_result"
    }
   ],
   "source": [
    "# Определим число событий в логе\n",
    "len(d)"
   ]
  },
  {
   "cell_type": "code",
   "execution_count": 15,
   "metadata": {},
   "outputs": [
    {
     "data": {
      "text/plain": [
       "7551"
      ]
     },
     "execution_count": 15,
     "metadata": {},
     "output_type": "execute_result"
    }
   ],
   "source": [
    "# Определим число уникальных пользователей\n",
    "d['uid'].nunique()"
   ]
  },
  {
   "cell_type": "code",
   "execution_count": 16,
   "metadata": {},
   "outputs": [
    {
     "data": {
      "text/html": [
       "<div>\n",
       "<style scoped>\n",
       "    .dataframe tbody tr th:only-of-type {\n",
       "        vertical-align: middle;\n",
       "    }\n",
       "\n",
       "    .dataframe tbody tr th {\n",
       "        vertical-align: top;\n",
       "    }\n",
       "\n",
       "    .dataframe thead th {\n",
       "        text-align: right;\n",
       "    }\n",
       "</style>\n",
       "<table border=\"1\" class=\"dataframe\">\n",
       "  <thead>\n",
       "    <tr style=\"text-align: right;\">\n",
       "      <th></th>\n",
       "      <th>mean</th>\n",
       "      <th>median</th>\n",
       "    </tr>\n",
       "  </thead>\n",
       "  <tbody>\n",
       "    <tr>\n",
       "      <td>enum</td>\n",
       "      <td>32.275593</td>\n",
       "      <td>20.0</td>\n",
       "    </tr>\n",
       "  </tbody>\n",
       "</table>\n",
       "</div>"
      ],
      "text/plain": [
       "           mean  median\n",
       "enum  32.275593    20.0"
      ]
     },
     "execution_count": 16,
     "metadata": {},
     "output_type": "execute_result"
    }
   ],
   "source": [
    "# Определим, сколько в среднем событий приходится на пользователя\n",
    "d.groupby('uid').agg({'enum':'count'}).agg({'enum':['mean', 'median']}).T"
   ]
  },
  {
   "cell_type": "code",
   "execution_count": 17,
   "metadata": {},
   "outputs": [
    {
     "data": {
      "image/png": "[encoded data removed]",
      "text/plain": [
       "<Figure size 1008x288 with 1 Axes>"
      ]
     },
     "metadata": {
      "needs_background": "light"
     },
     "output_type": "display_data"
    }
   ],
   "source": [
    "# Для наглядности построим кривую распределения\n",
    "d.groupby('uid').agg({'enum':'count'}).plot.hist(bins=200, grid=True, figsize=(14,4),\n",
    "                                                title='Распределение числа событий по пользователям')\n",
    "plt.xlabel('Число событий у одного пользователя')\n",
    "plt.ylabel('Количество пользователей');"
   ]
  },
  {
   "cell_type": "markdown",
   "metadata": {},
   "source": [
    "#### Вывод по задаче 3.1\n",
    "1. Всего в логе 243 713 событий\n",
    "- Всего в логе 7551 уникальных пользователей\n",
    "- В среднем на одного пользователя приходится около 20 событий, но данные очень неоднородные, далеки от нормального распределения."
   ]
  },
  {
   "cell_type": "markdown",
   "metadata": {},
   "source": [
    "---\n",
    "### <a id='period'>3.2 Определение периода сбора данных в логе</a>"
   ]
  },
  {
   "cell_type": "markdown",
   "metadata": {},
   "source": [
    "1. Данными за какой период вы располагаете? \n",
    "- Найдите максимальную и минимальную дату. \n",
    "- Постройте гистограмму по дате и времени. \n",
    "- Можно ли быть уверенным, что у вас одинаково полные данные за весь период? \n",
    "- Технически в логи новых дней по некоторым пользователям могут «доезжать» события из прошлого — это может «перекашивать данные». \n",
    "- Определите, с какого момента данные полные и отбросьте более старые. \n",
    "- Данными за какой период времени вы располагаете на самом деле?"
   ]
  },
  {
   "cell_type": "code",
   "execution_count": 18,
   "metadata": {},
   "outputs": [
    {
     "data": {
      "text/html": [
       "<div>\n",
       "<style scoped>\n",
       "    .dataframe tbody tr th:only-of-type {\n",
       "        vertical-align: middle;\n",
       "    }\n",
       "\n",
       "    .dataframe tbody tr th {\n",
       "        vertical-align: top;\n",
       "    }\n",
       "\n",
       "    .dataframe thead th {\n",
       "        text-align: right;\n",
       "    }\n",
       "</style>\n",
       "<table border=\"1\" class=\"dataframe\">\n",
       "  <thead>\n",
       "    <tr style=\"text-align: right;\">\n",
       "      <th></th>\n",
       "      <th>min</th>\n",
       "      <th>max</th>\n",
       "    </tr>\n",
       "  </thead>\n",
       "  <tbody>\n",
       "    <tr>\n",
       "      <td>ev_date</td>\n",
       "      <td>2019-07-25</td>\n",
       "      <td>2019-08-07</td>\n",
       "    </tr>\n",
       "  </tbody>\n",
       "</table>\n",
       "</div>"
      ],
      "text/plain": [
       "                min         max\n",
       "ev_date  2019-07-25  2019-08-07"
      ]
     },
     "execution_count": 18,
     "metadata": {},
     "output_type": "execute_result"
    }
   ],
   "source": [
    "# Посмотрим на даты по всем событиям\n",
    "d.agg({'ev_date':['min', 'max']}).T"
   ]
  },
  {
   "cell_type": "code",
   "execution_count": 19,
   "metadata": {},
   "outputs": [
    {
     "data": {
      "text/plain": [
       "datetime.timedelta(days=13)"
      ]
     },
     "execution_count": 19,
     "metadata": {},
     "output_type": "execute_result"
    }
   ],
   "source": [
    "d['ev_date'].max() - d['ev_date'].min() "
   ]
  },
  {
   "cell_type": "code",
   "execution_count": 20,
   "metadata": {},
   "outputs": [
    {
     "data": {
      "text/plain": [
       "14"
      ]
     },
     "execution_count": 20,
     "metadata": {},
     "output_type": "execute_result"
    }
   ],
   "source": [
    "# Всего даты в логе\n",
    "d['ev_date'].nunique()"
   ]
  },
  {
   "cell_type": "code",
   "execution_count": 21,
   "metadata": {},
   "outputs": [
    {
     "data": {
      "image/png": "[encoded data removed]",
      "text/plain": [
       "<Figure size 1152x288 with 1 Axes>"
      ]
     },
     "metadata": {
      "needs_background": "light"
     },
     "output_type": "display_data"
    }
   ],
   "source": [
    "d['ev_date'].hist(figsize=(16,4), bins=d['ev_date'].nunique())\n",
    "plt.xticks(rotation=45)\n",
    "plt.title('Распределение данных о событиях в логе по датам')\n",
    "plt.xlabel('Дата события'); plt.ylabel('Число событий');"
   ]
  },
  {
   "cell_type": "markdown",
   "metadata": {},
   "source": [
    "Из графика выше видно, что данные в период с 25.07 по 31.07 являются неполными."
   ]
  },
  {
   "cell_type": "code",
   "execution_count": 22,
   "metadata": {},
   "outputs": [
    {
     "data": {
      "text/plain": [
       "33282"
      ]
     },
     "execution_count": 22,
     "metadata": {},
     "output_type": "execute_result"
    }
   ],
   "source": [
    "# Сравним число событий в день из разных периодов\n",
    "d[d['ev_date'] == pd.to_datetime('2019-07-27')]['enum'].count() # 55\n",
    "d[d['ev_date'] == pd.to_datetime('2019-08-03')]['enum'].count() # 33282"
   ]
  },
  {
   "cell_type": "markdown",
   "metadata": {},
   "source": [
    "Очевидно, что число событий в разные периоды несопоставимы между собой.\n",
    "\n",
    "--> Для анализа возьмём только данные, начиная с 2019-08-01 (остальное удалим)"
   ]
  },
  {
   "cell_type": "code",
   "execution_count": 23,
   "metadata": {},
   "outputs": [
    {
     "data": {
      "text/html": [
       "<div>\n",
       "<style scoped>\n",
       "    .dataframe tbody tr th:only-of-type {\n",
       "        vertical-align: middle;\n",
       "    }\n",
       "\n",
       "    .dataframe tbody tr th {\n",
       "        vertical-align: top;\n",
       "    }\n",
       "\n",
       "    .dataframe thead th {\n",
       "        text-align: right;\n",
       "    }\n",
       "</style>\n",
       "<table border=\"1\" class=\"dataframe\">\n",
       "  <thead>\n",
       "    <tr style=\"text-align: right;\">\n",
       "      <th></th>\n",
       "      <th>min</th>\n",
       "      <th>max</th>\n",
       "    </tr>\n",
       "  </thead>\n",
       "  <tbody>\n",
       "    <tr>\n",
       "      <td>ev_date</td>\n",
       "      <td>2019-08-01</td>\n",
       "      <td>2019-08-07</td>\n",
       "    </tr>\n",
       "  </tbody>\n",
       "</table>\n",
       "</div>"
      ],
      "text/plain": [
       "                min         max\n",
       "ev_date  2019-08-01  2019-08-07"
      ]
     },
     "execution_count": 23,
     "metadata": {},
     "output_type": "execute_result"
    }
   ],
   "source": [
    "dl = d.loc[d['ev_date'] >= pd.to_datetime('2019-08-01')].copy()\n",
    "dl.agg({'ev_date':['min','max']}).T"
   ]
  },
  {
   "cell_type": "code",
   "execution_count": 24,
   "metadata": {},
   "outputs": [
    {
     "data": {
      "image/png": "[encoded data removed]",
      "text/plain": [
       "<Figure size 1152x288 with 1 Axes>"
      ]
     },
     "metadata": {
      "needs_background": "light"
     },
     "output_type": "display_data"
    }
   ],
   "source": [
    "dl['ev_time'].hist(figsize=(16,4), bins=200)\n",
    "plt.xticks(rotation=45)\n",
    "plt.title('Распределение данных о событиях в логе по дате и времени \\n(с 1 по 8 августа 2019 года по часам)')\n",
    "plt.xlabel('Дата-время события'); plt.ylabel('Число событий');"
   ]
  },
  {
   "cell_type": "markdown",
   "metadata": {},
   "source": [
    "---\n",
    "### <a id='metrics_upd'>3.3 Уточнённое число событий и пользователей</a>"
   ]
  },
  {
   "cell_type": "markdown",
   "metadata": {},
   "source": [
    "Посмотрим, насколько изменились метрики после изменения исходных данных"
   ]
  },
  {
   "cell_type": "code",
   "execution_count": 25,
   "metadata": {},
   "outputs": [
    {
     "data": {
      "text/plain": [
       "17"
      ]
     },
     "execution_count": 25,
     "metadata": {},
     "output_type": "execute_result"
    }
   ],
   "source": [
    "# Сравним число уникальных пользователей\n",
    "d['uid'].nunique() # 7551\n",
    "dl['uid'].nunique() # 7534\n",
    "(1 - dl['uid'].nunique() / d['uid'].nunique())*100 # Потери в уникальных пользователях - около 0.22%\n",
    "d['uid'].nunique() - dl['uid'].nunique() # всего 17 пользователей"
   ]
  },
  {
   "cell_type": "code",
   "execution_count": 26,
   "metadata": {},
   "outputs": [
    {
     "data": {
      "text/plain": [
       "2826"
      ]
     },
     "execution_count": 26,
     "metadata": {},
     "output_type": "execute_result"
    }
   ],
   "source": [
    "# Сравним число событий\n",
    "len(d) # 243713\n",
    "len(dl) # 240887\n",
    "(1 - len(dl)/len(d))*100 # число событий уменьшилось на 1.15%\n",
    "len(d)-len(dl) # или на 2826 штук"
   ]
  },
  {
   "cell_type": "markdown",
   "metadata": {},
   "source": [
    "---\n",
    "### <a id='exp_value'>3.4 Проверка размеров экспериментальных групп</a>"
   ]
  },
  {
   "cell_type": "markdown",
   "metadata": {},
   "source": [
    "Проверим наличие информации о событиях пользователей всех трёх экспериментальных групп."
   ]
  },
  {
   "cell_type": "code",
   "execution_count": 27,
   "metadata": {},
   "outputs": [
    {
     "data": {
      "text/html": [
       "<div>\n",
       "<style scoped>\n",
       "    .dataframe tbody tr th:only-of-type {\n",
       "        vertical-align: middle;\n",
       "    }\n",
       "\n",
       "    .dataframe tbody tr th {\n",
       "        vertical-align: top;\n",
       "    }\n",
       "\n",
       "    .dataframe thead th {\n",
       "        text-align: right;\n",
       "    }\n",
       "</style>\n",
       "<table border=\"1\" class=\"dataframe\">\n",
       "  <thead>\n",
       "    <tr style=\"text-align: right;\">\n",
       "      <th></th>\n",
       "      <th>uid</th>\n",
       "    </tr>\n",
       "    <tr>\n",
       "      <th>enum</th>\n",
       "      <th></th>\n",
       "    </tr>\n",
       "  </thead>\n",
       "  <tbody>\n",
       "    <tr>\n",
       "      <td>246</td>\n",
       "      <td>2484</td>\n",
       "    </tr>\n",
       "    <tr>\n",
       "      <td>247</td>\n",
       "      <td>2513</td>\n",
       "    </tr>\n",
       "    <tr>\n",
       "      <td>248</td>\n",
       "      <td>2537</td>\n",
       "    </tr>\n",
       "  </tbody>\n",
       "</table>\n",
       "</div>"
      ],
      "text/plain": [
       "       uid\n",
       "enum      \n",
       "246   2484\n",
       "247   2513\n",
       "248   2537"
      ]
     },
     "execution_count": 27,
     "metadata": {},
     "output_type": "execute_result"
    }
   ],
   "source": [
    "dl.groupby('enum')['uid'].nunique().to_frame()"
   ]
  },
  {
   "cell_type": "markdown",
   "metadata": {},
   "source": [
    "### Выводы по шагу 3\n",
    "1. В исходном логе представлены данные за период с 27 июля по 8 августа 2019 года.\n",
    "- Детальное изучение данных показало, что число данных в период до 1 августа многократне меньше, чем то же число в период после 1 августа.\n",
    "- Для дальнейшего анализа возьмём период с 01-08-2019 по 08-08-2019, при этом потери составят всего 0.22% уникальных пользователей или 1.15% от общего числа событий\n",
    "- В измененном датасете содержится информация о примерно равном числе пользователей по экспериментальным группам.\n",
    "\n",
    "---"
   ]
  },
  {
   "cell_type": "markdown",
   "metadata": {},
   "source": [
    "## <a id='paragraph4'>Шаг 4. Изучение воронки продаж</a>\n",
    "([К оглавлению](#oglav))"
   ]
  },
  {
   "cell_type": "markdown",
   "metadata": {},
   "source": [
    "[Шаг 4 - Изучение воронки продаж](#paragraph4)\n",
    " - [4.1 Изучение событий воронки](#41)\n",
    " - [4.2 Определение метрик событий воронки](#42)\n",
    " - [4.3 Определение последовательности событий воронки](#43)\n",
    " - [4.4 Определение конверсии воронки](#44conversion)\n",
    " - [4.5 Выявление наибольшего снижения конверсии](#45)\n",
    " - [4.6 Определение доли прошедших всх воронку пользователей](#46)"
   ]
  },
  {
   "cell_type": "markdown",
   "metadata": {},
   "source": [
    "---\n",
    "### <a id='41'>4.1 Изучение событий воронки</a>"
   ]
  },
  {
   "cell_type": "markdown",
   "metadata": {},
   "source": [
    "Посмотрите, какие события есть в логах, как часто они встречаются. Отсортируйте события по частоте."
   ]
  },
  {
   "cell_type": "code",
   "execution_count": 28,
   "metadata": {},
   "outputs": [
    {
     "data": {
      "text/html": [
       "<div>\n",
       "<style scoped>\n",
       "    .dataframe tbody tr th:only-of-type {\n",
       "        vertical-align: middle;\n",
       "    }\n",
       "\n",
       "    .dataframe tbody tr th {\n",
       "        vertical-align: top;\n",
       "    }\n",
       "\n",
       "    .dataframe thead th {\n",
       "        text-align: right;\n",
       "    }\n",
       "</style>\n",
       "<table border=\"1\" class=\"dataframe\">\n",
       "  <thead>\n",
       "    <tr style=\"text-align: right;\">\n",
       "      <th></th>\n",
       "      <th>ev_name</th>\n",
       "    </tr>\n",
       "  </thead>\n",
       "  <tbody>\n",
       "    <tr>\n",
       "      <td>MainScreenAppear</td>\n",
       "      <td>117328</td>\n",
       "    </tr>\n",
       "    <tr>\n",
       "      <td>OffersScreenAppear</td>\n",
       "      <td>46333</td>\n",
       "    </tr>\n",
       "    <tr>\n",
       "      <td>CartScreenAppear</td>\n",
       "      <td>42303</td>\n",
       "    </tr>\n",
       "    <tr>\n",
       "      <td>PaymentScreenSuccessful</td>\n",
       "      <td>33918</td>\n",
       "    </tr>\n",
       "    <tr>\n",
       "      <td>Tutorial</td>\n",
       "      <td>1005</td>\n",
       "    </tr>\n",
       "  </tbody>\n",
       "</table>\n",
       "</div>"
      ],
      "text/plain": [
       "                         ev_name\n",
       "MainScreenAppear          117328\n",
       "OffersScreenAppear         46333\n",
       "CartScreenAppear           42303\n",
       "PaymentScreenSuccessful    33918\n",
       "Tutorial                    1005"
      ]
     },
     "execution_count": 28,
     "metadata": {},
     "output_type": "execute_result"
    }
   ],
   "source": [
    "dl['ev_name'].value_counts().to_frame()"
   ]
  },
  {
   "cell_type": "code",
   "execution_count": 30,
   "metadata": {},
   "outputs": [
    {
     "data": {
      "text/html": [
       "<div>\n",
       "<style scoped>\n",
       "    .dataframe tbody tr th:only-of-type {\n",
       "        vertical-align: middle;\n",
       "    }\n",
       "\n",
       "    .dataframe tbody tr th {\n",
       "        vertical-align: top;\n",
       "    }\n",
       "\n",
       "    .dataframe thead th {\n",
       "        text-align: right;\n",
       "    }\n",
       "</style>\n",
       "<table border=\"1\" class=\"dataframe\">\n",
       "  <thead>\n",
       "    <tr style=\"text-align: right;\">\n",
       "      <th></th>\n",
       "      <th>ev_name</th>\n",
       "      <th>ev_nameRu</th>\n",
       "    </tr>\n",
       "  </thead>\n",
       "  <tbody>\n",
       "    <tr>\n",
       "      <td>0</td>\n",
       "      <td>MainScreenAppear</td>\n",
       "      <td>Главный экран</td>\n",
       "    </tr>\n",
       "    <tr>\n",
       "      <td>1</td>\n",
       "      <td>OffersScreenAppear</td>\n",
       "      <td>Страница заказа</td>\n",
       "    </tr>\n",
       "    <tr>\n",
       "      <td>2</td>\n",
       "      <td>CartScreenAppear</td>\n",
       "      <td>Карточка товаров</td>\n",
       "    </tr>\n",
       "    <tr>\n",
       "      <td>3</td>\n",
       "      <td>PaymentScreenSuccessful</td>\n",
       "      <td>Успешная оплата</td>\n",
       "    </tr>\n",
       "    <tr>\n",
       "      <td>4</td>\n",
       "      <td>Tutorial</td>\n",
       "      <td>Инструкция</td>\n",
       "    </tr>\n",
       "  </tbody>\n",
       "</table>\n",
       "</div>"
      ],
      "text/plain": [
       "                   ev_name         ev_nameRu\n",
       "0         MainScreenAppear     Главный экран\n",
       "1       OffersScreenAppear   Страница заказа\n",
       "2         CartScreenAppear  Карточка товаров\n",
       "3  PaymentScreenSuccessful   Успешная оплата\n",
       "4                 Tutorial        Инструкция"
      ]
     },
     "execution_count": 30,
     "metadata": {},
     "output_type": "execute_result"
    }
   ],
   "source": [
    "events = pd.DataFrame({'ev_name':['MainScreenAppear','OffersScreenAppear',\n",
    "                         'CartScreenAppear','PaymentScreenSuccessful','Tutorial'],\n",
    "             'ev_nameRu':['Главный экран','Страница заказа','Карточка товаров',\n",
    "                          'Успешная оплата','Инструкция'],\n",
    "             })\n",
    "events"
   ]
  },
  {
   "cell_type": "markdown",
   "metadata": {},
   "source": [
    "---\n",
    "### <a id='42'>4.2 Определение метрик событий воронки</a>"
   ]
  },
  {
   "cell_type": "markdown",
   "metadata": {},
   "source": [
    "Посчитайте, сколько пользователей совершали каждое из этих событий. Отсортируйте события по числу пользователей. Посчитайте долю пользователей, которые хоть раз совершали событие."
   ]
  },
  {
   "cell_type": "code",
   "execution_count": 31,
   "metadata": {},
   "outputs": [
    {
     "data": {
      "text/html": [
       "<div>\n",
       "<style scoped>\n",
       "    .dataframe tbody tr th:only-of-type {\n",
       "        vertical-align: middle;\n",
       "    }\n",
       "\n",
       "    .dataframe tbody tr th {\n",
       "        vertical-align: top;\n",
       "    }\n",
       "\n",
       "    .dataframe thead th {\n",
       "        text-align: right;\n",
       "    }\n",
       "</style>\n",
       "<table border=\"1\" class=\"dataframe\">\n",
       "  <thead>\n",
       "    <tr style=\"text-align: right;\">\n",
       "      <th></th>\n",
       "      <th>uid</th>\n",
       "    </tr>\n",
       "    <tr>\n",
       "      <th>ev_name</th>\n",
       "      <th></th>\n",
       "    </tr>\n",
       "  </thead>\n",
       "  <tbody>\n",
       "    <tr>\n",
       "      <td>MainScreenAppear</td>\n",
       "      <td>7419</td>\n",
       "    </tr>\n",
       "    <tr>\n",
       "      <td>OffersScreenAppear</td>\n",
       "      <td>4593</td>\n",
       "    </tr>\n",
       "    <tr>\n",
       "      <td>CartScreenAppear</td>\n",
       "      <td>3734</td>\n",
       "    </tr>\n",
       "    <tr>\n",
       "      <td>PaymentScreenSuccessful</td>\n",
       "      <td>3539</td>\n",
       "    </tr>\n",
       "    <tr>\n",
       "      <td>Tutorial</td>\n",
       "      <td>840</td>\n",
       "    </tr>\n",
       "  </tbody>\n",
       "</table>\n",
       "</div>"
      ],
      "text/plain": [
       "                          uid\n",
       "ev_name                      \n",
       "MainScreenAppear         7419\n",
       "OffersScreenAppear       4593\n",
       "CartScreenAppear         3734\n",
       "PaymentScreenSuccessful  3539\n",
       "Tutorial                  840"
      ]
     },
     "metadata": {},
     "output_type": "display_data"
    },
    {
     "name": "stdout",
     "output_type": "stream",
     "text": [
      "Число уникальных пользователей, которые совершали каждое из событий\n"
     ]
    }
   ],
   "source": [
    "# Посчитаем число пользователей, совершивших каждое из событий\n",
    "steps_users = dl.groupby('ev_name').agg({'uid':'nunique'}).sort_values(by='uid', ascending=False)\n",
    "display(steps_users)\n",
    "print('Число уникальных пользователей, которые совершали каждое из событий')"
   ]
  },
  {
   "cell_type": "code",
   "execution_count": 32,
   "metadata": {},
   "outputs": [
    {
     "data": {
      "text/html": [
       "<div>\n",
       "<style scoped>\n",
       "    .dataframe tbody tr th:only-of-type {\n",
       "        vertical-align: middle;\n",
       "    }\n",
       "\n",
       "    .dataframe tbody tr th {\n",
       "        vertical-align: top;\n",
       "    }\n",
       "\n",
       "    .dataframe thead th {\n",
       "        text-align: right;\n",
       "    }\n",
       "</style>\n",
       "<table border=\"1\" class=\"dataframe\">\n",
       "  <thead>\n",
       "    <tr style=\"text-align: right;\">\n",
       "      <th></th>\n",
       "      <th>uid</th>\n",
       "      <th>part_of_tot</th>\n",
       "    </tr>\n",
       "    <tr>\n",
       "      <th>ev_name</th>\n",
       "      <th></th>\n",
       "      <th></th>\n",
       "    </tr>\n",
       "  </thead>\n",
       "  <tbody>\n",
       "    <tr>\n",
       "      <td>MainScreenAppear</td>\n",
       "      <td>7419</td>\n",
       "      <td>0.984736</td>\n",
       "    </tr>\n",
       "    <tr>\n",
       "      <td>OffersScreenAppear</td>\n",
       "      <td>4593</td>\n",
       "      <td>0.609636</td>\n",
       "    </tr>\n",
       "    <tr>\n",
       "      <td>CartScreenAppear</td>\n",
       "      <td>3734</td>\n",
       "      <td>0.495620</td>\n",
       "    </tr>\n",
       "    <tr>\n",
       "      <td>PaymentScreenSuccessful</td>\n",
       "      <td>3539</td>\n",
       "      <td>0.469737</td>\n",
       "    </tr>\n",
       "    <tr>\n",
       "      <td>Tutorial</td>\n",
       "      <td>840</td>\n",
       "      <td>0.111495</td>\n",
       "    </tr>\n",
       "  </tbody>\n",
       "</table>\n",
       "</div>"
      ],
      "text/plain": [
       "                          uid  part_of_tot\n",
       "ev_name                                   \n",
       "MainScreenAppear         7419     0.984736\n",
       "OffersScreenAppear       4593     0.609636\n",
       "CartScreenAppear         3734     0.495620\n",
       "PaymentScreenSuccessful  3539     0.469737\n",
       "Tutorial                  840     0.111495"
      ]
     },
     "metadata": {},
     "output_type": "display_data"
    },
    {
     "name": "stdout",
     "output_type": "stream",
     "text": [
      "Доля пользователей, которые хотя бы раз совершали каждое из событий\n"
     ]
    }
   ],
   "source": [
    "# Посчитаем долю пользователей, которые хотя бы раз совершали каждое из событий\n",
    "uni_us_tot = dl['uid'].nunique() # всего уникальных пользователей в логе 7534\n",
    "steps_users['part_of_tot'] = steps_users['uid'] / uni_us_tot\n",
    "display(steps_users)\n",
    "print('Доля пользователей, которые хотя бы раз совершали каждое из событий')"
   ]
  },
  {
   "cell_type": "markdown",
   "metadata": {},
   "source": [
    "---\n",
    "### <a id='43'>4.3 Определение последовательности событий воронки</a>"
   ]
  },
  {
   "cell_type": "markdown",
   "metadata": {},
   "source": [
    "Предположите, в каком порядке происходят события. Все ли они выстраиваются в последовательную цепочку? Их не нужно учитывать при расчёте воронки."
   ]
  },
  {
   "cell_type": "code",
   "execution_count": 33,
   "metadata": {},
   "outputs": [
    {
     "data": {
      "text/html": [
       "<div>\n",
       "<style scoped>\n",
       "    .dataframe tbody tr th:only-of-type {\n",
       "        vertical-align: middle;\n",
       "    }\n",
       "\n",
       "    .dataframe tbody tr th {\n",
       "        vertical-align: top;\n",
       "    }\n",
       "\n",
       "    .dataframe thead th {\n",
       "        text-align: right;\n",
       "    }\n",
       "</style>\n",
       "<table border=\"1\" class=\"dataframe\">\n",
       "  <thead>\n",
       "    <tr style=\"text-align: right;\">\n",
       "      <th></th>\n",
       "      <th>ev_name</th>\n",
       "      <th>ev_nameRu</th>\n",
       "    </tr>\n",
       "  </thead>\n",
       "  <tbody>\n",
       "    <tr>\n",
       "      <td>0</td>\n",
       "      <td>MainScreenAppear</td>\n",
       "      <td>Главный экран</td>\n",
       "    </tr>\n",
       "    <tr>\n",
       "      <td>1</td>\n",
       "      <td>OffersScreenAppear</td>\n",
       "      <td>Страница заказа</td>\n",
       "    </tr>\n",
       "    <tr>\n",
       "      <td>2</td>\n",
       "      <td>CartScreenAppear</td>\n",
       "      <td>Карточка товаров</td>\n",
       "    </tr>\n",
       "    <tr>\n",
       "      <td>3</td>\n",
       "      <td>PaymentScreenSuccessful</td>\n",
       "      <td>Успешная оплата</td>\n",
       "    </tr>\n",
       "    <tr>\n",
       "      <td>4</td>\n",
       "      <td>Tutorial</td>\n",
       "      <td>Инструкция</td>\n",
       "    </tr>\n",
       "  </tbody>\n",
       "</table>\n",
       "</div>"
      ],
      "text/plain": [
       "                   ev_name         ev_nameRu\n",
       "0         MainScreenAppear     Главный экран\n",
       "1       OffersScreenAppear   Страница заказа\n",
       "2         CartScreenAppear  Карточка товаров\n",
       "3  PaymentScreenSuccessful   Успешная оплата\n",
       "4                 Tutorial        Инструкция"
      ]
     },
     "execution_count": 33,
     "metadata": {},
     "output_type": "execute_result"
    }
   ],
   "source": [
    "events"
   ]
  },
  {
   "cell_type": "markdown",
   "metadata": {},
   "source": [
    "Предполагаю, что последовательность событий в цепочке такая:\n",
    "1. Главный экран\n",
    "2. Страница заказа\n",
    "3. Карточка товара\n",
    "4. Успешная оплата.\n",
    "\n",
    "Дополнительные действия: \n",
    " * Инструкция\n",
    "\n",
    "не является обязательным, поэтому в цепочку не включён."
   ]
  },
  {
   "cell_type": "markdown",
   "metadata": {},
   "source": [
    "---\n",
    "### <a id='44conversion'>4.4 Определение конверсии воронки</a>"
   ]
  },
  {
   "cell_type": "markdown",
   "metadata": {},
   "source": [
    "По воронке событий посчитайте, какая доля пользователей проходит на следующий шаг воронки (от числа пользователей на предыдущем). То есть для последовательности событий A → B → C посчитайте отношение числа пользователей с событием B к количеству пользователей с событием A, а также отношение числа пользователей с событием C к количеству пользователей с событием B."
   ]
  },
  {
   "cell_type": "code",
   "execution_count": 34,
   "metadata": {},
   "outputs": [
    {
     "data": {
      "text/html": [
       "<div>\n",
       "<style scoped>\n",
       "    .dataframe tbody tr th:only-of-type {\n",
       "        vertical-align: middle;\n",
       "    }\n",
       "\n",
       "    .dataframe tbody tr th {\n",
       "        vertical-align: top;\n",
       "    }\n",
       "\n",
       "    .dataframe thead th {\n",
       "        text-align: right;\n",
       "    }\n",
       "</style>\n",
       "<table border=\"1\" class=\"dataframe\">\n",
       "  <thead>\n",
       "    <tr style=\"text-align: right;\">\n",
       "      <th></th>\n",
       "      <th>uid</th>\n",
       "      <th>part_of_tot</th>\n",
       "      <th>chain</th>\n",
       "    </tr>\n",
       "    <tr>\n",
       "      <th>ev_name</th>\n",
       "      <th></th>\n",
       "      <th></th>\n",
       "      <th></th>\n",
       "    </tr>\n",
       "  </thead>\n",
       "  <tbody>\n",
       "    <tr>\n",
       "      <td>MainScreenAppear</td>\n",
       "      <td>7419</td>\n",
       "      <td>0.984736</td>\n",
       "      <td>1</td>\n",
       "    </tr>\n",
       "    <tr>\n",
       "      <td>OffersScreenAppear</td>\n",
       "      <td>4593</td>\n",
       "      <td>0.609636</td>\n",
       "      <td>1</td>\n",
       "    </tr>\n",
       "    <tr>\n",
       "      <td>CartScreenAppear</td>\n",
       "      <td>3734</td>\n",
       "      <td>0.495620</td>\n",
       "      <td>1</td>\n",
       "    </tr>\n",
       "    <tr>\n",
       "      <td>PaymentScreenSuccessful</td>\n",
       "      <td>3539</td>\n",
       "      <td>0.469737</td>\n",
       "      <td>1</td>\n",
       "    </tr>\n",
       "  </tbody>\n",
       "</table>\n",
       "</div>"
      ],
      "text/plain": [
       "                          uid  part_of_tot  chain\n",
       "ev_name                                          \n",
       "MainScreenAppear         7419     0.984736      1\n",
       "OffersScreenAppear       4593     0.609636      1\n",
       "CartScreenAppear         3734     0.495620      1\n",
       "PaymentScreenSuccessful  3539     0.469737      1"
      ]
     },
     "execution_count": 34,
     "metadata": {},
     "output_type": "execute_result"
    }
   ],
   "source": [
    "# Обозначим этапы цепочки\n",
    "steps_users['chain'] = [1,1,1,1,0]\n",
    "chain_steps = steps_users[steps_users['chain']==1]\n",
    "chain_steps"
   ]
  },
  {
   "cell_type": "code",
   "execution_count": 36,
   "metadata": {},
   "outputs": [
    {
     "name": "stderr",
     "output_type": "stream",
     "text": [
      "/opt/conda/lib/python3.7/site-packages/ipykernel_launcher.py:7: SettingWithCopyWarning: \n",
      "A value is trying to be set on a copy of a slice from a DataFrame.\n",
      "Try using .loc[row_indexer,col_indexer] = value instead\n",
      "\n",
      "See the caveats in the documentation: http://pandas.pydata.org/pandas-docs/stable/user_guide/indexing.html#returning-a-view-versus-a-copy\n",
      "  import sys\n"
     ]
    },
    {
     "data": {
      "text/html": [
       "<div>\n",
       "<style scoped>\n",
       "    .dataframe tbody tr th:only-of-type {\n",
       "        vertical-align: middle;\n",
       "    }\n",
       "\n",
       "    .dataframe tbody tr th {\n",
       "        vertical-align: top;\n",
       "    }\n",
       "\n",
       "    .dataframe thead th {\n",
       "        text-align: right;\n",
       "    }\n",
       "</style>\n",
       "<table border=\"1\" class=\"dataframe\">\n",
       "  <thead>\n",
       "    <tr style=\"text-align: right;\">\n",
       "      <th></th>\n",
       "      <th>uid</th>\n",
       "      <th>part_of_tot</th>\n",
       "      <th>chain</th>\n",
       "      <th>conv_to_prev</th>\n",
       "    </tr>\n",
       "    <tr>\n",
       "      <th>ev_name</th>\n",
       "      <th></th>\n",
       "      <th></th>\n",
       "      <th></th>\n",
       "      <th></th>\n",
       "    </tr>\n",
       "  </thead>\n",
       "  <tbody>\n",
       "    <tr>\n",
       "      <td>MainScreenAppear</td>\n",
       "      <td>7419</td>\n",
       "      <td>0.984736</td>\n",
       "      <td>1</td>\n",
       "      <td>1.000000</td>\n",
       "    </tr>\n",
       "    <tr>\n",
       "      <td>OffersScreenAppear</td>\n",
       "      <td>4593</td>\n",
       "      <td>0.609636</td>\n",
       "      <td>1</td>\n",
       "      <td>0.619086</td>\n",
       "    </tr>\n",
       "    <tr>\n",
       "      <td>CartScreenAppear</td>\n",
       "      <td>3734</td>\n",
       "      <td>0.495620</td>\n",
       "      <td>1</td>\n",
       "      <td>0.812976</td>\n",
       "    </tr>\n",
       "    <tr>\n",
       "      <td>PaymentScreenSuccessful</td>\n",
       "      <td>3539</td>\n",
       "      <td>0.469737</td>\n",
       "      <td>1</td>\n",
       "      <td>0.947777</td>\n",
       "    </tr>\n",
       "  </tbody>\n",
       "</table>\n",
       "</div>"
      ],
      "text/plain": [
       "                          uid  part_of_tot  chain  conv_to_prev\n",
       "ev_name                                                        \n",
       "MainScreenAppear         7419     0.984736      1      1.000000\n",
       "OffersScreenAppear       4593     0.609636      1      0.619086\n",
       "CartScreenAppear         3734     0.495620      1      0.812976\n",
       "PaymentScreenSuccessful  3539     0.469737      1      0.947777"
      ]
     },
     "execution_count": 36,
     "metadata": {},
     "output_type": "execute_result"
    }
   ],
   "source": [
    "# Определим конверсию к предыдущему шагу\n",
    "conv=[1]\n",
    "for i in range(0,3):\n",
    "    result = chain_steps['uid'][i+1] / chain_steps['uid'][i]\n",
    "    conv.append(result)\n",
    "conv\n",
    "chain_steps['conv_to_prev'] = conv\n",
    "chain_steps.sort_values(by='uid', ascending=False)"
   ]
  },
  {
   "cell_type": "markdown",
   "metadata": {},
   "source": [
    "---\n",
    "### <a id='45'>4.5 Выявление наибольшего снижения конверсии</a>"
   ]
  },
  {
   "cell_type": "markdown",
   "metadata": {},
   "source": [
    "На каком шаге теряете больше всего пользователей?"
   ]
  },
  {
   "cell_type": "code",
   "execution_count": 37,
   "metadata": {},
   "outputs": [
    {
     "data": {
      "text/html": [
       "<div>\n",
       "<style scoped>\n",
       "    .dataframe tbody tr th:only-of-type {\n",
       "        vertical-align: middle;\n",
       "    }\n",
       "\n",
       "    .dataframe tbody tr th {\n",
       "        vertical-align: top;\n",
       "    }\n",
       "\n",
       "    .dataframe thead th {\n",
       "        text-align: right;\n",
       "    }\n",
       "</style>\n",
       "<table border=\"1\" class=\"dataframe\">\n",
       "  <thead>\n",
       "    <tr style=\"text-align: right;\">\n",
       "      <th></th>\n",
       "      <th>uid</th>\n",
       "      <th>part_of_tot</th>\n",
       "      <th>chain</th>\n",
       "      <th>conv_to_prev</th>\n",
       "    </tr>\n",
       "    <tr>\n",
       "      <th>ev_name</th>\n",
       "      <th></th>\n",
       "      <th></th>\n",
       "      <th></th>\n",
       "      <th></th>\n",
       "    </tr>\n",
       "  </thead>\n",
       "  <tbody>\n",
       "    <tr>\n",
       "      <td>MainScreenAppear</td>\n",
       "      <td>7419</td>\n",
       "      <td>0.984736</td>\n",
       "      <td>1</td>\n",
       "      <td>1.000000</td>\n",
       "    </tr>\n",
       "    <tr>\n",
       "      <td>OffersScreenAppear</td>\n",
       "      <td>4593</td>\n",
       "      <td>0.609636</td>\n",
       "      <td>1</td>\n",
       "      <td>0.619086</td>\n",
       "    </tr>\n",
       "    <tr>\n",
       "      <td>CartScreenAppear</td>\n",
       "      <td>3734</td>\n",
       "      <td>0.495620</td>\n",
       "      <td>1</td>\n",
       "      <td>0.812976</td>\n",
       "    </tr>\n",
       "    <tr>\n",
       "      <td>PaymentScreenSuccessful</td>\n",
       "      <td>3539</td>\n",
       "      <td>0.469737</td>\n",
       "      <td>1</td>\n",
       "      <td>0.947777</td>\n",
       "    </tr>\n",
       "  </tbody>\n",
       "</table>\n",
       "</div>"
      ],
      "text/plain": [
       "                          uid  part_of_tot  chain  conv_to_prev\n",
       "ev_name                                                        \n",
       "MainScreenAppear         7419     0.984736      1      1.000000\n",
       "OffersScreenAppear       4593     0.609636      1      0.619086\n",
       "CartScreenAppear         3734     0.495620      1      0.812976\n",
       "PaymentScreenSuccessful  3539     0.469737      1      0.947777"
      ]
     },
     "execution_count": 37,
     "metadata": {},
     "output_type": "execute_result"
    }
   ],
   "source": [
    "chain_steps"
   ]
  },
  {
   "cell_type": "markdown",
   "metadata": {},
   "source": [
    "Самая низкая консверсия к предыдущему шагу наблюдается на шаге \"Cтраница заказа\" - около 62%."
   ]
  },
  {
   "cell_type": "markdown",
   "metadata": {},
   "source": [
    "---\n",
    "### <a id='46'>4.6 Определение доли прошедших всю воронку пользователей</a>"
   ]
  },
  {
   "cell_type": "markdown",
   "metadata": {},
   "source": [
    "Какая доля пользователей доходит от первого события до оплаты?"
   ]
  },
  {
   "cell_type": "code",
   "execution_count": 38,
   "metadata": {},
   "outputs": [
    {
     "data": {
      "text/html": [
       "<div>\n",
       "<style scoped>\n",
       "    .dataframe tbody tr th:only-of-type {\n",
       "        vertical-align: middle;\n",
       "    }\n",
       "\n",
       "    .dataframe tbody tr th {\n",
       "        vertical-align: top;\n",
       "    }\n",
       "\n",
       "    .dataframe thead th {\n",
       "        text-align: right;\n",
       "    }\n",
       "</style>\n",
       "<table border=\"1\" class=\"dataframe\">\n",
       "  <thead>\n",
       "    <tr style=\"text-align: right;\">\n",
       "      <th></th>\n",
       "      <th>part_of_tot</th>\n",
       "    </tr>\n",
       "    <tr>\n",
       "      <th>ev_name</th>\n",
       "      <th></th>\n",
       "    </tr>\n",
       "  </thead>\n",
       "  <tbody>\n",
       "    <tr>\n",
       "      <td>PaymentScreenSuccessful</td>\n",
       "      <td>0.469737</td>\n",
       "    </tr>\n",
       "  </tbody>\n",
       "</table>\n",
       "</div>"
      ],
      "text/plain": [
       "                         part_of_tot\n",
       "ev_name                             \n",
       "PaymentScreenSuccessful     0.469737"
      ]
     },
     "execution_count": 38,
     "metadata": {},
     "output_type": "execute_result"
    }
   ],
   "source": [
    "# Доля пользователей, которые проходят всю воронку, у нас уже посчитана в таблице steps_users\n",
    "steps_users[steps_users.index == 'PaymentScreenSuccessful'][['part_of_tot']]"
   ]
  },
  {
   "cell_type": "markdown",
   "metadata": {},
   "source": [
    "Доля пользователей, которые проходят всю воронку, составляет около 47%."
   ]
  },
  {
   "cell_type": "markdown",
   "metadata": {},
   "source": [
    "### Выводы по шагу 4\n",
    "1. Определили события, которые составляют цепочку воронки: Главный экран -> Страница заказа -> Карточка товара -> Успешная оплата.\n",
    "- Ещё одно событие в логе - Инструкция - является дополнительным событиям, не входят в цепочку основных событий воронки (конверсию по ним не считаем).\n",
    "- Для информации: раздел Инструкция открывают около 11% всех пользователей.\n",
    "- Самая низкая конверсия воронки наблюдается на событии \"Страница заказа\", составляет менее 62%.\n",
    "- Процент пользователей, прошедших всю воронку, составляет около 47%.\n",
    "\n",
    "---"
   ]
  },
  {
   "cell_type": "markdown",
   "metadata": {},
   "source": [
    "## <a id='paragraph5'>Шаг 5. Изучение результатов эксперимента</a>\n",
    "([К оглавлению](#oglav))"
   ]
  },
  {
   "cell_type": "markdown",
   "metadata": {},
   "source": [
    "[Шаг 5 - Изучение результатов эксперимента](#paragraph5)\n",
    " - [5.1 Изучение экспериментальных групп](#51)\n",
    " - [5.2 Проверка результатов А/А-теста (группы 246 и 247)](#52)\n",
    " - [5.3 Проверка отличий групп А/А-теста по событиям на стат. достоверность](#53)\n",
    " - [5.4 Проверка отличий групп А/В-теста по событиям на стат. достоверность (А1/В, А2/В, (А1+А2)/В](#54)\n",
    " - [5.5 Определение уровня значимости при проверке стат. гипотез](#55)"
   ]
  },
  {
   "cell_type": "markdown",
   "metadata": {},
   "source": [
    "---\n",
    "### <a id='51'>5.1 Изучение экспериментальных групп</a>"
   ]
  },
  {
   "cell_type": "markdown",
   "metadata": {},
   "source": [
    "Сколько пользователей в каждой экспериментальной группе?"
   ]
  },
  {
   "cell_type": "code",
   "execution_count": 39,
   "metadata": {},
   "outputs": [
    {
     "data": {
      "text/html": [
       "<div>\n",
       "<style scoped>\n",
       "    .dataframe tbody tr th:only-of-type {\n",
       "        vertical-align: middle;\n",
       "    }\n",
       "\n",
       "    .dataframe tbody tr th {\n",
       "        vertical-align: top;\n",
       "    }\n",
       "\n",
       "    .dataframe thead th {\n",
       "        text-align: right;\n",
       "    }\n",
       "</style>\n",
       "<table border=\"1\" class=\"dataframe\">\n",
       "  <thead>\n",
       "    <tr style=\"text-align: right;\">\n",
       "      <th></th>\n",
       "      <th>ev_name</th>\n",
       "      <th>uid</th>\n",
       "      <th>ev_dt</th>\n",
       "      <th>enum</th>\n",
       "      <th>ev_date</th>\n",
       "      <th>ev_time</th>\n",
       "    </tr>\n",
       "  </thead>\n",
       "  <tbody>\n",
       "    <tr>\n",
       "      <td>2828</td>\n",
       "      <td>Tutorial</td>\n",
       "      <td>3737462046622621720</td>\n",
       "      <td>2019-08-01 00:07:28</td>\n",
       "      <td>246</td>\n",
       "      <td>2019-08-01</td>\n",
       "      <td>2019-08-01 00:07:00</td>\n",
       "    </tr>\n",
       "    <tr>\n",
       "      <td>2829</td>\n",
       "      <td>MainScreenAppear</td>\n",
       "      <td>3737462046622621720</td>\n",
       "      <td>2019-08-01 00:08:00</td>\n",
       "      <td>246</td>\n",
       "      <td>2019-08-01</td>\n",
       "      <td>2019-08-01 00:08:00</td>\n",
       "    </tr>\n",
       "    <tr>\n",
       "      <td>2830</td>\n",
       "      <td>MainScreenAppear</td>\n",
       "      <td>3737462046622621720</td>\n",
       "      <td>2019-08-01 00:08:55</td>\n",
       "      <td>246</td>\n",
       "      <td>2019-08-01</td>\n",
       "      <td>2019-08-01 00:09:00</td>\n",
       "    </tr>\n",
       "    <tr>\n",
       "      <td>2831</td>\n",
       "      <td>OffersScreenAppear</td>\n",
       "      <td>3737462046622621720</td>\n",
       "      <td>2019-08-01 00:08:58</td>\n",
       "      <td>246</td>\n",
       "      <td>2019-08-01</td>\n",
       "      <td>2019-08-01 00:09:00</td>\n",
       "    </tr>\n",
       "    <tr>\n",
       "      <td>2832</td>\n",
       "      <td>MainScreenAppear</td>\n",
       "      <td>1433840883824088890</td>\n",
       "      <td>2019-08-01 00:08:59</td>\n",
       "      <td>247</td>\n",
       "      <td>2019-08-01</td>\n",
       "      <td>2019-08-01 00:09:00</td>\n",
       "    </tr>\n",
       "    <tr>\n",
       "      <td>...</td>\n",
       "      <td>...</td>\n",
       "      <td>...</td>\n",
       "      <td>...</td>\n",
       "      <td>...</td>\n",
       "      <td>...</td>\n",
       "      <td>...</td>\n",
       "    </tr>\n",
       "    <tr>\n",
       "      <td>244121</td>\n",
       "      <td>MainScreenAppear</td>\n",
       "      <td>4599628364049201812</td>\n",
       "      <td>2019-08-07 21:12:25</td>\n",
       "      <td>247</td>\n",
       "      <td>2019-08-07</td>\n",
       "      <td>2019-08-07 21:12:00</td>\n",
       "    </tr>\n",
       "    <tr>\n",
       "      <td>244122</td>\n",
       "      <td>MainScreenAppear</td>\n",
       "      <td>5849806612437486590</td>\n",
       "      <td>2019-08-07 21:13:59</td>\n",
       "      <td>246</td>\n",
       "      <td>2019-08-07</td>\n",
       "      <td>2019-08-07 21:14:00</td>\n",
       "    </tr>\n",
       "    <tr>\n",
       "      <td>244123</td>\n",
       "      <td>MainScreenAppear</td>\n",
       "      <td>5746969938801999050</td>\n",
       "      <td>2019-08-07 21:14:43</td>\n",
       "      <td>246</td>\n",
       "      <td>2019-08-07</td>\n",
       "      <td>2019-08-07 21:15:00</td>\n",
       "    </tr>\n",
       "    <tr>\n",
       "      <td>244124</td>\n",
       "      <td>MainScreenAppear</td>\n",
       "      <td>5746969938801999050</td>\n",
       "      <td>2019-08-07 21:14:58</td>\n",
       "      <td>246</td>\n",
       "      <td>2019-08-07</td>\n",
       "      <td>2019-08-07 21:15:00</td>\n",
       "    </tr>\n",
       "    <tr>\n",
       "      <td>244125</td>\n",
       "      <td>OffersScreenAppear</td>\n",
       "      <td>5746969938801999050</td>\n",
       "      <td>2019-08-07 21:15:17</td>\n",
       "      <td>246</td>\n",
       "      <td>2019-08-07</td>\n",
       "      <td>2019-08-07 21:15:00</td>\n",
       "    </tr>\n",
       "  </tbody>\n",
       "</table>\n",
       "<p>240887 rows × 6 columns</p>\n",
       "</div>"
      ],
      "text/plain": [
       "                   ev_name                  uid               ev_dt  enum  \\\n",
       "2828              Tutorial  3737462046622621720 2019-08-01 00:07:28   246   \n",
       "2829      MainScreenAppear  3737462046622621720 2019-08-01 00:08:00   246   \n",
       "2830      MainScreenAppear  3737462046622621720 2019-08-01 00:08:55   246   \n",
       "2831    OffersScreenAppear  3737462046622621720 2019-08-01 00:08:58   246   \n",
       "2832      MainScreenAppear  1433840883824088890 2019-08-01 00:08:59   247   \n",
       "...                    ...                  ...                 ...   ...   \n",
       "244121    MainScreenAppear  4599628364049201812 2019-08-07 21:12:25   247   \n",
       "244122    MainScreenAppear  5849806612437486590 2019-08-07 21:13:59   246   \n",
       "244123    MainScreenAppear  5746969938801999050 2019-08-07 21:14:43   246   \n",
       "244124    MainScreenAppear  5746969938801999050 2019-08-07 21:14:58   246   \n",
       "244125  OffersScreenAppear  5746969938801999050 2019-08-07 21:15:17   246   \n",
       "\n",
       "           ev_date             ev_time  \n",
       "2828    2019-08-01 2019-08-01 00:07:00  \n",
       "2829    2019-08-01 2019-08-01 00:08:00  \n",
       "2830    2019-08-01 2019-08-01 00:09:00  \n",
       "2831    2019-08-01 2019-08-01 00:09:00  \n",
       "2832    2019-08-01 2019-08-01 00:09:00  \n",
       "...            ...                 ...  \n",
       "244121  2019-08-07 2019-08-07 21:12:00  \n",
       "244122  2019-08-07 2019-08-07 21:14:00  \n",
       "244123  2019-08-07 2019-08-07 21:15:00  \n",
       "244124  2019-08-07 2019-08-07 21:15:00  \n",
       "244125  2019-08-07 2019-08-07 21:15:00  \n",
       "\n",
       "[240887 rows x 6 columns]"
      ]
     },
     "execution_count": 39,
     "metadata": {},
     "output_type": "execute_result"
    }
   ],
   "source": [
    "dl"
   ]
  },
  {
   "cell_type": "code",
   "execution_count": 40,
   "metadata": {},
   "outputs": [
    {
     "data": {
      "text/html": [
       "<div>\n",
       "<style scoped>\n",
       "    .dataframe tbody tr th:only-of-type {\n",
       "        vertical-align: middle;\n",
       "    }\n",
       "\n",
       "    .dataframe tbody tr th {\n",
       "        vertical-align: top;\n",
       "    }\n",
       "\n",
       "    .dataframe thead th {\n",
       "        text-align: right;\n",
       "    }\n",
       "</style>\n",
       "<table border=\"1\" class=\"dataframe\">\n",
       "  <thead>\n",
       "    <tr style=\"text-align: right;\">\n",
       "      <th></th>\n",
       "      <th>index</th>\n",
       "      <th>enum</th>\n",
       "    </tr>\n",
       "  </thead>\n",
       "  <tbody>\n",
       "    <tr>\n",
       "      <td>1</td>\n",
       "      <td>246</td>\n",
       "      <td>79302</td>\n",
       "    </tr>\n",
       "    <tr>\n",
       "      <td>2</td>\n",
       "      <td>247</td>\n",
       "      <td>77022</td>\n",
       "    </tr>\n",
       "    <tr>\n",
       "      <td>0</td>\n",
       "      <td>248</td>\n",
       "      <td>84563</td>\n",
       "    </tr>\n",
       "  </tbody>\n",
       "</table>\n",
       "</div>"
      ],
      "text/plain": [
       "   index   enum\n",
       "1    246  79302\n",
       "2    247  77022\n",
       "0    248  84563"
      ]
     },
     "execution_count": 40,
     "metadata": {},
     "output_type": "execute_result"
    }
   ],
   "source": [
    "# Число событий в каждой экспериментальной группе \n",
    "dl['enum'].value_counts().reset_index().sort_values(by='index')"
   ]
  },
  {
   "cell_type": "code",
   "execution_count": 41,
   "metadata": {},
   "outputs": [
    {
     "data": {
      "text/html": [
       "<div>\n",
       "<style scoped>\n",
       "    .dataframe tbody tr th:only-of-type {\n",
       "        vertical-align: middle;\n",
       "    }\n",
       "\n",
       "    .dataframe tbody tr th {\n",
       "        vertical-align: top;\n",
       "    }\n",
       "\n",
       "    .dataframe thead th {\n",
       "        text-align: right;\n",
       "    }\n",
       "</style>\n",
       "<table border=\"1\" class=\"dataframe\">\n",
       "  <thead>\n",
       "    <tr style=\"text-align: right;\">\n",
       "      <th></th>\n",
       "      <th>uid</th>\n",
       "    </tr>\n",
       "    <tr>\n",
       "      <th>enum</th>\n",
       "      <th></th>\n",
       "    </tr>\n",
       "  </thead>\n",
       "  <tbody>\n",
       "    <tr>\n",
       "      <td>246</td>\n",
       "      <td>2484</td>\n",
       "    </tr>\n",
       "    <tr>\n",
       "      <td>247</td>\n",
       "      <td>2513</td>\n",
       "    </tr>\n",
       "    <tr>\n",
       "      <td>248</td>\n",
       "      <td>2537</td>\n",
       "    </tr>\n",
       "  </tbody>\n",
       "</table>\n",
       "</div>"
      ],
      "text/plain": [
       "       uid\n",
       "enum      \n",
       "246   2484\n",
       "247   2513\n",
       "248   2537"
      ]
     },
     "execution_count": 41,
     "metadata": {},
     "output_type": "execute_result"
    }
   ],
   "source": [
    "# Число пользователей в каждой экспериментальной группе\n",
    "dl.groupby('enum').agg({'uid':'nunique'})"
   ]
  },
  {
   "cell_type": "markdown",
   "metadata": {},
   "source": [
    "---\n",
    "### <a id='52'>5.2 Проверка результатов А/А-теста (группы 246 и 247)</a>"
   ]
  },
  {
   "cell_type": "markdown",
   "metadata": {},
   "source": [
    "Есть 2 контрольные группы для А/А-эксперимента, чтобы проверить корректность всех механизмов и расчётов. Проверьте, находят ли статистические критерии разницу между выборками 246 и 247."
   ]
  },
  {
   "cell_type": "code",
   "execution_count": 42,
   "metadata": {},
   "outputs": [
    {
     "data": {
      "text/html": [
       "<div>\n",
       "<style scoped>\n",
       "    .dataframe tbody tr th:only-of-type {\n",
       "        vertical-align: middle;\n",
       "    }\n",
       "\n",
       "    .dataframe tbody tr th {\n",
       "        vertical-align: top;\n",
       "    }\n",
       "\n",
       "    .dataframe thead th {\n",
       "        text-align: right;\n",
       "    }\n",
       "</style>\n",
       "<table border=\"1\" class=\"dataframe\">\n",
       "  <thead>\n",
       "    <tr style=\"text-align: right;\">\n",
       "      <th></th>\n",
       "      <th>ev_name</th>\n",
       "      <th>uid</th>\n",
       "      <th>ev_dt</th>\n",
       "      <th>enum</th>\n",
       "      <th>ev_date</th>\n",
       "      <th>ev_time</th>\n",
       "    </tr>\n",
       "  </thead>\n",
       "  <tbody>\n",
       "    <tr>\n",
       "      <td>2828</td>\n",
       "      <td>Tutorial</td>\n",
       "      <td>3737462046622621720</td>\n",
       "      <td>2019-08-01 00:07:28</td>\n",
       "      <td>246</td>\n",
       "      <td>2019-08-01</td>\n",
       "      <td>2019-08-01 00:07:00</td>\n",
       "    </tr>\n",
       "    <tr>\n",
       "      <td>2829</td>\n",
       "      <td>MainScreenAppear</td>\n",
       "      <td>3737462046622621720</td>\n",
       "      <td>2019-08-01 00:08:00</td>\n",
       "      <td>246</td>\n",
       "      <td>2019-08-01</td>\n",
       "      <td>2019-08-01 00:08:00</td>\n",
       "    </tr>\n",
       "    <tr>\n",
       "      <td>2830</td>\n",
       "      <td>MainScreenAppear</td>\n",
       "      <td>3737462046622621720</td>\n",
       "      <td>2019-08-01 00:08:55</td>\n",
       "      <td>246</td>\n",
       "      <td>2019-08-01</td>\n",
       "      <td>2019-08-01 00:09:00</td>\n",
       "    </tr>\n",
       "  </tbody>\n",
       "</table>\n",
       "</div>"
      ],
      "text/plain": [
       "               ev_name                  uid               ev_dt  enum  \\\n",
       "2828          Tutorial  3737462046622621720 2019-08-01 00:07:28   246   \n",
       "2829  MainScreenAppear  3737462046622621720 2019-08-01 00:08:00   246   \n",
       "2830  MainScreenAppear  3737462046622621720 2019-08-01 00:08:55   246   \n",
       "\n",
       "         ev_date             ev_time  \n",
       "2828  2019-08-01 2019-08-01 00:07:00  \n",
       "2829  2019-08-01 2019-08-01 00:08:00  \n",
       "2830  2019-08-01 2019-08-01 00:09:00  "
      ]
     },
     "metadata": {},
     "output_type": "display_data"
    },
    {
     "data": {
      "text/html": [
       "<div>\n",
       "<style scoped>\n",
       "    .dataframe tbody tr th:only-of-type {\n",
       "        vertical-align: middle;\n",
       "    }\n",
       "\n",
       "    .dataframe tbody tr th {\n",
       "        vertical-align: top;\n",
       "    }\n",
       "\n",
       "    .dataframe thead th {\n",
       "        text-align: right;\n",
       "    }\n",
       "</style>\n",
       "<table border=\"1\" class=\"dataframe\">\n",
       "  <thead>\n",
       "    <tr style=\"text-align: right;\">\n",
       "      <th></th>\n",
       "      <th>ev_name</th>\n",
       "      <th>uid</th>\n",
       "      <th>ev_dt</th>\n",
       "      <th>enum</th>\n",
       "      <th>ev_date</th>\n",
       "      <th>ev_time</th>\n",
       "    </tr>\n",
       "  </thead>\n",
       "  <tbody>\n",
       "    <tr>\n",
       "      <td>2832</td>\n",
       "      <td>MainScreenAppear</td>\n",
       "      <td>1433840883824088890</td>\n",
       "      <td>2019-08-01 00:08:59</td>\n",
       "      <td>247</td>\n",
       "      <td>2019-08-01</td>\n",
       "      <td>2019-08-01 00:09:00</td>\n",
       "    </tr>\n",
       "    <tr>\n",
       "      <td>2833</td>\n",
       "      <td>MainScreenAppear</td>\n",
       "      <td>4899590676214355127</td>\n",
       "      <td>2019-08-01 00:10:15</td>\n",
       "      <td>247</td>\n",
       "      <td>2019-08-01</td>\n",
       "      <td>2019-08-01 00:10:00</td>\n",
       "    </tr>\n",
       "    <tr>\n",
       "      <td>2838</td>\n",
       "      <td>MainScreenAppear</td>\n",
       "      <td>4899590676214355127</td>\n",
       "      <td>2019-08-01 00:11:28</td>\n",
       "      <td>247</td>\n",
       "      <td>2019-08-01</td>\n",
       "      <td>2019-08-01 00:11:00</td>\n",
       "    </tr>\n",
       "  </tbody>\n",
       "</table>\n",
       "</div>"
      ],
      "text/plain": [
       "               ev_name                  uid               ev_dt  enum  \\\n",
       "2832  MainScreenAppear  1433840883824088890 2019-08-01 00:08:59   247   \n",
       "2833  MainScreenAppear  4899590676214355127 2019-08-01 00:10:15   247   \n",
       "2838  MainScreenAppear  4899590676214355127 2019-08-01 00:11:28   247   \n",
       "\n",
       "         ev_date             ev_time  \n",
       "2832  2019-08-01 2019-08-01 00:09:00  \n",
       "2833  2019-08-01 2019-08-01 00:10:00  \n",
       "2838  2019-08-01 2019-08-01 00:11:00  "
      ]
     },
     "metadata": {},
     "output_type": "display_data"
    }
   ],
   "source": [
    "# Выделим отдельно экспериментальные группы А/А-теста\n",
    "ex246 = dl[dl['enum']==246]\n",
    "ex247 = dl[dl['enum']==247]\n",
    "display(ex246.head(3), ex247.head(3))"
   ]
  },
  {
   "cell_type": "code",
   "execution_count": 43,
   "metadata": {},
   "outputs": [],
   "source": [
    "ex246_chain = ex246.groupby('ev_name').agg({'uid':'nunique'}).drop(['Tutorial'], axis=0)\n",
    "ex247_chain = ex247.groupby('ev_name').agg({'uid':'nunique'}).drop(['Tutorial'], axis=0)"
   ]
  },
  {
   "cell_type": "code",
   "execution_count": 44,
   "metadata": {},
   "outputs": [],
   "source": [
    "ex246_chain = ex246_chain.sort_values(by='uid', ascending=False)\n",
    "ex247_chain = ex247_chain.sort_values(by='uid', ascending=False)"
   ]
  },
  {
   "cell_type": "code",
   "execution_count": 45,
   "metadata": {},
   "outputs": [],
   "source": [
    "def conv(df):\n",
    "    '''\n",
    "    Создаёт новый столбец с конверсией к предыдущему шагу\n",
    "    '''\n",
    "    conv=[1]\n",
    "    for i in range(0,3):\n",
    "        result = df['uid'][i+1]/df['uid'][i]\n",
    "        conv.append(result)\n",
    "    df['conv_to_prev'] = conv\n",
    "    display(df)"
   ]
  },
  {
   "cell_type": "code",
   "execution_count": 46,
   "metadata": {},
   "outputs": [
    {
     "data": {
      "text/html": [
       "<div>\n",
       "<style scoped>\n",
       "    .dataframe tbody tr th:only-of-type {\n",
       "        vertical-align: middle;\n",
       "    }\n",
       "\n",
       "    .dataframe tbody tr th {\n",
       "        vertical-align: top;\n",
       "    }\n",
       "\n",
       "    .dataframe thead th {\n",
       "        text-align: right;\n",
       "    }\n",
       "</style>\n",
       "<table border=\"1\" class=\"dataframe\">\n",
       "  <thead>\n",
       "    <tr style=\"text-align: right;\">\n",
       "      <th></th>\n",
       "      <th>uid</th>\n",
       "      <th>conv_to_prev</th>\n",
       "    </tr>\n",
       "    <tr>\n",
       "      <th>ev_name</th>\n",
       "      <th></th>\n",
       "      <th></th>\n",
       "    </tr>\n",
       "  </thead>\n",
       "  <tbody>\n",
       "    <tr>\n",
       "      <td>MainScreenAppear</td>\n",
       "      <td>2450</td>\n",
       "      <td>1.000000</td>\n",
       "    </tr>\n",
       "    <tr>\n",
       "      <td>OffersScreenAppear</td>\n",
       "      <td>1542</td>\n",
       "      <td>0.629388</td>\n",
       "    </tr>\n",
       "    <tr>\n",
       "      <td>CartScreenAppear</td>\n",
       "      <td>1266</td>\n",
       "      <td>0.821012</td>\n",
       "    </tr>\n",
       "    <tr>\n",
       "      <td>PaymentScreenSuccessful</td>\n",
       "      <td>1200</td>\n",
       "      <td>0.947867</td>\n",
       "    </tr>\n",
       "  </tbody>\n",
       "</table>\n",
       "</div>"
      ],
      "text/plain": [
       "                          uid  conv_to_prev\n",
       "ev_name                                    \n",
       "MainScreenAppear         2450      1.000000\n",
       "OffersScreenAppear       1542      0.629388\n",
       "CartScreenAppear         1266      0.821012\n",
       "PaymentScreenSuccessful  1200      0.947867"
      ]
     },
     "metadata": {},
     "output_type": "display_data"
    },
    {
     "data": {
      "text/html": [
       "<div>\n",
       "<style scoped>\n",
       "    .dataframe tbody tr th:only-of-type {\n",
       "        vertical-align: middle;\n",
       "    }\n",
       "\n",
       "    .dataframe tbody tr th {\n",
       "        vertical-align: top;\n",
       "    }\n",
       "\n",
       "    .dataframe thead th {\n",
       "        text-align: right;\n",
       "    }\n",
       "</style>\n",
       "<table border=\"1\" class=\"dataframe\">\n",
       "  <thead>\n",
       "    <tr style=\"text-align: right;\">\n",
       "      <th></th>\n",
       "      <th>uid</th>\n",
       "      <th>conv_to_prev</th>\n",
       "    </tr>\n",
       "    <tr>\n",
       "      <th>ev_name</th>\n",
       "      <th></th>\n",
       "      <th></th>\n",
       "    </tr>\n",
       "  </thead>\n",
       "  <tbody>\n",
       "    <tr>\n",
       "      <td>MainScreenAppear</td>\n",
       "      <td>2476</td>\n",
       "      <td>1.000000</td>\n",
       "    </tr>\n",
       "    <tr>\n",
       "      <td>OffersScreenAppear</td>\n",
       "      <td>1520</td>\n",
       "      <td>0.613893</td>\n",
       "    </tr>\n",
       "    <tr>\n",
       "      <td>CartScreenAppear</td>\n",
       "      <td>1238</td>\n",
       "      <td>0.814474</td>\n",
       "    </tr>\n",
       "    <tr>\n",
       "      <td>PaymentScreenSuccessful</td>\n",
       "      <td>1158</td>\n",
       "      <td>0.935380</td>\n",
       "    </tr>\n",
       "  </tbody>\n",
       "</table>\n",
       "</div>"
      ],
      "text/plain": [
       "                          uid  conv_to_prev\n",
       "ev_name                                    \n",
       "MainScreenAppear         2476      1.000000\n",
       "OffersScreenAppear       1520      0.613893\n",
       "CartScreenAppear         1238      0.814474\n",
       "PaymentScreenSuccessful  1158      0.935380"
      ]
     },
     "metadata": {},
     "output_type": "display_data"
    }
   ],
   "source": [
    "conv(ex246_chain)\n",
    "conv(ex247_chain)"
   ]
  },
  {
   "cell_type": "code",
   "execution_count": 47,
   "metadata": {},
   "outputs": [
    {
     "data": {
      "text/plain": [
       "2484"
      ]
     },
     "metadata": {},
     "output_type": "display_data"
    },
    {
     "data": {
      "text/plain": [
       "2513"
      ]
     },
     "metadata": {},
     "output_type": "display_data"
    }
   ],
   "source": [
    "uniq246 = ex246['uid'].nunique()\n",
    "uniq247 = ex247['uid'].nunique()\n",
    "display(uniq246, uniq247)"
   ]
  },
  {
   "cell_type": "markdown",
   "metadata": {},
   "source": [
    "!!! ПОМЕТКА:\n",
    " * Цифры немного странные, т.к. получается, что часть пользователей (2484-2450) и (2513-2476) в группах не посетили главную страницу, но при этом посетили или карточку товара или страницу \"обучение\"."
   ]
  },
  {
   "cell_type": "code",
   "execution_count": 48,
   "metadata": {},
   "outputs": [
    {
     "data": {
      "text/html": [
       "<div>\n",
       "<style scoped>\n",
       "    .dataframe tbody tr th:only-of-type {\n",
       "        vertical-align: middle;\n",
       "    }\n",
       "\n",
       "    .dataframe tbody tr th {\n",
       "        vertical-align: top;\n",
       "    }\n",
       "\n",
       "    .dataframe thead th {\n",
       "        text-align: right;\n",
       "    }\n",
       "</style>\n",
       "<table border=\"1\" class=\"dataframe\">\n",
       "  <thead>\n",
       "    <tr style=\"text-align: right;\">\n",
       "      <th></th>\n",
       "      <th>conv_to_prev</th>\n",
       "    </tr>\n",
       "    <tr>\n",
       "      <th>ev_name</th>\n",
       "      <th></th>\n",
       "    </tr>\n",
       "  </thead>\n",
       "  <tbody>\n",
       "    <tr>\n",
       "      <td>MainScreenAppear</td>\n",
       "      <td>1.000000</td>\n",
       "    </tr>\n",
       "    <tr>\n",
       "      <td>OffersScreenAppear</td>\n",
       "      <td>0.629388</td>\n",
       "    </tr>\n",
       "    <tr>\n",
       "      <td>CartScreenAppear</td>\n",
       "      <td>0.821012</td>\n",
       "    </tr>\n",
       "    <tr>\n",
       "      <td>PaymentScreenSuccessful</td>\n",
       "      <td>0.947867</td>\n",
       "    </tr>\n",
       "  </tbody>\n",
       "</table>\n",
       "</div>"
      ],
      "text/plain": [
       "                         conv_to_prev\n",
       "ev_name                              \n",
       "MainScreenAppear             1.000000\n",
       "OffersScreenAppear           0.629388\n",
       "CartScreenAppear             0.821012\n",
       "PaymentScreenSuccessful      0.947867"
      ]
     },
     "execution_count": 48,
     "metadata": {},
     "output_type": "execute_result"
    }
   ],
   "source": [
    "ex246_chain[['conv_to_prev']]"
   ]
  },
  {
   "cell_type": "code",
   "execution_count": 49,
   "metadata": {},
   "outputs": [
    {
     "name": "stdout",
     "output_type": "stream",
     "text": [
      "p-значение:  0.7570597232046099 , alpha = 0.01\n",
      "Не получилось отвергнуть нулевую гипотезу, нет оснований считать доли разными\n"
     ]
    }
   ],
   "source": [
    "# Проверим разницу между выборками 246 и 247 на статистическую значимость\n",
    "\n",
    "# Установим критический уровень статистической значимости 1%\n",
    "alpha = .01\n",
    "# Проверим гипотезу о равенстве долей\n",
    "successes = np.array([2450, 2476])\n",
    "trials = np.array([2484, 2513])\n",
    "# Пропорция успехов в группе 246 и 247\n",
    "p246 = successes[0]/trials[0]\n",
    "p247 = successes[1]/trials[1]\n",
    "# Пропорция успехов в комбинированным датасете\n",
    "p_comb = (successes[0]+successes[1])/(trials[0]+trials[1])\n",
    "# Разница пропорция в датасетах экспериментов\n",
    "diff = p246-p247\n",
    "#считаем статистику в ст.отклонениях стандартного нормального распределения\n",
    "z_value = diff/mt.sqrt(p_comb*(1-p_comb)*(1/trials[0] + 1/trials[1]))\n",
    "#задаем стандартное нормальное распределение (среднее 0, ст.отклонение 1)\n",
    "distr = st.norm(0, 1)\n",
    "p_value = (1 - distr.cdf(abs(z_value))) * 2\n",
    "\n",
    "print('p-значение: ', p_value, ', alpha =', alpha)\n",
    "if (p_value < alpha):\n",
    "    print(\"Отвергаем нулевую гипотезу: между долями есть значимая разница\")\n",
    "else:\n",
    "    print(\"Не получилось отвергнуть нулевую гипотезу, нет оснований считать доли разными\")"
   ]
  },
  {
   "cell_type": "markdown",
   "metadata": {},
   "source": [
    "Из проверки стат. значимости отличий долей в группах 246 и 247 можно сделать вывод, что разница не имеет статистической значимость, т.е. **по событию MainScreenAppear группы разделены корректно**!"
   ]
  },
  {
   "cell_type": "markdown",
   "metadata": {},
   "source": [
    "---\n",
    "### <a id='53'>5.3 Проверка отличий групп А/А-теста по событиям на стат. достоверность</a>"
   ]
  },
  {
   "cell_type": "markdown",
   "metadata": {},
   "source": [
    "* Выберите самое популярное событие. \n",
    "* Посчитайте число пользователей, совершивших это событие в каждой из контрольных групп. \n",
    "* Посчитайте долю пользователей, совершивших это событие. \n",
    "* Проверьте, будет ли отличие между группами статистически достоверным. \n",
    "* Проделайте то же самое для всех других событий (удобно обернуть проверку в отдельную функцию). \n",
    "* Можно ли сказать, что разбиение на группы работает корректно?"
   ]
  },
  {
   "cell_type": "markdown",
   "metadata": {},
   "source": [
    "**Выберем самое популярное событие**"
   ]
  },
  {
   "cell_type": "code",
   "execution_count": 50,
   "metadata": {},
   "outputs": [
    {
     "data": {
      "text/html": [
       "<div>\n",
       "<style scoped>\n",
       "    .dataframe tbody tr th:only-of-type {\n",
       "        vertical-align: middle;\n",
       "    }\n",
       "\n",
       "    .dataframe tbody tr th {\n",
       "        vertical-align: top;\n",
       "    }\n",
       "\n",
       "    .dataframe thead th {\n",
       "        text-align: right;\n",
       "    }\n",
       "</style>\n",
       "<table border=\"1\" class=\"dataframe\">\n",
       "  <thead>\n",
       "    <tr style=\"text-align: right;\">\n",
       "      <th></th>\n",
       "      <th>uid</th>\n",
       "      <th>conv_to_prev</th>\n",
       "    </tr>\n",
       "    <tr>\n",
       "      <th>ev_name</th>\n",
       "      <th></th>\n",
       "      <th></th>\n",
       "    </tr>\n",
       "  </thead>\n",
       "  <tbody>\n",
       "    <tr>\n",
       "      <td>MainScreenAppear</td>\n",
       "      <td>2450</td>\n",
       "      <td>1.0</td>\n",
       "    </tr>\n",
       "  </tbody>\n",
       "</table>\n",
       "</div>"
      ],
      "text/plain": [
       "                   uid  conv_to_prev\n",
       "ev_name                             \n",
       "MainScreenAppear  2450           1.0"
      ]
     },
     "execution_count": 50,
     "metadata": {},
     "output_type": "execute_result"
    }
   ],
   "source": [
    "# Определим самое популярное событие в группе 246\n",
    "ex246_chain[ex246_chain['uid'] == ex246_chain['uid'].max()] # Это Открыл главный экран"
   ]
  },
  {
   "cell_type": "code",
   "execution_count": 51,
   "metadata": {},
   "outputs": [
    {
     "data": {
      "text/html": [
       "<div>\n",
       "<style scoped>\n",
       "    .dataframe tbody tr th:only-of-type {\n",
       "        vertical-align: middle;\n",
       "    }\n",
       "\n",
       "    .dataframe tbody tr th {\n",
       "        vertical-align: top;\n",
       "    }\n",
       "\n",
       "    .dataframe thead th {\n",
       "        text-align: right;\n",
       "    }\n",
       "</style>\n",
       "<table border=\"1\" class=\"dataframe\">\n",
       "  <thead>\n",
       "    <tr style=\"text-align: right;\">\n",
       "      <th></th>\n",
       "      <th>uid</th>\n",
       "    </tr>\n",
       "    <tr>\n",
       "      <th>ev_name</th>\n",
       "      <th></th>\n",
       "    </tr>\n",
       "  </thead>\n",
       "  <tbody>\n",
       "    <tr>\n",
       "      <td>MainScreenAppear</td>\n",
       "      <td>7419</td>\n",
       "    </tr>\n",
       "  </tbody>\n",
       "</table>\n",
       "</div>"
      ],
      "text/plain": [
       "                   uid\n",
       "ev_name               \n",
       "MainScreenAppear  7419"
      ]
     },
     "execution_count": 51,
     "metadata": {},
     "output_type": "execute_result"
    }
   ],
   "source": [
    "# Определим самое популярное событие во всём логе\n",
    "dl.groupby('ev_name').agg({'uid':'nunique'}).sort_values(by='uid', ascending=False).head(1)\n",
    "# Это событие - также \"Открыл главный экран\""
   ]
  },
  {
   "cell_type": "markdown",
   "metadata": {},
   "source": [
    "**Посчитаем число пользователей, совершивших это событие в каждой из контрольных групп**"
   ]
  },
  {
   "cell_type": "code",
   "execution_count": 52,
   "metadata": {},
   "outputs": [
    {
     "data": {
      "text/html": [
       "<div>\n",
       "<style scoped>\n",
       "    .dataframe tbody tr th:only-of-type {\n",
       "        vertical-align: middle;\n",
       "    }\n",
       "\n",
       "    .dataframe tbody tr th {\n",
       "        vertical-align: top;\n",
       "    }\n",
       "\n",
       "    .dataframe thead th {\n",
       "        text-align: right;\n",
       "    }\n",
       "</style>\n",
       "<table border=\"1\" class=\"dataframe\">\n",
       "  <thead>\n",
       "    <tr style=\"text-align: right;\">\n",
       "      <th>ev_name</th>\n",
       "      <th>CartScreenAppear</th>\n",
       "      <th>MainScreenAppear</th>\n",
       "      <th>OffersScreenAppear</th>\n",
       "      <th>PaymentScreenSuccessful</th>\n",
       "      <th>Tutorial</th>\n",
       "    </tr>\n",
       "    <tr>\n",
       "      <th>enum</th>\n",
       "      <th></th>\n",
       "      <th></th>\n",
       "      <th></th>\n",
       "      <th></th>\n",
       "      <th></th>\n",
       "    </tr>\n",
       "  </thead>\n",
       "  <tbody>\n",
       "    <tr>\n",
       "      <td>246</td>\n",
       "      <td>1266</td>\n",
       "      <td>2450</td>\n",
       "      <td>1542</td>\n",
       "      <td>1200</td>\n",
       "      <td>278</td>\n",
       "    </tr>\n",
       "    <tr>\n",
       "      <td>247</td>\n",
       "      <td>1238</td>\n",
       "      <td>2476</td>\n",
       "      <td>1520</td>\n",
       "      <td>1158</td>\n",
       "      <td>283</td>\n",
       "    </tr>\n",
       "    <tr>\n",
       "      <td>248</td>\n",
       "      <td>1230</td>\n",
       "      <td>2493</td>\n",
       "      <td>1531</td>\n",
       "      <td>1181</td>\n",
       "      <td>279</td>\n",
       "    </tr>\n",
       "  </tbody>\n",
       "</table>\n",
       "</div>"
      ],
      "text/plain": [
       "ev_name  CartScreenAppear  MainScreenAppear  OffersScreenAppear  \\\n",
       "enum                                                              \n",
       "246                  1266              2450                1542   \n",
       "247                  1238              2476                1520   \n",
       "248                  1230              2493                1531   \n",
       "\n",
       "ev_name  PaymentScreenSuccessful  Tutorial  \n",
       "enum                                        \n",
       "246                         1200       278  \n",
       "247                         1158       283  \n",
       "248                         1181       279  "
      ]
     },
     "execution_count": 52,
     "metadata": {},
     "output_type": "execute_result"
    }
   ],
   "source": [
    "# Соберём таблицу с основными метриками\n",
    "t=(dl.pivot_table(index='ev_name', \n",
    "                columns='enum', \n",
    "                values='uid', \n",
    "                aggfunc='nunique')\n",
    "# .loc['MainScreenAppear',:]\n",
    "# .to_frame()\n",
    "  ).T\n",
    "t"
   ]
  },
  {
   "cell_type": "code",
   "execution_count": 53,
   "metadata": {},
   "outputs": [
    {
     "name": "stdout",
     "output_type": "stream",
     "text": [
      "\n",
      "В группе 246 - 2484 уникальных пользователей,\n",
      "В группе 247 - 2513 уникальных пользователей,\n",
      "В группе 248 - 2537 уникальных пользователей\n",
      "\n"
     ]
    }
   ],
   "source": [
    "# Число уникальных пользователей по группам\n",
    "uniq248 = dl[dl['enum']==248]['uid'].nunique()\n",
    "print('''\n",
    "В группе 246 - {} уникальных пользователей,\n",
    "В группе 247 - {} уникальных пользователей,\n",
    "В группе 248 - {} уникальных пользователей\n",
    "'''.format(uniq246, uniq247, uniq248))"
   ]
  },
  {
   "cell_type": "code",
   "execution_count": 54,
   "metadata": {},
   "outputs": [
    {
     "data": {
      "text/html": [
       "<div>\n",
       "<style scoped>\n",
       "    .dataframe tbody tr th:only-of-type {\n",
       "        vertical-align: middle;\n",
       "    }\n",
       "\n",
       "    .dataframe tbody tr th {\n",
       "        vertical-align: top;\n",
       "    }\n",
       "\n",
       "    .dataframe thead th {\n",
       "        text-align: right;\n",
       "    }\n",
       "</style>\n",
       "<table border=\"1\" class=\"dataframe\">\n",
       "  <thead>\n",
       "    <tr style=\"text-align: right;\">\n",
       "      <th></th>\n",
       "      <th>uniq_u_group</th>\n",
       "      <th>Main_u</th>\n",
       "      <th>Offer_u</th>\n",
       "      <th>Cart_u</th>\n",
       "      <th>Payment_u</th>\n",
       "    </tr>\n",
       "    <tr>\n",
       "      <th>enum</th>\n",
       "      <th></th>\n",
       "      <th></th>\n",
       "      <th></th>\n",
       "      <th></th>\n",
       "      <th></th>\n",
       "    </tr>\n",
       "  </thead>\n",
       "  <tbody>\n",
       "    <tr>\n",
       "      <td>246</td>\n",
       "      <td>2484</td>\n",
       "      <td>2450</td>\n",
       "      <td>1542</td>\n",
       "      <td>1266</td>\n",
       "      <td>1200</td>\n",
       "    </tr>\n",
       "    <tr>\n",
       "      <td>247</td>\n",
       "      <td>2513</td>\n",
       "      <td>2476</td>\n",
       "      <td>1520</td>\n",
       "      <td>1238</td>\n",
       "      <td>1158</td>\n",
       "    </tr>\n",
       "    <tr>\n",
       "      <td>248</td>\n",
       "      <td>2537</td>\n",
       "      <td>2493</td>\n",
       "      <td>1531</td>\n",
       "      <td>1230</td>\n",
       "      <td>1181</td>\n",
       "    </tr>\n",
       "  </tbody>\n",
       "</table>\n",
       "</div>"
      ],
      "text/plain": [
       "      uniq_u_group  Main_u  Offer_u  Cart_u  Payment_u\n",
       "enum                                                  \n",
       "246           2484    2450     1542    1266       1200\n",
       "247           2513    2476     1520    1238       1158\n",
       "248           2537    2493     1531    1230       1181"
      ]
     },
     "execution_count": 54,
     "metadata": {},
     "output_type": "execute_result"
    }
   ],
   "source": [
    "t['uniq_u_group'] = [uniq246,uniq247,uniq248]\n",
    "if 'Tutorial' in t.columns:\n",
    "    t=t.drop(['Tutorial'], axis=1)\n",
    "else:\n",
    "    pass\n",
    "t=t[['uniq_u_group','MainScreenAppear', 'OffersScreenAppear', 'CartScreenAppear', 'PaymentScreenSuccessful']]\n",
    "t.columns = ['uniq_u_group', 'Main_u', 'Offer_u', 'Cart_u', 'Payment_u']\n",
    "t"
   ]
  },
  {
   "cell_type": "code",
   "execution_count": 55,
   "metadata": {},
   "outputs": [
    {
     "data": {
      "text/html": [
       "<div>\n",
       "<style scoped>\n",
       "    .dataframe tbody tr th:only-of-type {\n",
       "        vertical-align: middle;\n",
       "    }\n",
       "\n",
       "    .dataframe tbody tr th {\n",
       "        vertical-align: top;\n",
       "    }\n",
       "\n",
       "    .dataframe thead th {\n",
       "        text-align: right;\n",
       "    }\n",
       "</style>\n",
       "<table border=\"1\" class=\"dataframe\">\n",
       "  <thead>\n",
       "    <tr style=\"text-align: right;\">\n",
       "      <th></th>\n",
       "      <th>uniq_u_group</th>\n",
       "      <th>Main_u</th>\n",
       "      <th>Main_part</th>\n",
       "      <th>Offer_u</th>\n",
       "      <th>Offer_part</th>\n",
       "      <th>conv_M_O</th>\n",
       "      <th>Cart_u</th>\n",
       "      <th>Offer_part</th>\n",
       "      <th>conv_O_C</th>\n",
       "      <th>Payment_u</th>\n",
       "      <th>Payment_part</th>\n",
       "      <th>conv_C_P</th>\n",
       "    </tr>\n",
       "    <tr>\n",
       "      <th>enum</th>\n",
       "      <th></th>\n",
       "      <th></th>\n",
       "      <th></th>\n",
       "      <th></th>\n",
       "      <th></th>\n",
       "      <th></th>\n",
       "      <th></th>\n",
       "      <th></th>\n",
       "      <th></th>\n",
       "      <th></th>\n",
       "      <th></th>\n",
       "      <th></th>\n",
       "    </tr>\n",
       "  </thead>\n",
       "  <tbody>\n",
       "    <tr>\n",
       "      <td>246</td>\n",
       "      <td>2484</td>\n",
       "      <td>2450</td>\n",
       "      <td>0.986312</td>\n",
       "      <td>1542</td>\n",
       "      <td>0.620773</td>\n",
       "      <td>0.629388</td>\n",
       "      <td>1266</td>\n",
       "      <td>0.620773</td>\n",
       "      <td>0.821012</td>\n",
       "      <td>1200</td>\n",
       "      <td>0.483092</td>\n",
       "      <td>0.947867</td>\n",
       "    </tr>\n",
       "    <tr>\n",
       "      <td>247</td>\n",
       "      <td>2513</td>\n",
       "      <td>2476</td>\n",
       "      <td>0.985277</td>\n",
       "      <td>1520</td>\n",
       "      <td>0.604855</td>\n",
       "      <td>0.613893</td>\n",
       "      <td>1238</td>\n",
       "      <td>0.604855</td>\n",
       "      <td>0.814474</td>\n",
       "      <td>1158</td>\n",
       "      <td>0.460804</td>\n",
       "      <td>0.935380</td>\n",
       "    </tr>\n",
       "    <tr>\n",
       "      <td>248</td>\n",
       "      <td>2537</td>\n",
       "      <td>2493</td>\n",
       "      <td>0.982657</td>\n",
       "      <td>1531</td>\n",
       "      <td>0.603469</td>\n",
       "      <td>0.614120</td>\n",
       "      <td>1230</td>\n",
       "      <td>0.603469</td>\n",
       "      <td>0.803396</td>\n",
       "      <td>1181</td>\n",
       "      <td>0.465510</td>\n",
       "      <td>0.960163</td>\n",
       "    </tr>\n",
       "  </tbody>\n",
       "</table>\n",
       "</div>"
      ],
      "text/plain": [
       "      uniq_u_group  Main_u  Main_part  Offer_u  Offer_part  conv_M_O  Cart_u  \\\n",
       "enum                                                                           \n",
       "246           2484    2450   0.986312     1542    0.620773  0.629388    1266   \n",
       "247           2513    2476   0.985277     1520    0.604855  0.613893    1238   \n",
       "248           2537    2493   0.982657     1531    0.603469  0.614120    1230   \n",
       "\n",
       "      Offer_part  conv_O_C  Payment_u  Payment_part  conv_C_P  \n",
       "enum                                                           \n",
       "246     0.620773  0.821012       1200      0.483092  0.947867  \n",
       "247     0.604855  0.814474       1158      0.460804  0.935380  \n",
       "248     0.603469  0.803396       1181      0.465510  0.960163  "
      ]
     },
     "execution_count": 55,
     "metadata": {},
     "output_type": "execute_result"
    }
   ],
   "source": [
    "# Добавим информацию о конверсии по событиям\n",
    "t['conv_M_O'] = t['Offer_u']/ t['Main_u']\n",
    "t['conv_O_C'] = t['Cart_u']/ t['Offer_u']\n",
    "t['conv_C_P'] = t['Payment_u']/ t['Cart_u']\n",
    "# Добавим информацию о долях к общему чилу пользователей в группе\n",
    "t['Main_part'] = t['Main_u'] / t['uniq_u_group']\n",
    "t['Offer_part'] = t['Offer_u'] / t['uniq_u_group']\n",
    "t['Cart_part'] = t['Cart_u'] / t['uniq_u_group']\n",
    "t['Payment_part'] = t['Payment_u'] / t['uniq_u_group']\n",
    "# Перегруппируем колонки для удобства\n",
    "t = t[['uniq_u_group', 'Main_u', 'Main_part', \n",
    "       'Offer_u', 'Offer_part', 'conv_M_O', \n",
    "       'Cart_u', 'Offer_part', 'conv_O_C',\n",
    "       'Payment_u', 'Payment_part', 'conv_C_P']]\n",
    "t"
   ]
  },
  {
   "cell_type": "code",
   "execution_count": 56,
   "metadata": {},
   "outputs": [
    {
     "data": {
      "text/html": [
       "<div>\n",
       "<style scoped>\n",
       "    .dataframe tbody tr th:only-of-type {\n",
       "        vertical-align: middle;\n",
       "    }\n",
       "\n",
       "    .dataframe tbody tr th {\n",
       "        vertical-align: top;\n",
       "    }\n",
       "\n",
       "    .dataframe thead th {\n",
       "        text-align: right;\n",
       "    }\n",
       "</style>\n",
       "<table border=\"1\" class=\"dataframe\">\n",
       "  <thead>\n",
       "    <tr style=\"text-align: right;\">\n",
       "      <th></th>\n",
       "      <th>Main_u</th>\n",
       "    </tr>\n",
       "    <tr>\n",
       "      <th>enum</th>\n",
       "      <th></th>\n",
       "    </tr>\n",
       "  </thead>\n",
       "  <tbody>\n",
       "    <tr>\n",
       "      <td>246</td>\n",
       "      <td>2450</td>\n",
       "    </tr>\n",
       "    <tr>\n",
       "      <td>247</td>\n",
       "      <td>2476</td>\n",
       "    </tr>\n",
       "    <tr>\n",
       "      <td>248</td>\n",
       "      <td>2493</td>\n",
       "    </tr>\n",
       "  </tbody>\n",
       "</table>\n",
       "</div>"
      ],
      "text/plain": [
       "      Main_u\n",
       "enum        \n",
       "246     2450\n",
       "247     2476\n",
       "248     2493"
      ]
     },
     "execution_count": 56,
     "metadata": {},
     "output_type": "execute_result"
    }
   ],
   "source": [
    "# Посчитаем число пользователей, совершивших это событие в каждой из контрольных групп\n",
    "t[['Main_u']]"
   ]
  },
  {
   "cell_type": "markdown",
   "metadata": {},
   "source": [
    "**Посчитаем долю пользователей, совершивших это событие**"
   ]
  },
  {
   "cell_type": "code",
   "execution_count": 57,
   "metadata": {},
   "outputs": [
    {
     "data": {
      "text/plain": [
       "0.9847358640828245"
      ]
     },
     "execution_count": 57,
     "metadata": {},
     "output_type": "execute_result"
    }
   ],
   "source": [
    "# Посчитаем долю пользователей, совершивших это событие, во всём логе\n",
    "dl[dl['ev_name'] == 'MainScreenAppear']['uid'].nunique() / uni_us_tot # 98.47%"
   ]
  },
  {
   "cell_type": "markdown",
   "metadata": {},
   "source": [
    "**Проверим, будет ли отличие между группами статистически достоверным, по событию MainScreenAppear**"
   ]
  },
  {
   "cell_type": "code",
   "execution_count": 58,
   "metadata": {},
   "outputs": [
    {
     "data": {
      "text/html": [
       "<div>\n",
       "<style scoped>\n",
       "    .dataframe tbody tr th:only-of-type {\n",
       "        vertical-align: middle;\n",
       "    }\n",
       "\n",
       "    .dataframe tbody tr th {\n",
       "        vertical-align: top;\n",
       "    }\n",
       "\n",
       "    .dataframe thead th {\n",
       "        text-align: right;\n",
       "    }\n",
       "</style>\n",
       "<table border=\"1\" class=\"dataframe\">\n",
       "  <thead>\n",
       "    <tr style=\"text-align: right;\">\n",
       "      <th></th>\n",
       "      <th>uniq_u_group</th>\n",
       "      <th>Main_u</th>\n",
       "      <th>Main_part</th>\n",
       "      <th>Offer_u</th>\n",
       "      <th>Offer_part</th>\n",
       "      <th>conv_M_O</th>\n",
       "      <th>Cart_u</th>\n",
       "      <th>Offer_part</th>\n",
       "      <th>conv_O_C</th>\n",
       "      <th>Payment_u</th>\n",
       "      <th>Payment_part</th>\n",
       "      <th>conv_C_P</th>\n",
       "    </tr>\n",
       "    <tr>\n",
       "      <th>enum</th>\n",
       "      <th></th>\n",
       "      <th></th>\n",
       "      <th></th>\n",
       "      <th></th>\n",
       "      <th></th>\n",
       "      <th></th>\n",
       "      <th></th>\n",
       "      <th></th>\n",
       "      <th></th>\n",
       "      <th></th>\n",
       "      <th></th>\n",
       "      <th></th>\n",
       "    </tr>\n",
       "  </thead>\n",
       "  <tbody>\n",
       "    <tr>\n",
       "      <td>246</td>\n",
       "      <td>2484</td>\n",
       "      <td>2450</td>\n",
       "      <td>0.986312</td>\n",
       "      <td>1542</td>\n",
       "      <td>0.620773</td>\n",
       "      <td>0.629388</td>\n",
       "      <td>1266</td>\n",
       "      <td>0.620773</td>\n",
       "      <td>0.821012</td>\n",
       "      <td>1200</td>\n",
       "      <td>0.483092</td>\n",
       "      <td>0.947867</td>\n",
       "    </tr>\n",
       "    <tr>\n",
       "      <td>247</td>\n",
       "      <td>2513</td>\n",
       "      <td>2476</td>\n",
       "      <td>0.985277</td>\n",
       "      <td>1520</td>\n",
       "      <td>0.604855</td>\n",
       "      <td>0.613893</td>\n",
       "      <td>1238</td>\n",
       "      <td>0.604855</td>\n",
       "      <td>0.814474</td>\n",
       "      <td>1158</td>\n",
       "      <td>0.460804</td>\n",
       "      <td>0.935380</td>\n",
       "    </tr>\n",
       "    <tr>\n",
       "      <td>248</td>\n",
       "      <td>2537</td>\n",
       "      <td>2493</td>\n",
       "      <td>0.982657</td>\n",
       "      <td>1531</td>\n",
       "      <td>0.603469</td>\n",
       "      <td>0.614120</td>\n",
       "      <td>1230</td>\n",
       "      <td>0.603469</td>\n",
       "      <td>0.803396</td>\n",
       "      <td>1181</td>\n",
       "      <td>0.465510</td>\n",
       "      <td>0.960163</td>\n",
       "    </tr>\n",
       "  </tbody>\n",
       "</table>\n",
       "</div>"
      ],
      "text/plain": [
       "      uniq_u_group  Main_u  Main_part  Offer_u  Offer_part  conv_M_O  Cart_u  \\\n",
       "enum                                                                           \n",
       "246           2484    2450   0.986312     1542    0.620773  0.629388    1266   \n",
       "247           2513    2476   0.985277     1520    0.604855  0.613893    1238   \n",
       "248           2537    2493   0.982657     1531    0.603469  0.614120    1230   \n",
       "\n",
       "      Offer_part  conv_O_C  Payment_u  Payment_part  conv_C_P  \n",
       "enum                                                           \n",
       "246     0.620773  0.821012       1200      0.483092  0.947867  \n",
       "247     0.604855  0.814474       1158      0.460804  0.935380  \n",
       "248     0.603469  0.803396       1181      0.465510  0.960163  "
      ]
     },
     "execution_count": 58,
     "metadata": {},
     "output_type": "execute_result"
    }
   ],
   "source": [
    "t"
   ]
  },
  {
   "cell_type": "code",
   "execution_count": 59,
   "metadata": {},
   "outputs": [
    {
     "name": "stdout",
     "output_type": "stream",
     "text": [
      "p-значение для события Main_u:  0.7570597232046099 , alpha = 0.01\n",
      "Не получилось отвергнуть нулевую гипотезу, нет оснований считать доли разными\n"
     ]
    }
   ],
   "source": [
    "#Проверим, будет ли отличие между группами статистически достоверным\n",
    "alpha = .01\n",
    "\n",
    "# Используем тест для проверки равенства долей для события MainScreenAppear\n",
    "# Проверим гипотезу о равенстве долей\n",
    "successes = np.array([t['Main_u'][246], t['Main_u'][247]])\n",
    "trials = np.array([t['uniq_u_group'][246], t['uniq_u_group'][247]])\n",
    "# Пропорция успехов в группе 246 и 247\n",
    "p246 = successes[0]/trials[0]\n",
    "p247 = successes[1]/trials[1]\n",
    "# Пропорция успехов в комбинированным датасете\n",
    "p_comb = (successes[0]+successes[1])/(trials[0]+trials[1])\n",
    "# Разница пропорция в датасетах экспериментов\n",
    "diff = p246-p247\n",
    "#считаем статистику в ст.отклонениях стандартного нормального распределения\n",
    "z_value = diff/mt.sqrt(p_comb*(1-p_comb)*(1/trials[0] + 1/trials[1]))\n",
    "#задаем стандартное нормальное распределение (среднее 0, ст.отклонение 1)\n",
    "distr = st.norm(0, 1)\n",
    "p_value = (1 - distr.cdf(abs(z_value))) * 2\n",
    "print('p-значение для события Main_u: ', p_value, ', alpha =',alpha)\n",
    "if (p_value < alpha):\n",
    "    print(\"Отвергаем нулевую гипотезу: между долями есть значимая разница\")\n",
    "else:\n",
    "    print(\"Не получилось отвергнуть нулевую гипотезу, нет оснований считать доли разными\")"
   ]
  },
  {
   "cell_type": "markdown",
   "metadata": {},
   "source": [
    "Результаты проверка показывают, что различия между группами по событию \"Открыл главных экран\" статистически недостоверны, т.е. считаем их одинаковыми"
   ]
  },
  {
   "cell_type": "code",
   "execution_count": 60,
   "metadata": {},
   "outputs": [],
   "source": [
    "# Проделаем то же самое для всех других событий (в виде функции)\n",
    "def stat_check_for_event(event_col, g1, g2):\n",
    "    successes = np.array([t[event_col][g1], t[event_col][g2]])\n",
    "    trials = np.array([t['uniq_u_group'][g1], t['uniq_u_group'][g2]])\n",
    "    p1 = successes[0]/trials[0]\n",
    "    p2 = successes[1]/trials[1]\n",
    "    p_comb = (successes[0]+successes[1])/(trials[0]+trials[1])\n",
    "    diff = p1-p2\n",
    "    z_value = diff/mt.sqrt(p_comb*(1-p_comb)*(1/trials[0] + 1/trials[1]))\n",
    "    distr = st.norm(0, 1)\n",
    "    p_value = (1 - distr.cdf(abs(z_value))) * 2\n",
    "    print(f'Для события {event_col} p-значение: {p_value}, alpha={alpha}')\n",
    "    if (p_value < alpha):\n",
    "        print(\"!!! Отвергаем нулевую гипотезу: между долями есть значимая разница\")\n",
    "    else:\n",
    "        print(\"Не получилось отвергнуть нулевую гипотезу, нет оснований считать доли разными\")"
   ]
  },
  {
   "cell_type": "code",
   "execution_count": 61,
   "metadata": {},
   "outputs": [
    {
     "name": "stdout",
     "output_type": "stream",
     "text": [
      "Для события Offer_u p-значение: 0.2480954578522181, alpha=0.01\n",
      "Не получилось отвергнуть нулевую гипотезу, нет оснований считать доли разными\n"
     ]
    }
   ],
   "source": [
    "stat_check_for_event('Offer_u', 246, 247)"
   ]
  },
  {
   "cell_type": "code",
   "execution_count": 62,
   "metadata": {},
   "outputs": [
    {
     "name": "stdout",
     "output_type": "stream",
     "text": [
      "Для события Cart_u p-значение: 0.22883372237997213, alpha=0.01\n",
      "Не получилось отвергнуть нулевую гипотезу, нет оснований считать доли разными\n"
     ]
    }
   ],
   "source": [
    "stat_check_for_event('Cart_u', 246, 247)"
   ]
  },
  {
   "cell_type": "code",
   "execution_count": 63,
   "metadata": {},
   "outputs": [
    {
     "name": "stdout",
     "output_type": "stream",
     "text": [
      "Для события Payment_u p-значение: 0.11456679313141849, alpha=0.01\n",
      "Не получилось отвергнуть нулевую гипотезу, нет оснований считать доли разными\n"
     ]
    }
   ],
   "source": [
    "stat_check_for_event('Payment_u', 246, 247)"
   ]
  },
  {
   "cell_type": "markdown",
   "metadata": {},
   "source": [
    "Результаты проверок показывают, что различия для каждого события между группами 246 и 247 не являются статистически значимыми. \n",
    "\n",
    "Вывод: **разделение на группы осуществляется корректно!**"
   ]
  },
  {
   "cell_type": "markdown",
   "metadata": {},
   "source": [
    "---\n",
    "### <a id='54'>5.4 Проверка отличий групп А/В-теста по событиям на стат. достоверность (А1/В, А2/В, (А1+А2)/В</a>"
   ]
  },
  {
   "cell_type": "markdown",
   "metadata": {},
   "source": [
    "Аналогично поступите с группой с изменённым шрифтом. \n",
    "* Сравните результаты с каждой из контрольных групп в отдельности по каждому событию. \n",
    "* Сравните результаты с объединённой контрольной группой. \n",
    "* Какие выводы из эксперимента можно сделать?"
   ]
  },
  {
   "cell_type": "code",
   "execution_count": 64,
   "metadata": {},
   "outputs": [
    {
     "name": "stdout",
     "output_type": "stream",
     "text": [
      "Для события Main_u p-значение: 0.2949721933554552, alpha=0.01\n",
      "Не получилось отвергнуть нулевую гипотезу, нет оснований считать доли разными\n",
      "\n",
      "Для события Offer_u p-значение: 0.20836205402738917, alpha=0.01\n",
      "Не получилось отвергнуть нулевую гипотезу, нет оснований считать доли разными\n",
      "\n",
      "Для события Cart_u p-значение: 0.07842923237520116, alpha=0.01\n",
      "Не получилось отвергнуть нулевую гипотезу, нет оснований считать доли разными\n",
      "\n",
      "Для события Payment_u p-значение: 0.2122553275697796, alpha=0.01\n",
      "Не получилось отвергнуть нулевую гипотезу, нет оснований считать доли разными\n",
      "\n"
     ]
    }
   ],
   "source": [
    "for i in ['Main_u', 'Offer_u', 'Cart_u', 'Payment_u']:\n",
    "    stat_check_for_event(i, 246, 248)\n",
    "    print()"
   ]
  },
  {
   "cell_type": "code",
   "execution_count": 65,
   "metadata": {},
   "outputs": [
    {
     "name": "stdout",
     "output_type": "stream",
     "text": [
      "Для события Main_u p-значение: 0.4587053616621515, alpha=0.01\n",
      "Не получилось отвергнуть нулевую гипотезу, нет оснований считать доли разными\n",
      "\n",
      "Для события Offer_u p-значение: 0.9197817830592261, alpha=0.01\n",
      "Не получилось отвергнуть нулевую гипотезу, нет оснований считать доли разными\n",
      "\n",
      "Для события Cart_u p-значение: 0.5786197879539783, alpha=0.01\n",
      "Не получилось отвергнуть нулевую гипотезу, нет оснований считать доли разными\n",
      "\n",
      "Для события Payment_u p-значение: 0.7373415053803964, alpha=0.01\n",
      "Не получилось отвергнуть нулевую гипотезу, нет оснований считать доли разными\n",
      "\n"
     ]
    }
   ],
   "source": [
    "for i in ['Main_u', 'Offer_u', 'Cart_u', 'Payment_u']:\n",
    "    stat_check_for_event(i, 247, 248)\n",
    "    print()"
   ]
  },
  {
   "cell_type": "markdown",
   "metadata": {},
   "source": [
    "**Вручную сравним с объединенной контрольной группой**"
   ]
  },
  {
   "cell_type": "code",
   "execution_count": 66,
   "metadata": {},
   "outputs": [
    {
     "name": "stdout",
     "output_type": "stream",
     "text": [
      "Для события Main_u p-значение: 0.29424526837179577\n",
      "Не получилось отвергнуть нулевую гипотезу, нет оснований считать доли разными\n",
      "\n",
      "Для события Offer_u p-значение: 0.43425549655188256\n",
      "Не получилось отвергнуть нулевую гипотезу, нет оснований считать доли разными\n",
      "\n",
      "Для события Cart_u p-значение: 0.18175875284404386\n",
      "Не получилось отвергнуть нулевую гипотезу, нет оснований считать доли разными\n",
      "\n",
      "Для события Payment_u p-значение: 0.6004294282308704\n",
      "Не получилось отвергнуть нулевую гипотезу, нет оснований считать доли разными\n",
      "\n"
     ]
    }
   ],
   "source": [
    "alpha=.01\n",
    "for i in ['Main_u', 'Offer_u', 'Cart_u', 'Payment_u']:\n",
    "    successes = np.array([t[i][246]+t[i][247], t[i][248]])\n",
    "    trials = np.array([t['uniq_u_group'][246]+t['uniq_u_group'][247], t['uniq_u_group'][248]])\n",
    "    p1 = successes[0]/trials[0]\n",
    "    p2 = successes[1]/trials[1]\n",
    "    p_comb = (successes[0]+successes[1])/(trials[0]+trials[1])\n",
    "    diff = p1-p2\n",
    "    z_value = diff/mt.sqrt(p_comb*(1-p_comb)*(1/trials[0] + 1/trials[1]))\n",
    "    distr = st.norm(0, 1)\n",
    "    p_value = (1 - distr.cdf(abs(z_value))) * 2\n",
    "    print(f'Для события {i} p-значение: {p_value}')\n",
    "    if (p_value < alpha):\n",
    "        print(\"!!! Отвергаем нулевую гипотезу: между долями есть значимая разница\")\n",
    "    else:\n",
    "        print(\"Не получилось отвергнуть нулевую гипотезу, нет оснований считать доли разными\")\n",
    "    print()"
   ]
  },
  {
   "cell_type": "markdown",
   "metadata": {},
   "source": [
    "**Выводы из задачи 5.4**\n",
    "1. Проведенный эксперимент показывает, что изменение шрифта в мобильном приложении никак не влияет на покупателей с точки зрения изменених их поведения. Изменения есть, но статистической значимости они не имеют. Поэтому изменение шрифтов в приложении внудрять нецелесообразно."
   ]
  },
  {
   "cell_type": "code",
   "execution_count": 67,
   "metadata": {},
   "outputs": [
    {
     "data": {
      "text/html": [
       "<div>\n",
       "<style scoped>\n",
       "    .dataframe tbody tr th:only-of-type {\n",
       "        vertical-align: middle;\n",
       "    }\n",
       "\n",
       "    .dataframe tbody tr th {\n",
       "        vertical-align: top;\n",
       "    }\n",
       "\n",
       "    .dataframe thead th {\n",
       "        text-align: right;\n",
       "    }\n",
       "</style>\n",
       "<table border=\"1\" class=\"dataframe\">\n",
       "  <thead>\n",
       "    <tr style=\"text-align: right;\">\n",
       "      <th></th>\n",
       "      <th>uniq_u_group</th>\n",
       "      <th>Main_u</th>\n",
       "      <th>Main_part</th>\n",
       "      <th>Offer_u</th>\n",
       "      <th>Offer_part</th>\n",
       "      <th>conv_M_O</th>\n",
       "      <th>Cart_u</th>\n",
       "      <th>Offer_part</th>\n",
       "      <th>conv_O_C</th>\n",
       "      <th>Payment_u</th>\n",
       "      <th>Payment_part</th>\n",
       "      <th>conv_C_P</th>\n",
       "    </tr>\n",
       "    <tr>\n",
       "      <th>enum</th>\n",
       "      <th></th>\n",
       "      <th></th>\n",
       "      <th></th>\n",
       "      <th></th>\n",
       "      <th></th>\n",
       "      <th></th>\n",
       "      <th></th>\n",
       "      <th></th>\n",
       "      <th></th>\n",
       "      <th></th>\n",
       "      <th></th>\n",
       "      <th></th>\n",
       "    </tr>\n",
       "  </thead>\n",
       "  <tbody>\n",
       "    <tr>\n",
       "      <td>246</td>\n",
       "      <td>2484</td>\n",
       "      <td>2450</td>\n",
       "      <td>0.986312</td>\n",
       "      <td>1542</td>\n",
       "      <td>0.620773</td>\n",
       "      <td>0.629388</td>\n",
       "      <td>1266</td>\n",
       "      <td>0.620773</td>\n",
       "      <td>0.821012</td>\n",
       "      <td>1200</td>\n",
       "      <td>0.483092</td>\n",
       "      <td>0.947867</td>\n",
       "    </tr>\n",
       "    <tr>\n",
       "      <td>247</td>\n",
       "      <td>2513</td>\n",
       "      <td>2476</td>\n",
       "      <td>0.985277</td>\n",
       "      <td>1520</td>\n",
       "      <td>0.604855</td>\n",
       "      <td>0.613893</td>\n",
       "      <td>1238</td>\n",
       "      <td>0.604855</td>\n",
       "      <td>0.814474</td>\n",
       "      <td>1158</td>\n",
       "      <td>0.460804</td>\n",
       "      <td>0.93538</td>\n",
       "    </tr>\n",
       "    <tr>\n",
       "      <td>248</td>\n",
       "      <td>2537</td>\n",
       "      <td>2493</td>\n",
       "      <td>0.982657</td>\n",
       "      <td>1531</td>\n",
       "      <td>0.603469</td>\n",
       "      <td>0.61412</td>\n",
       "      <td>1230</td>\n",
       "      <td>0.603469</td>\n",
       "      <td>0.803396</td>\n",
       "      <td>1181</td>\n",
       "      <td>0.46551</td>\n",
       "      <td>0.960163</td>\n",
       "    </tr>\n",
       "    <tr>\n",
       "      <td>248-247</td>\n",
       "      <td>24</td>\n",
       "      <td>17</td>\n",
       "      <td></td>\n",
       "      <td>11</td>\n",
       "      <td></td>\n",
       "      <td></td>\n",
       "      <td>-8</td>\n",
       "      <td></td>\n",
       "      <td></td>\n",
       "      <td>23</td>\n",
       "      <td></td>\n",
       "      <td></td>\n",
       "    </tr>\n",
       "  </tbody>\n",
       "</table>\n",
       "</div>"
      ],
      "text/plain": [
       "         uniq_u_group  Main_u Main_part  Offer_u Offer_part  conv_M_O  Cart_u  \\\n",
       "enum                                                                            \n",
       "246              2484    2450  0.986312     1542   0.620773  0.629388    1266   \n",
       "247              2513    2476  0.985277     1520   0.604855  0.613893    1238   \n",
       "248              2537    2493  0.982657     1531   0.603469   0.61412    1230   \n",
       "248-247            24      17                 11                           -8   \n",
       "\n",
       "        Offer_part  conv_O_C  Payment_u Payment_part  conv_C_P  \n",
       "enum                                                            \n",
       "246       0.620773  0.821012       1200     0.483092  0.947867  \n",
       "247       0.604855  0.814474       1158     0.460804   0.93538  \n",
       "248       0.603469  0.803396       1181      0.46551  0.960163  \n",
       "248-247                              23                         "
      ]
     },
     "execution_count": 67,
     "metadata": {},
     "output_type": "execute_result"
    }
   ],
   "source": [
    "### ДОПОЛНИТЕЛЬНО\n",
    "\n",
    "# Добавим строку с дельтой между основными метриками теста 248 и 247\n",
    "if '248-247' in t.index:\n",
    "    pass\n",
    "else:\n",
    "    t = t.append(pd.Series([2537-2513,2493-2476,'',\n",
    "                            1531-1520,'','',1230-1238,'','',\n",
    "                            1181-1158,'',''], index=t.columns, \n",
    "                           name='248-247'), ignore_index=False)\n",
    "t"
   ]
  },
  {
   "cell_type": "markdown",
   "metadata": {},
   "source": [
    "Из абсолютных значений видно, что разница в значениях очень невелика, что подтверждает выводы из задачи 5.4"
   ]
  },
  {
   "cell_type": "markdown",
   "metadata": {},
   "source": [
    "---\n",
    "### <a id='55'>5.5 Определение уровня значимости при проверке стат. гипотез</a>"
   ]
  },
  {
   "cell_type": "markdown",
   "metadata": {},
   "source": [
    "* Какой уровень значимости вы выбрали при проверке статистических гипотез выше? \n",
    "* Посчитайте, сколько проверок статистических гипотез вы сделали. \n",
    "* При уровне значимости 0.1 каждый десятый раз можно получать ложный результат. \n",
    "* Какой уровень значимости стоит применить? \n",
    "* Если вы хотите изменить его, проделайте предыдущие пункты и проверьте свои выводы."
   ]
  },
  {
   "cell_type": "markdown",
   "metadata": {},
   "source": [
    "Ответы на вопросы:\n",
    "\n",
    "1. Для проверки статистических гипотез был выбран критический уровень статистической значимости в 1% (alpha=.01).\n",
    "- Всего было проведено 17 проверок статистических гипотез.\n",
    "- Исходя из того, что при alpha=0.01 каждый десятый раз можно получать ложный результат, достоверность проверки гипотез составила не менее (17 * (1 - 0.01)) / 17 * 100 = 99.0% (что примерно равно критическому уровню стат.значимости)\n",
    "- Оптимальный, на мой взгляд, уроверь стат. значимости составляет в данном случае 1% (alpha=0.01)."
   ]
  },
  {
   "cell_type": "code",
   "execution_count": 68,
   "metadata": {},
   "outputs": [
    {
     "name": "stdout",
     "output_type": "stream",
     "text": [
      "При alpha=0.001, достоверность результатов составит 99.9%\n",
      "При alpha=0.005, достоверность результатов составит 99.5%\n",
      "При alpha=0.01, достоверность результатов составит 99.0%\n",
      "При alpha=0.05, достоверность результатов составит 95.0%\n",
      "При alpha=0.1, достоверность результатов составит 90.0%\n",
      "При alpha=0.2, достоверность результатов составит 80.0%\n"
     ]
    }
   ],
   "source": [
    "for i in [0.001, 0.005, 0.01, 0.05, 0.1, 0.2]:\n",
    "    print(f'При alpha={i}, достоверность результатов составит {(17*(1-i))/17*100:.1f}%')"
   ]
  },
  {
   "cell_type": "code",
   "execution_count": 69,
   "metadata": {},
   "outputs": [
    {
     "name": "stdout",
     "output_type": "stream",
     "text": [
      "Для события Main_u p-значение: 0.2949721933554552, alpha=0.001\n",
      "Не получилось отвергнуть нулевую гипотезу, нет оснований считать доли разными\n",
      "\n",
      "Для события Offer_u p-значение: 0.20836205402738917, alpha=0.001\n",
      "Не получилось отвергнуть нулевую гипотезу, нет оснований считать доли разными\n",
      "\n",
      "Для события Cart_u p-значение: 0.07842923237520116, alpha=0.001\n",
      "Не получилось отвергнуть нулевую гипотезу, нет оснований считать доли разными\n",
      "\n",
      "Для события Payment_u p-значение: 0.2122553275697796, alpha=0.001\n",
      "Не получилось отвергнуть нулевую гипотезу, нет оснований считать доли разными\n",
      "\n",
      "Для события Main_u p-значение: 0.2949721933554552, alpha=0.05\n",
      "Не получилось отвергнуть нулевую гипотезу, нет оснований считать доли разными\n",
      "\n",
      "Для события Offer_u p-значение: 0.20836205402738917, alpha=0.05\n",
      "Не получилось отвергнуть нулевую гипотезу, нет оснований считать доли разными\n",
      "\n",
      "Для события Cart_u p-значение: 0.07842923237520116, alpha=0.05\n",
      "Не получилось отвергнуть нулевую гипотезу, нет оснований считать доли разными\n",
      "\n",
      "Для события Payment_u p-значение: 0.2122553275697796, alpha=0.05\n",
      "Не получилось отвергнуть нулевую гипотезу, нет оснований считать доли разными\n",
      "\n",
      "Для события Main_u p-значение: 0.2949721933554552, alpha=0.1\n",
      "Не получилось отвергнуть нулевую гипотезу, нет оснований считать доли разными\n",
      "\n",
      "Для события Offer_u p-значение: 0.20836205402738917, alpha=0.1\n",
      "Не получилось отвергнуть нулевую гипотезу, нет оснований считать доли разными\n",
      "\n",
      "Для события Cart_u p-значение: 0.07842923237520116, alpha=0.1\n",
      "!!! Отвергаем нулевую гипотезу: между долями есть значимая разница\n",
      "\n",
      "Для события Payment_u p-значение: 0.2122553275697796, alpha=0.1\n",
      "Не получилось отвергнуть нулевую гипотезу, нет оснований считать доли разными\n",
      "\n",
      "Для события Main_u p-значение: 0.2949721933554552, alpha=0.2\n",
      "Не получилось отвергнуть нулевую гипотезу, нет оснований считать доли разными\n",
      "\n",
      "Для события Offer_u p-значение: 0.20836205402738917, alpha=0.2\n",
      "Не получилось отвергнуть нулевую гипотезу, нет оснований считать доли разными\n",
      "\n",
      "Для события Cart_u p-значение: 0.07842923237520116, alpha=0.2\n",
      "!!! Отвергаем нулевую гипотезу: между долями есть значимая разница\n",
      "\n",
      "Для события Payment_u p-значение: 0.2122553275697796, alpha=0.2\n",
      "Не получилось отвергнуть нулевую гипотезу, нет оснований считать доли разными\n",
      "\n"
     ]
    }
   ],
   "source": [
    "# Проведём допольнительно проверку стат. гипотез с разным alpha\n",
    "\n",
    "for alpha in [0.001, 0.05, 0.1, 0.2]:\n",
    "    for event in ['Main_u', 'Offer_u', 'Cart_u', 'Payment_u']:\n",
    "        stat_check_for_event(event, 246, 248)\n",
    "        print()"
   ]
  },
  {
   "cell_type": "code",
   "execution_count": 68,
   "metadata": {},
   "outputs": [
    {
     "name": "stdout",
     "output_type": "stream",
     "text": [
      "Для события Main_u p-значение: 0.4587053616621515, alpha=0.001\n",
      "Не получилось отвергнуть нулевую гипотезу, нет оснований считать доли разными\n",
      "\n",
      "Для события Offer_u p-значение: 0.9197817830592261, alpha=0.001\n",
      "Не получилось отвергнуть нулевую гипотезу, нет оснований считать доли разными\n",
      "\n",
      "Для события Cart_u p-значение: 0.5786197879539783, alpha=0.001\n",
      "Не получилось отвергнуть нулевую гипотезу, нет оснований считать доли разными\n",
      "\n",
      "Для события Payment_u p-значение: 0.7373415053803964, alpha=0.001\n",
      "Не получилось отвергнуть нулевую гипотезу, нет оснований считать доли разными\n",
      "\n",
      "Для события Main_u p-значение: 0.4587053616621515, alpha=0.05\n",
      "Не получилось отвергнуть нулевую гипотезу, нет оснований считать доли разными\n",
      "\n",
      "Для события Offer_u p-значение: 0.9197817830592261, alpha=0.05\n",
      "Не получилось отвергнуть нулевую гипотезу, нет оснований считать доли разными\n",
      "\n",
      "Для события Cart_u p-значение: 0.5786197879539783, alpha=0.05\n",
      "Не получилось отвергнуть нулевую гипотезу, нет оснований считать доли разными\n",
      "\n",
      "Для события Payment_u p-значение: 0.7373415053803964, alpha=0.05\n",
      "Не получилось отвергнуть нулевую гипотезу, нет оснований считать доли разными\n",
      "\n",
      "Для события Main_u p-значение: 0.4587053616621515, alpha=0.1\n",
      "Не получилось отвергнуть нулевую гипотезу, нет оснований считать доли разными\n",
      "\n",
      "Для события Offer_u p-значение: 0.9197817830592261, alpha=0.1\n",
      "Не получилось отвергнуть нулевую гипотезу, нет оснований считать доли разными\n",
      "\n",
      "Для события Cart_u p-значение: 0.5786197879539783, alpha=0.1\n",
      "Не получилось отвергнуть нулевую гипотезу, нет оснований считать доли разными\n",
      "\n",
      "Для события Payment_u p-значение: 0.7373415053803964, alpha=0.1\n",
      "Не получилось отвергнуть нулевую гипотезу, нет оснований считать доли разными\n",
      "\n",
      "Для события Main_u p-значение: 0.4587053616621515, alpha=0.2\n",
      "Не получилось отвергнуть нулевую гипотезу, нет оснований считать доли разными\n",
      "\n",
      "Для события Offer_u p-значение: 0.9197817830592261, alpha=0.2\n",
      "Не получилось отвергнуть нулевую гипотезу, нет оснований считать доли разными\n",
      "\n",
      "Для события Cart_u p-значение: 0.5786197879539783, alpha=0.2\n",
      "Не получилось отвергнуть нулевую гипотезу, нет оснований считать доли разными\n",
      "\n",
      "Для события Payment_u p-значение: 0.7373415053803964, alpha=0.2\n",
      "Не получилось отвергнуть нулевую гипотезу, нет оснований считать доли разными\n",
      "\n"
     ]
    }
   ],
   "source": [
    "for alpha in [0.001, 0.05, 0.1, 0.2]:\n",
    "    for event in ['Main_u', 'Offer_u', 'Cart_u', 'Payment_u']:\n",
    "        stat_check_for_event(event, 247, 248)\n",
    "        print()"
   ]
  },
  {
   "cell_type": "markdown",
   "metadata": {},
   "source": [
    "### Выводы по шагу 5\n",
    "1. Проверка А/А-теста на стат. значимость различий показала, что разделение на группы происходит корректно, никакой статистически значимой разницы между метриками групп 246 и 247 не выявлено.\n",
    "- Проверка А/В-теста на стат. значимость различий показала, что изменение шрифтов в мобильном приложении значимо не повлияла на пользовательское поведение и на конверсию. Следовательно, внедрять изменения нецелесообразно.\n",
    "- Оптимальный уровень статистической значимости в данном случае рекомендуется уровень в 1% (alpha=0.01).\n",
    "\n",
    "---"
   ]
  },
  {
   "cell_type": "markdown",
   "metadata": {},
   "source": [
    "## <a id='paragraph6'>Шаг 6. Выводы по проекту</a>\n",
    "([К оглавлению](#oglav))"
   ]
  },
  {
   "cell_type": "markdown",
   "metadata": {},
   "source": [
    "**Подробные выводы по всем шагам**:\n",
    "1. В исходном логе представлены данные за период с 27 июля по 8 августа 2019 года.\n",
    "- Детальное изучение данных показало, что число данных в период до 1 августа многократне меньше, чем то же число в период после 1 августа.\n",
    "- Для дальнейшего анализа возьмём период с 01-08-2019 по 08-08-2019, при этом потери составят всего 0.22% уникальных пользователей или 1.15% от общего числа событий\n",
    "- В измененном датасете содержится информация о примерно равном числе пользователей по экспериментальным группам.\n",
    "\n",
    "1. Определили события, которые составляют цепочку воронки: Главный экран -> Страница заказа -> Карточка товара -> Успешная оплата.\n",
    "- Ещё одно событие в логе - Инструкция - является дополнительным событиям, не входят в цепочку основных событий воронки (конверсию по ним не считаем).\n",
    "- Для информации: раздел Инструкция открывают около 11% всех пользователей.\n",
    "- Самая низкая конверсия воронки наблюдается на событии \"Страница заказа\", составляет менее 62%.\n",
    "- Процент пользователей, прошедших всю воронку, составляет около 47%.\n",
    "\n",
    "1. Проверка А/А-теста на стат. значимость различий показала, что разделение на группы происходит корректно, никакой статистически значимой разницы между метриками групп 246 и 247 не выявлено.\n",
    "- Проверка А/В-теста на стат. значимость различий показала, что изменение шрифтов в мобильном приложении значимо не повлияла на пользовательское поведение и на конверсию. Следовательно, внедрять изменения нецелесообразно.\n",
    "- Оптимальный уровень статистической значимости в данном случае рекомендуется уровень в 1% (alpha=0.01)."
   ]
  },
  {
   "cell_type": "markdown",
   "metadata": {},
   "source": [
    "### Общие выводы по проекту"
   ]
  },
  {
   "cell_type": "markdown",
   "metadata": {},
   "source": [
    "<b>\n",
    "    1. Изменение шрифта в приложении никак не скажется на покупательской активности пользователей.\n",
    "    - Самая низкая конверсия наблюдается при переходе с главного экрана на экран заказов (около 62%).\n",
    "</b>\n",
    "\n",
    "Рекомендации:\n",
    "1. Доработать главный экран мобильного приложения для увеличения конверсии на этапе перехода на Страницу заказов.\n",
    "- Разработать другие гипотезы для увеличения продаж (кроме изменения шрифтов в приложении) и провести тесты для изучения их влияния на покупательскую активность пользователей."
   ]
  }
 ],
 "metadata": {
  "kernelspec": {
   "display_name": "Python 3",
   "language": "python",
   "name": "python3"
  },
  "language_info": {
   "codemirror_mode": {
    "name": "ipython",
    "version": 3
   },
   "file_extension": ".py",
   "mimetype": "text/x-python",
   "name": "python",
   "nbconvert_exporter": "python",
   "pygments_lexer": "ipython3",
   "version": "3.7.7"
  }
 },
 "nbformat": 4,
 "nbformat_minor": 2
}
