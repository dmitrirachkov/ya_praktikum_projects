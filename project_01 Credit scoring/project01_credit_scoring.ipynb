{
 "cells": [
  {
   "cell_type": "markdown",
   "metadata": {
    "id": "lWd9rwduMAG1"
   },
   "source": [
    "# ПРОЕКТ 1 \"Исследование надёжности заёмщиков\"\n",
    "\n",
    "Исходные данные:\n",
    "По заданию кредитного отдела банка на основе статистики платежеспособности клиентов необходимо определить, влияет ли семейное положение и количество детей на возвращаемость кредита в срок.\n",
    "\n",
    "Результаты исследования будут учтены при построении модели кредитного скоринга."
   ]
  },
  {
   "cell_type": "markdown",
   "metadata": {
    "id": "K9U2yvANM2w_"
   },
   "source": [
    "## Состав проекта\n",
    "\n",
    "1.   [Шаг 1. Изучение исходных данных](#prestudy)\n",
    "2.   [Шаг 2. Предобработка данных](#prep)<br>\n",
    "  2.1. Обработка пропусков<br>\n",
    "  2.2. Замена типа данных<br>\n",
    "  2.3. Обработка дуликатов<br>\n",
    "  2.4. Лемматизация<br>\n",
    "  2.5. Исправление ошибок в данных<br>\n",
    "  2.6. Категоризация данных<br>\n",
    "\n",
    "3.   [Шаг 3. Анализ данных](#analysis)<br>\n",
    "  3.1: Есть ли зависимость между наличием детей и возвратом кредита в срок?<br>\n",
    "  3.2: Есть ли зависимость между семейным положением и возвратом кредита в срок?<br>\n",
    "  3.3: Есть ли зависимость между уровнем дохода и возвратом кредита в срок?<br>\n",
    "  3.4: Как разные цели кредита влияют на его возврат в срок?<br>\n",
    "\n",
    "4.   [Шаг 4. Общий вывод](#resume)"
   ]
  },
  {
   "cell_type": "markdown",
   "metadata": {
    "id": "xiFCPDr8MAG2"
   },
   "source": [
    "## <a class='anchor' id='prestudy'>Шаг 1. Изучение исходных данных</a>"
   ]
  },
  {
   "cell_type": "code",
   "execution_count": 1,
   "metadata": {
    "id": "ugUJQk87MAG3",
    "outputId": "91fc602b-64d6-4594-97c0-ff5dc7f36b74"
   },
   "outputs": [],
   "source": [
    "import pandas as pd"
   ]
  },
  {
   "cell_type": "code",
   "execution_count": 3,
   "metadata": {},
   "outputs": [
    {
     "name": "stdout",
     "output_type": "stream",
     "text": [
      "<class 'pandas.core.frame.DataFrame'>\n",
      "RangeIndex: 21525 entries, 0 to 21524\n",
      "Data columns (total 12 columns):\n",
      " #   Column            Non-Null Count  Dtype  \n",
      "---  ------            --------------  -----  \n",
      " 0   children          21525 non-null  int64  \n",
      " 1   days_employed     19351 non-null  float64\n",
      " 2   dob_years         21525 non-null  int64  \n",
      " 3   education         21525 non-null  object \n",
      " 4   education_id      21525 non-null  int64  \n",
      " 5   family_status     21525 non-null  object \n",
      " 6   family_status_id  21525 non-null  int64  \n",
      " 7   gender            21525 non-null  object \n",
      " 8   income_type       21525 non-null  object \n",
      " 9   debt              21525 non-null  int64  \n",
      " 10  total_income      19351 non-null  float64\n",
      " 11  purpose           21525 non-null  object \n",
      "dtypes: float64(2), int64(5), object(5)\n",
      "memory usage: 2.0+ MB\n"
     ]
    }
   ],
   "source": [
    "data = pd.read_csv('/Users/Dom/Downloads/2bank_data.csv')\n",
    "data.info()"
   ]
  },
  {
   "cell_type": "code",
   "execution_count": 4,
   "metadata": {},
   "outputs": [
    {
     "data": {
      "text/html": [
       "<div>\n",
       "<style scoped>\n",
       "    .dataframe tbody tr th:only-of-type {\n",
       "        vertical-align: middle;\n",
       "    }\n",
       "\n",
       "    .dataframe tbody tr th {\n",
       "        vertical-align: top;\n",
       "    }\n",
       "\n",
       "    .dataframe thead th {\n",
       "        text-align: right;\n",
       "    }\n",
       "</style>\n",
       "<table border=\"1\" class=\"dataframe\">\n",
       "  <thead>\n",
       "    <tr style=\"text-align: right;\">\n",
       "      <th></th>\n",
       "      <th>children</th>\n",
       "      <th>days_employed</th>\n",
       "      <th>dob_years</th>\n",
       "      <th>education_id</th>\n",
       "      <th>family_status_id</th>\n",
       "      <th>debt</th>\n",
       "      <th>total_income</th>\n",
       "    </tr>\n",
       "  </thead>\n",
       "  <tbody>\n",
       "    <tr>\n",
       "      <th>count</th>\n",
       "      <td>21525.000000</td>\n",
       "      <td>19351.000000</td>\n",
       "      <td>21525.000000</td>\n",
       "      <td>21525.000000</td>\n",
       "      <td>21525.000000</td>\n",
       "      <td>21525.000000</td>\n",
       "      <td>1.935100e+04</td>\n",
       "    </tr>\n",
       "    <tr>\n",
       "      <th>mean</th>\n",
       "      <td>0.538908</td>\n",
       "      <td>63046.497661</td>\n",
       "      <td>43.293380</td>\n",
       "      <td>0.817236</td>\n",
       "      <td>0.972544</td>\n",
       "      <td>0.080883</td>\n",
       "      <td>1.674223e+05</td>\n",
       "    </tr>\n",
       "    <tr>\n",
       "      <th>std</th>\n",
       "      <td>1.381587</td>\n",
       "      <td>140827.311974</td>\n",
       "      <td>12.574584</td>\n",
       "      <td>0.548138</td>\n",
       "      <td>1.420324</td>\n",
       "      <td>0.272661</td>\n",
       "      <td>1.029716e+05</td>\n",
       "    </tr>\n",
       "    <tr>\n",
       "      <th>min</th>\n",
       "      <td>-1.000000</td>\n",
       "      <td>-18388.949901</td>\n",
       "      <td>0.000000</td>\n",
       "      <td>0.000000</td>\n",
       "      <td>0.000000</td>\n",
       "      <td>0.000000</td>\n",
       "      <td>2.066726e+04</td>\n",
       "    </tr>\n",
       "    <tr>\n",
       "      <th>25%</th>\n",
       "      <td>0.000000</td>\n",
       "      <td>-2747.423625</td>\n",
       "      <td>33.000000</td>\n",
       "      <td>1.000000</td>\n",
       "      <td>0.000000</td>\n",
       "      <td>0.000000</td>\n",
       "      <td>1.030532e+05</td>\n",
       "    </tr>\n",
       "    <tr>\n",
       "      <th>50%</th>\n",
       "      <td>0.000000</td>\n",
       "      <td>-1203.369529</td>\n",
       "      <td>42.000000</td>\n",
       "      <td>1.000000</td>\n",
       "      <td>0.000000</td>\n",
       "      <td>0.000000</td>\n",
       "      <td>1.450179e+05</td>\n",
       "    </tr>\n",
       "    <tr>\n",
       "      <th>75%</th>\n",
       "      <td>1.000000</td>\n",
       "      <td>-291.095954</td>\n",
       "      <td>53.000000</td>\n",
       "      <td>1.000000</td>\n",
       "      <td>1.000000</td>\n",
       "      <td>0.000000</td>\n",
       "      <td>2.034351e+05</td>\n",
       "    </tr>\n",
       "    <tr>\n",
       "      <th>max</th>\n",
       "      <td>20.000000</td>\n",
       "      <td>401755.400475</td>\n",
       "      <td>75.000000</td>\n",
       "      <td>4.000000</td>\n",
       "      <td>4.000000</td>\n",
       "      <td>1.000000</td>\n",
       "      <td>2.265604e+06</td>\n",
       "    </tr>\n",
       "  </tbody>\n",
       "</table>\n",
       "</div>"
      ],
      "text/plain": [
       "           children  days_employed     dob_years  education_id  \\\n",
       "count  21525.000000   19351.000000  21525.000000  21525.000000   \n",
       "mean       0.538908   63046.497661     43.293380      0.817236   \n",
       "std        1.381587  140827.311974     12.574584      0.548138   \n",
       "min       -1.000000  -18388.949901      0.000000      0.000000   \n",
       "25%        0.000000   -2747.423625     33.000000      1.000000   \n",
       "50%        0.000000   -1203.369529     42.000000      1.000000   \n",
       "75%        1.000000    -291.095954     53.000000      1.000000   \n",
       "max       20.000000  401755.400475     75.000000      4.000000   \n",
       "\n",
       "       family_status_id          debt  total_income  \n",
       "count      21525.000000  21525.000000  1.935100e+04  \n",
       "mean           0.972544      0.080883  1.674223e+05  \n",
       "std            1.420324      0.272661  1.029716e+05  \n",
       "min            0.000000      0.000000  2.066726e+04  \n",
       "25%            0.000000      0.000000  1.030532e+05  \n",
       "50%            0.000000      0.000000  1.450179e+05  \n",
       "75%            1.000000      0.000000  2.034351e+05  \n",
       "max            4.000000      1.000000  2.265604e+06  "
      ]
     },
     "execution_count": 4,
     "metadata": {},
     "output_type": "execute_result"
    }
   ],
   "source": [
    "TOTAL_LINES = data.shape[0]\n",
    "data.describe()"
   ]
  },
  {
   "cell_type": "markdown",
   "metadata": {
    "id": "wEYDgd8IMAG-"
   },
   "source": [
    "### Вывод по шагу 1"
   ]
  },
  {
   "cell_type": "markdown",
   "metadata": {
    "id": "jdmnhjRXMAG_"
   },
   "source": [
    "Первый вывод исходя из типа данных в таблице:\n",
    "- days_employed трудовой стаж в днях имеет формат float64, а число д.б. целым! Проверить!\n",
    "- days_employed трудовой стаж days_employed - заполнен не для всех 21525 записей (есть пропуски, разобраться!)\n",
    "- debt по логике в столбце (долги по кредиту) д.б. тип bool вместо int64\n",
    "- total_income ежемес. доход указан не для всех записей - есть пропуски!\n",
    "- ОШИБКА в children \"-1\" - исправить"
   ]
  },
  {
   "cell_type": "markdown",
   "metadata": {
    "id": "36AIqYvYMAHB"
   },
   "source": [
    "## <a id='prep'>Шаг 2. Предобработка данных</a>"
   ]
  },
  {
   "cell_type": "markdown",
   "metadata": {
    "id": "bVpAmJeCQtRO"
   },
   "source": [
    "### 2.1. Обработка пропусков"
   ]
  },
  {
   "cell_type": "code",
   "execution_count": 5,
   "metadata": {},
   "outputs": [
    {
     "data": {
      "text/plain": [
       "2174"
      ]
     },
     "execution_count": 5,
     "metadata": {},
     "output_type": "execute_result"
    }
   ],
   "source": [
    "### Обработка пропусков\n",
    "\n",
    "data['days_employed'].isnull().sum()\n",
    "# Всего пропуской в days_employed 2174 строк"
   ]
  },
  {
   "cell_type": "code",
   "execution_count": 6,
   "metadata": {},
   "outputs": [
    {
     "data": {
      "text/html": [
       "<div>\n",
       "<style scoped>\n",
       "    .dataframe tbody tr th:only-of-type {\n",
       "        vertical-align: middle;\n",
       "    }\n",
       "\n",
       "    .dataframe tbody tr th {\n",
       "        vertical-align: top;\n",
       "    }\n",
       "\n",
       "    .dataframe thead th {\n",
       "        text-align: right;\n",
       "    }\n",
       "</style>\n",
       "<table border=\"1\" class=\"dataframe\">\n",
       "  <thead>\n",
       "    <tr style=\"text-align: right;\">\n",
       "      <th></th>\n",
       "      <th>children</th>\n",
       "      <th>days_employed</th>\n",
       "      <th>dob_years</th>\n",
       "      <th>education</th>\n",
       "      <th>education_id</th>\n",
       "      <th>family_status</th>\n",
       "      <th>family_status_id</th>\n",
       "      <th>gender</th>\n",
       "      <th>income_type</th>\n",
       "      <th>debt</th>\n",
       "      <th>total_income</th>\n",
       "      <th>purpose</th>\n",
       "    </tr>\n",
       "  </thead>\n",
       "  <tbody>\n",
       "    <tr>\n",
       "      <th>12</th>\n",
       "      <td>0</td>\n",
       "      <td>NaN</td>\n",
       "      <td>65</td>\n",
       "      <td>среднее</td>\n",
       "      <td>1</td>\n",
       "      <td>гражданский брак</td>\n",
       "      <td>1</td>\n",
       "      <td>M</td>\n",
       "      <td>пенсионер</td>\n",
       "      <td>0</td>\n",
       "      <td>NaN</td>\n",
       "      <td>сыграть свадьбу</td>\n",
       "    </tr>\n",
       "    <tr>\n",
       "      <th>26</th>\n",
       "      <td>0</td>\n",
       "      <td>NaN</td>\n",
       "      <td>41</td>\n",
       "      <td>среднее</td>\n",
       "      <td>1</td>\n",
       "      <td>женат / замужем</td>\n",
       "      <td>0</td>\n",
       "      <td>M</td>\n",
       "      <td>госслужащий</td>\n",
       "      <td>0</td>\n",
       "      <td>NaN</td>\n",
       "      <td>образование</td>\n",
       "    </tr>\n",
       "    <tr>\n",
       "      <th>29</th>\n",
       "      <td>0</td>\n",
       "      <td>NaN</td>\n",
       "      <td>63</td>\n",
       "      <td>среднее</td>\n",
       "      <td>1</td>\n",
       "      <td>Не женат / не замужем</td>\n",
       "      <td>4</td>\n",
       "      <td>F</td>\n",
       "      <td>пенсионер</td>\n",
       "      <td>0</td>\n",
       "      <td>NaN</td>\n",
       "      <td>строительство жилой недвижимости</td>\n",
       "    </tr>\n",
       "    <tr>\n",
       "      <th>41</th>\n",
       "      <td>0</td>\n",
       "      <td>NaN</td>\n",
       "      <td>50</td>\n",
       "      <td>среднее</td>\n",
       "      <td>1</td>\n",
       "      <td>женат / замужем</td>\n",
       "      <td>0</td>\n",
       "      <td>F</td>\n",
       "      <td>госслужащий</td>\n",
       "      <td>0</td>\n",
       "      <td>NaN</td>\n",
       "      <td>сделка с подержанным автомобилем</td>\n",
       "    </tr>\n",
       "    <tr>\n",
       "      <th>55</th>\n",
       "      <td>0</td>\n",
       "      <td>NaN</td>\n",
       "      <td>54</td>\n",
       "      <td>среднее</td>\n",
       "      <td>1</td>\n",
       "      <td>гражданский брак</td>\n",
       "      <td>1</td>\n",
       "      <td>F</td>\n",
       "      <td>пенсионер</td>\n",
       "      <td>1</td>\n",
       "      <td>NaN</td>\n",
       "      <td>сыграть свадьбу</td>\n",
       "    </tr>\n",
       "    <tr>\n",
       "      <th>65</th>\n",
       "      <td>0</td>\n",
       "      <td>NaN</td>\n",
       "      <td>21</td>\n",
       "      <td>среднее</td>\n",
       "      <td>1</td>\n",
       "      <td>Не женат / не замужем</td>\n",
       "      <td>4</td>\n",
       "      <td>M</td>\n",
       "      <td>компаньон</td>\n",
       "      <td>0</td>\n",
       "      <td>NaN</td>\n",
       "      <td>операции с коммерческой недвижимостью</td>\n",
       "    </tr>\n",
       "    <tr>\n",
       "      <th>67</th>\n",
       "      <td>0</td>\n",
       "      <td>NaN</td>\n",
       "      <td>52</td>\n",
       "      <td>высшее</td>\n",
       "      <td>0</td>\n",
       "      <td>женат / замужем</td>\n",
       "      <td>0</td>\n",
       "      <td>F</td>\n",
       "      <td>пенсионер</td>\n",
       "      <td>0</td>\n",
       "      <td>NaN</td>\n",
       "      <td>покупка жилья для семьи</td>\n",
       "    </tr>\n",
       "    <tr>\n",
       "      <th>72</th>\n",
       "      <td>1</td>\n",
       "      <td>NaN</td>\n",
       "      <td>32</td>\n",
       "      <td>высшее</td>\n",
       "      <td>0</td>\n",
       "      <td>женат / замужем</td>\n",
       "      <td>0</td>\n",
       "      <td>M</td>\n",
       "      <td>госслужащий</td>\n",
       "      <td>0</td>\n",
       "      <td>NaN</td>\n",
       "      <td>операции с коммерческой недвижимостью</td>\n",
       "    </tr>\n",
       "    <tr>\n",
       "      <th>82</th>\n",
       "      <td>2</td>\n",
       "      <td>NaN</td>\n",
       "      <td>50</td>\n",
       "      <td>высшее</td>\n",
       "      <td>0</td>\n",
       "      <td>женат / замужем</td>\n",
       "      <td>0</td>\n",
       "      <td>F</td>\n",
       "      <td>сотрудник</td>\n",
       "      <td>0</td>\n",
       "      <td>NaN</td>\n",
       "      <td>жилье</td>\n",
       "    </tr>\n",
       "    <tr>\n",
       "      <th>83</th>\n",
       "      <td>0</td>\n",
       "      <td>NaN</td>\n",
       "      <td>52</td>\n",
       "      <td>среднее</td>\n",
       "      <td>1</td>\n",
       "      <td>женат / замужем</td>\n",
       "      <td>0</td>\n",
       "      <td>M</td>\n",
       "      <td>сотрудник</td>\n",
       "      <td>0</td>\n",
       "      <td>NaN</td>\n",
       "      <td>жилье</td>\n",
       "    </tr>\n",
       "  </tbody>\n",
       "</table>\n",
       "</div>"
      ],
      "text/plain": [
       "    children  days_employed  dob_years education  education_id  \\\n",
       "12         0            NaN         65   среднее             1   \n",
       "26         0            NaN         41   среднее             1   \n",
       "29         0            NaN         63   среднее             1   \n",
       "41         0            NaN         50   среднее             1   \n",
       "55         0            NaN         54   среднее             1   \n",
       "65         0            NaN         21   среднее             1   \n",
       "67         0            NaN         52    высшее             0   \n",
       "72         1            NaN         32    высшее             0   \n",
       "82         2            NaN         50    высшее             0   \n",
       "83         0            NaN         52   среднее             1   \n",
       "\n",
       "            family_status  family_status_id gender  income_type  debt  \\\n",
       "12       гражданский брак                 1      M    пенсионер     0   \n",
       "26        женат / замужем                 0      M  госслужащий     0   \n",
       "29  Не женат / не замужем                 4      F    пенсионер     0   \n",
       "41        женат / замужем                 0      F  госслужащий     0   \n",
       "55       гражданский брак                 1      F    пенсионер     1   \n",
       "65  Не женат / не замужем                 4      M    компаньон     0   \n",
       "67        женат / замужем                 0      F    пенсионер     0   \n",
       "72        женат / замужем                 0      M  госслужащий     0   \n",
       "82        женат / замужем                 0      F    сотрудник     0   \n",
       "83        женат / замужем                 0      M    сотрудник     0   \n",
       "\n",
       "    total_income                                purpose  \n",
       "12           NaN                        сыграть свадьбу  \n",
       "26           NaN                            образование  \n",
       "29           NaN       строительство жилой недвижимости  \n",
       "41           NaN       сделка с подержанным автомобилем  \n",
       "55           NaN                        сыграть свадьбу  \n",
       "65           NaN  операции с коммерческой недвижимостью  \n",
       "67           NaN                покупка жилья для семьи  \n",
       "72           NaN  операции с коммерческой недвижимостью  \n",
       "82           NaN                                  жилье  \n",
       "83           NaN                                  жилье  "
      ]
     },
     "execution_count": 6,
     "metadata": {},
     "output_type": "execute_result"
    }
   ],
   "source": [
    "# Посмотрим на строки с пропусками, чтобы попытаться определить закономерности \"на глаз\"\n",
    "data_employed_nan = data[data['days_employed'].isnull() == True]\n",
    "data_employed_nan.head(10)"
   ]
  },
  {
   "cell_type": "code",
   "execution_count": 7,
   "metadata": {},
   "outputs": [
    {
     "data": {
      "text/html": [
       "<div>\n",
       "<style scoped>\n",
       "    .dataframe tbody tr th:only-of-type {\n",
       "        vertical-align: middle;\n",
       "    }\n",
       "\n",
       "    .dataframe tbody tr th {\n",
       "        vertical-align: top;\n",
       "    }\n",
       "\n",
       "    .dataframe thead th {\n",
       "        text-align: right;\n",
       "    }\n",
       "</style>\n",
       "<table border=\"1\" class=\"dataframe\">\n",
       "  <thead>\n",
       "    <tr style=\"text-align: right;\">\n",
       "      <th></th>\n",
       "      <th>children</th>\n",
       "      <th>days_employed</th>\n",
       "      <th>dob_years</th>\n",
       "      <th>education_id</th>\n",
       "      <th>family_status_id</th>\n",
       "      <th>debt</th>\n",
       "      <th>total_income</th>\n",
       "    </tr>\n",
       "  </thead>\n",
       "  <tbody>\n",
       "    <tr>\n",
       "      <th>count</th>\n",
       "      <td>2174.000000</td>\n",
       "      <td>0.0</td>\n",
       "      <td>2174.000000</td>\n",
       "      <td>2174.000000</td>\n",
       "      <td>2174.000000</td>\n",
       "      <td>2174.000000</td>\n",
       "      <td>0.0</td>\n",
       "    </tr>\n",
       "    <tr>\n",
       "      <th>mean</th>\n",
       "      <td>0.552438</td>\n",
       "      <td>NaN</td>\n",
       "      <td>43.632015</td>\n",
       "      <td>0.800828</td>\n",
       "      <td>0.975161</td>\n",
       "      <td>0.078197</td>\n",
       "      <td>NaN</td>\n",
       "    </tr>\n",
       "    <tr>\n",
       "      <th>std</th>\n",
       "      <td>1.469356</td>\n",
       "      <td>NaN</td>\n",
       "      <td>12.531481</td>\n",
       "      <td>0.530157</td>\n",
       "      <td>1.418220</td>\n",
       "      <td>0.268543</td>\n",
       "      <td>NaN</td>\n",
       "    </tr>\n",
       "    <tr>\n",
       "      <th>min</th>\n",
       "      <td>-1.000000</td>\n",
       "      <td>NaN</td>\n",
       "      <td>0.000000</td>\n",
       "      <td>0.000000</td>\n",
       "      <td>0.000000</td>\n",
       "      <td>0.000000</td>\n",
       "      <td>NaN</td>\n",
       "    </tr>\n",
       "    <tr>\n",
       "      <th>25%</th>\n",
       "      <td>0.000000</td>\n",
       "      <td>NaN</td>\n",
       "      <td>34.000000</td>\n",
       "      <td>0.250000</td>\n",
       "      <td>0.000000</td>\n",
       "      <td>0.000000</td>\n",
       "      <td>NaN</td>\n",
       "    </tr>\n",
       "    <tr>\n",
       "      <th>50%</th>\n",
       "      <td>0.000000</td>\n",
       "      <td>NaN</td>\n",
       "      <td>43.000000</td>\n",
       "      <td>1.000000</td>\n",
       "      <td>0.000000</td>\n",
       "      <td>0.000000</td>\n",
       "      <td>NaN</td>\n",
       "    </tr>\n",
       "    <tr>\n",
       "      <th>75%</th>\n",
       "      <td>1.000000</td>\n",
       "      <td>NaN</td>\n",
       "      <td>54.000000</td>\n",
       "      <td>1.000000</td>\n",
       "      <td>1.000000</td>\n",
       "      <td>0.000000</td>\n",
       "      <td>NaN</td>\n",
       "    </tr>\n",
       "    <tr>\n",
       "      <th>max</th>\n",
       "      <td>20.000000</td>\n",
       "      <td>NaN</td>\n",
       "      <td>73.000000</td>\n",
       "      <td>3.000000</td>\n",
       "      <td>4.000000</td>\n",
       "      <td>1.000000</td>\n",
       "      <td>NaN</td>\n",
       "    </tr>\n",
       "  </tbody>\n",
       "</table>\n",
       "</div>"
      ],
      "text/plain": [
       "          children  days_employed    dob_years  education_id  \\\n",
       "count  2174.000000            0.0  2174.000000   2174.000000   \n",
       "mean      0.552438            NaN    43.632015      0.800828   \n",
       "std       1.469356            NaN    12.531481      0.530157   \n",
       "min      -1.000000            NaN     0.000000      0.000000   \n",
       "25%       0.000000            NaN    34.000000      0.250000   \n",
       "50%       0.000000            NaN    43.000000      1.000000   \n",
       "75%       1.000000            NaN    54.000000      1.000000   \n",
       "max      20.000000            NaN    73.000000      3.000000   \n",
       "\n",
       "       family_status_id         debt  total_income  \n",
       "count       2174.000000  2174.000000           0.0  \n",
       "mean           0.975161     0.078197           NaN  \n",
       "std            1.418220     0.268543           NaN  \n",
       "min            0.000000     0.000000           NaN  \n",
       "25%            0.000000     0.000000           NaN  \n",
       "50%            0.000000     0.000000           NaN  \n",
       "75%            1.000000     0.000000           NaN  \n",
       "max            4.000000     1.000000           NaN  "
      ]
     },
     "execution_count": 7,
     "metadata": {},
     "output_type": "execute_result"
    }
   ],
   "source": [
    "data_employed_nan.describe()"
   ]
  },
  {
   "cell_type": "code",
   "execution_count": 12,
   "metadata": {},
   "outputs": [
    {
     "name": "stdout",
     "output_type": "stream",
     "text": [
      "Таблицы имеют одинаковые строки\n"
     ]
    }
   ],
   "source": [
    "# Проверим, совпадают ли строки с пропусками в колонке days_employed со строками в колонке total_income\n",
    "data_total_income_nan = data[data['total_income'].isnull() == True]\n",
    "\n",
    "try:\n",
    "    data_nan_merged = data_employed_nan.merge(data_total_income_nan, on='children', how='left')\n",
    "    print('Таблицы имеют одинаковые строки')\n",
    "except:\n",
    "    print('Таблицы имеют разные строки!!!')\n",
    "\n",
    "# ---> Вывод сравнения: пропуски в обеих колонках - это одни и те же строки! И это хорошо!"
   ]
  },
  {
   "cell_type": "code",
   "execution_count": 13,
   "metadata": {},
   "outputs": [],
   "source": [
    "# Для дальнейшего заполнения пропусков, сохраним средние значения колонок days_employed и total_income\n",
    "days_employed_nonan = data[data['days_employed'].isnull() == False]\n",
    "days_employed_nonan_mean = int(days_employed_nonan['days_employed'].mean()) # = 63046 (АХТУНГ, это более 172 ЛЕТ!!!)\n",
    "total_income_nonan_mean = int(days_employed_nonan['total_income'].mean()) # = 167422"
   ]
  },
  {
   "cell_type": "code",
   "execution_count": 14,
   "metadata": {},
   "outputs": [
    {
     "data": {
      "text/plain": [
       "среднее                1540\n",
       "высшее                  544\n",
       "неоконченное высшее      69\n",
       "начальное                21\n",
       "Name: education, dtype: int64"
      ]
     },
     "execution_count": 14,
     "metadata": {},
     "output_type": "execute_result"
    }
   ],
   "source": [
    "# Чтобы понять возможные причины появления пропусков в данных, попробуем поманипулировать таблицей data_employed_nan\n",
    "data_employed_nan['education'].str.lower().value_counts()"
   ]
  },
  {
   "cell_type": "markdown",
   "metadata": {},
   "source": [
    "Больше всего пропуской у СОТРУДНИКОВ и КОМПАНЬОНОВ, т.е. предположение, что доход не указан в основном у пенсионеров и студентов (т.е. неработающих) - несостоятелен\n",
    "После проверки по основным колонкам выявить какие-то закономерности \"на глаз\" не удалось.\n",
    "Следовательно, делаем вывод, что причина появления пропусков - случайная ошибка в данных."
   ]
  },
  {
   "cell_type": "code",
   "execution_count": 11,
   "metadata": {
    "id": "40_TlGFlMAHC",
    "outputId": "627bfd8f-baac-4a8d-b3c8-1b1069eb2d23"
   },
   "outputs": [
    {
     "data": {
      "text/html": [
       "<div>\n",
       "<style scoped>\n",
       "    .dataframe tbody tr th:only-of-type {\n",
       "        vertical-align: middle;\n",
       "    }\n",
       "\n",
       "    .dataframe tbody tr th {\n",
       "        vertical-align: top;\n",
       "    }\n",
       "\n",
       "    .dataframe thead th {\n",
       "        text-align: right;\n",
       "    }\n",
       "</style>\n",
       "<table border=\"1\" class=\"dataframe\">\n",
       "  <thead>\n",
       "    <tr style=\"text-align: right;\">\n",
       "      <th></th>\n",
       "      <th>children</th>\n",
       "      <th>days_employed</th>\n",
       "      <th>dob_years</th>\n",
       "      <th>education</th>\n",
       "      <th>education_id</th>\n",
       "      <th>family_status</th>\n",
       "      <th>family_status_id</th>\n",
       "      <th>gender</th>\n",
       "      <th>income_type</th>\n",
       "      <th>debt</th>\n",
       "      <th>total_income</th>\n",
       "      <th>purpose</th>\n",
       "    </tr>\n",
       "  </thead>\n",
       "  <tbody>\n",
       "    <tr>\n",
       "      <th>0</th>\n",
       "      <td>1</td>\n",
       "      <td>-8437.673028</td>\n",
       "      <td>42</td>\n",
       "      <td>высшее</td>\n",
       "      <td>0</td>\n",
       "      <td>женат / замужем</td>\n",
       "      <td>0</td>\n",
       "      <td>F</td>\n",
       "      <td>сотрудник</td>\n",
       "      <td>0</td>\n",
       "      <td>253875.639453</td>\n",
       "      <td>покупка жилья</td>\n",
       "    </tr>\n",
       "    <tr>\n",
       "      <th>1</th>\n",
       "      <td>1</td>\n",
       "      <td>-4024.803754</td>\n",
       "      <td>36</td>\n",
       "      <td>среднее</td>\n",
       "      <td>1</td>\n",
       "      <td>женат / замужем</td>\n",
       "      <td>0</td>\n",
       "      <td>F</td>\n",
       "      <td>сотрудник</td>\n",
       "      <td>0</td>\n",
       "      <td>112080.014102</td>\n",
       "      <td>приобретение автомобиля</td>\n",
       "    </tr>\n",
       "    <tr>\n",
       "      <th>2</th>\n",
       "      <td>0</td>\n",
       "      <td>-5623.422610</td>\n",
       "      <td>33</td>\n",
       "      <td>Среднее</td>\n",
       "      <td>1</td>\n",
       "      <td>женат / замужем</td>\n",
       "      <td>0</td>\n",
       "      <td>M</td>\n",
       "      <td>сотрудник</td>\n",
       "      <td>0</td>\n",
       "      <td>145885.952297</td>\n",
       "      <td>покупка жилья</td>\n",
       "    </tr>\n",
       "    <tr>\n",
       "      <th>3</th>\n",
       "      <td>3</td>\n",
       "      <td>-4124.747207</td>\n",
       "      <td>32</td>\n",
       "      <td>среднее</td>\n",
       "      <td>1</td>\n",
       "      <td>женат / замужем</td>\n",
       "      <td>0</td>\n",
       "      <td>M</td>\n",
       "      <td>сотрудник</td>\n",
       "      <td>0</td>\n",
       "      <td>267628.550329</td>\n",
       "      <td>дополнительное образование</td>\n",
       "    </tr>\n",
       "    <tr>\n",
       "      <th>4</th>\n",
       "      <td>0</td>\n",
       "      <td>340266.072047</td>\n",
       "      <td>53</td>\n",
       "      <td>среднее</td>\n",
       "      <td>1</td>\n",
       "      <td>гражданский брак</td>\n",
       "      <td>1</td>\n",
       "      <td>F</td>\n",
       "      <td>пенсионер</td>\n",
       "      <td>0</td>\n",
       "      <td>158616.077870</td>\n",
       "      <td>сыграть свадьбу</td>\n",
       "    </tr>\n",
       "    <tr>\n",
       "      <th>5</th>\n",
       "      <td>0</td>\n",
       "      <td>-926.185831</td>\n",
       "      <td>27</td>\n",
       "      <td>высшее</td>\n",
       "      <td>0</td>\n",
       "      <td>гражданский брак</td>\n",
       "      <td>1</td>\n",
       "      <td>M</td>\n",
       "      <td>компаньон</td>\n",
       "      <td>0</td>\n",
       "      <td>255763.565419</td>\n",
       "      <td>покупка жилья</td>\n",
       "    </tr>\n",
       "    <tr>\n",
       "      <th>6</th>\n",
       "      <td>0</td>\n",
       "      <td>-2879.202052</td>\n",
       "      <td>43</td>\n",
       "      <td>высшее</td>\n",
       "      <td>0</td>\n",
       "      <td>женат / замужем</td>\n",
       "      <td>0</td>\n",
       "      <td>F</td>\n",
       "      <td>компаньон</td>\n",
       "      <td>0</td>\n",
       "      <td>240525.971920</td>\n",
       "      <td>операции с жильем</td>\n",
       "    </tr>\n",
       "    <tr>\n",
       "      <th>7</th>\n",
       "      <td>0</td>\n",
       "      <td>-152.779569</td>\n",
       "      <td>50</td>\n",
       "      <td>СРЕДНЕЕ</td>\n",
       "      <td>1</td>\n",
       "      <td>женат / замужем</td>\n",
       "      <td>0</td>\n",
       "      <td>M</td>\n",
       "      <td>сотрудник</td>\n",
       "      <td>0</td>\n",
       "      <td>135823.934197</td>\n",
       "      <td>образование</td>\n",
       "    </tr>\n",
       "    <tr>\n",
       "      <th>8</th>\n",
       "      <td>2</td>\n",
       "      <td>-6929.865299</td>\n",
       "      <td>35</td>\n",
       "      <td>ВЫСШЕЕ</td>\n",
       "      <td>0</td>\n",
       "      <td>гражданский брак</td>\n",
       "      <td>1</td>\n",
       "      <td>F</td>\n",
       "      <td>сотрудник</td>\n",
       "      <td>0</td>\n",
       "      <td>95856.832424</td>\n",
       "      <td>на проведение свадьбы</td>\n",
       "    </tr>\n",
       "    <tr>\n",
       "      <th>9</th>\n",
       "      <td>0</td>\n",
       "      <td>-2188.756445</td>\n",
       "      <td>41</td>\n",
       "      <td>среднее</td>\n",
       "      <td>1</td>\n",
       "      <td>женат / замужем</td>\n",
       "      <td>0</td>\n",
       "      <td>M</td>\n",
       "      <td>сотрудник</td>\n",
       "      <td>0</td>\n",
       "      <td>144425.938277</td>\n",
       "      <td>покупка жилья для семьи</td>\n",
       "    </tr>\n",
       "    <tr>\n",
       "      <th>10</th>\n",
       "      <td>2</td>\n",
       "      <td>-4171.483647</td>\n",
       "      <td>36</td>\n",
       "      <td>высшее</td>\n",
       "      <td>0</td>\n",
       "      <td>женат / замужем</td>\n",
       "      <td>0</td>\n",
       "      <td>M</td>\n",
       "      <td>компаньон</td>\n",
       "      <td>0</td>\n",
       "      <td>113943.491460</td>\n",
       "      <td>покупка недвижимости</td>\n",
       "    </tr>\n",
       "    <tr>\n",
       "      <th>11</th>\n",
       "      <td>0</td>\n",
       "      <td>-792.701887</td>\n",
       "      <td>40</td>\n",
       "      <td>среднее</td>\n",
       "      <td>1</td>\n",
       "      <td>женат / замужем</td>\n",
       "      <td>0</td>\n",
       "      <td>F</td>\n",
       "      <td>сотрудник</td>\n",
       "      <td>0</td>\n",
       "      <td>77069.234271</td>\n",
       "      <td>покупка коммерческой недвижимости</td>\n",
       "    </tr>\n",
       "    <tr>\n",
       "      <th>12</th>\n",
       "      <td>0</td>\n",
       "      <td>63046.000000</td>\n",
       "      <td>65</td>\n",
       "      <td>среднее</td>\n",
       "      <td>1</td>\n",
       "      <td>гражданский брак</td>\n",
       "      <td>1</td>\n",
       "      <td>M</td>\n",
       "      <td>пенсионер</td>\n",
       "      <td>0</td>\n",
       "      <td>167422.000000</td>\n",
       "      <td>сыграть свадьбу</td>\n",
       "    </tr>\n",
       "    <tr>\n",
       "      <th>13</th>\n",
       "      <td>0</td>\n",
       "      <td>-1846.641941</td>\n",
       "      <td>54</td>\n",
       "      <td>неоконченное высшее</td>\n",
       "      <td>2</td>\n",
       "      <td>женат / замужем</td>\n",
       "      <td>0</td>\n",
       "      <td>F</td>\n",
       "      <td>сотрудник</td>\n",
       "      <td>0</td>\n",
       "      <td>130458.228857</td>\n",
       "      <td>приобретение автомобиля</td>\n",
       "    </tr>\n",
       "    <tr>\n",
       "      <th>14</th>\n",
       "      <td>0</td>\n",
       "      <td>-1844.956182</td>\n",
       "      <td>56</td>\n",
       "      <td>высшее</td>\n",
       "      <td>0</td>\n",
       "      <td>гражданский брак</td>\n",
       "      <td>1</td>\n",
       "      <td>F</td>\n",
       "      <td>компаньон</td>\n",
       "      <td>1</td>\n",
       "      <td>165127.911772</td>\n",
       "      <td>покупка жилой недвижимости</td>\n",
       "    </tr>\n",
       "  </tbody>\n",
       "</table>\n",
       "</div>"
      ],
      "text/plain": [
       "    children  days_employed  dob_years            education  education_id  \\\n",
       "0          1   -8437.673028         42               высшее             0   \n",
       "1          1   -4024.803754         36              среднее             1   \n",
       "2          0   -5623.422610         33              Среднее             1   \n",
       "3          3   -4124.747207         32              среднее             1   \n",
       "4          0  340266.072047         53              среднее             1   \n",
       "5          0    -926.185831         27               высшее             0   \n",
       "6          0   -2879.202052         43               высшее             0   \n",
       "7          0    -152.779569         50              СРЕДНЕЕ             1   \n",
       "8          2   -6929.865299         35               ВЫСШЕЕ             0   \n",
       "9          0   -2188.756445         41              среднее             1   \n",
       "10         2   -4171.483647         36               высшее             0   \n",
       "11         0    -792.701887         40              среднее             1   \n",
       "12         0   63046.000000         65              среднее             1   \n",
       "13         0   -1846.641941         54  неоконченное высшее             2   \n",
       "14         0   -1844.956182         56               высшее             0   \n",
       "\n",
       "       family_status  family_status_id gender income_type  debt  \\\n",
       "0    женат / замужем                 0      F   сотрудник     0   \n",
       "1    женат / замужем                 0      F   сотрудник     0   \n",
       "2    женат / замужем                 0      M   сотрудник     0   \n",
       "3    женат / замужем                 0      M   сотрудник     0   \n",
       "4   гражданский брак                 1      F   пенсионер     0   \n",
       "5   гражданский брак                 1      M   компаньон     0   \n",
       "6    женат / замужем                 0      F   компаньон     0   \n",
       "7    женат / замужем                 0      M   сотрудник     0   \n",
       "8   гражданский брак                 1      F   сотрудник     0   \n",
       "9    женат / замужем                 0      M   сотрудник     0   \n",
       "10   женат / замужем                 0      M   компаньон     0   \n",
       "11   женат / замужем                 0      F   сотрудник     0   \n",
       "12  гражданский брак                 1      M   пенсионер     0   \n",
       "13   женат / замужем                 0      F   сотрудник     0   \n",
       "14  гражданский брак                 1      F   компаньон     1   \n",
       "\n",
       "     total_income                            purpose  \n",
       "0   253875.639453                      покупка жилья  \n",
       "1   112080.014102            приобретение автомобиля  \n",
       "2   145885.952297                      покупка жилья  \n",
       "3   267628.550329         дополнительное образование  \n",
       "4   158616.077870                    сыграть свадьбу  \n",
       "5   255763.565419                      покупка жилья  \n",
       "6   240525.971920                  операции с жильем  \n",
       "7   135823.934197                        образование  \n",
       "8    95856.832424              на проведение свадьбы  \n",
       "9   144425.938277            покупка жилья для семьи  \n",
       "10  113943.491460               покупка недвижимости  \n",
       "11   77069.234271  покупка коммерческой недвижимости  \n",
       "12  167422.000000                    сыграть свадьбу  \n",
       "13  130458.228857            приобретение автомобиля  \n",
       "14  165127.911772         покупка жилой недвижимости  "
      ]
     },
     "execution_count": 11,
     "metadata": {},
     "output_type": "execute_result"
    }
   ],
   "source": [
    "# Для начала заменим NaN на пустое значение ''\n",
    "data['days_employed'] = data['days_employed'].fillna(value='')\n",
    "\n",
    "# Сделаем то же самое для колонки total_income\n",
    "data['total_income'] = data['total_income'].fillna(value='')\n",
    "\n",
    "\n",
    "# Теперь заменим наши бывшие пропуски на средние значения в каждой колонке\n",
    "data['days_employed'] = data['days_employed'].replace('', days_employed_nonan_mean)\n",
    "data['total_income'] = data['total_income'].replace('', total_income_nonan_mean)\n",
    "\n",
    "data.head(15)"
   ]
  },
  {
   "cell_type": "code",
   "execution_count": 12,
   "metadata": {},
   "outputs": [
    {
     "name": "stdout",
     "output_type": "stream",
     "text": [
      "<class 'pandas.core.frame.DataFrame'>\n",
      "RangeIndex: 21525 entries, 0 to 21524\n",
      "Data columns (total 12 columns):\n",
      " #   Column            Non-Null Count  Dtype  \n",
      "---  ------            --------------  -----  \n",
      " 0   children          21525 non-null  int64  \n",
      " 1   days_employed     21525 non-null  float64\n",
      " 2   dob_years         21525 non-null  int64  \n",
      " 3   education         21525 non-null  object \n",
      " 4   education_id      21525 non-null  int64  \n",
      " 5   family_status     21525 non-null  object \n",
      " 6   family_status_id  21525 non-null  int64  \n",
      " 7   gender            21525 non-null  object \n",
      " 8   income_type       21525 non-null  object \n",
      " 9   debt              21525 non-null  int64  \n",
      " 10  total_income      21525 non-null  float64\n",
      " 11  purpose           21525 non-null  object \n",
      "dtypes: float64(2), int64(5), object(5)\n",
      "memory usage: 2.0+ MB\n"
     ]
    }
   ],
   "source": [
    "# Проверим типы данных в колонках\n",
    "data.info()\n",
    "# -> Тип данных с колонках с пропусками изменился на object. Нужно вернуть int !!!"
   ]
  },
  {
   "cell_type": "markdown",
   "metadata": {
    "id": "Z9-9YO7_MAHG"
   },
   "source": [
    "#### Вывод 2.1"
   ]
  },
  {
   "cell_type": "markdown",
   "metadata": {
    "id": "b6B9VHwTMAHH"
   },
   "source": [
    "1. определите и заполните пропущенные значения:\n",
    "- опишите, какие пропущенные значения вы обнаружили;\n",
    "- приведите возможные причины появления пропусков в данных;\n",
    "- объясните, по какому принципу заполнены пропуски;\n",
    "\n",
    "Пропущенные значения выявлены в колонках 'days_employed' и 'total_income'.\n",
    "\n",
    "Всего таких строк 2174, т.е. 10,1% от общего числа 21525 строк. Это много.\n",
    "Возможные причины появления пропусков в колонке days_employed -\n",
    "    от возраста не зависит (распределение равномерное) + 101 строка с dob_years=0 - ОШИБКА!\n",
    "    возможно зависит от образования (со средн.обр=1408+67+65=1540 eq 70,8% от пропусков, с высшим=23+25+496=544 eq 25% от пропусков)\n",
    "    от пола (пропуски M=690, F=1484; всего M=7288, F=14236, одна строка gender='XNA' id 10701) - ОШИБКА!\n",
    "    ...\n",
    "Заполнение пропусков:\n",
    "    для колонки трудовой стаж (дн) days_employed - на среднее по колонке\n",
    "    для колонки ежемес.доход total_income - на среднее по колонке"
   ]
  },
  {
   "cell_type": "markdown",
   "metadata": {
    "id": "Iudfsu6UMAHK"
   },
   "source": [
    "### 2.2. Замена типа данных"
   ]
  },
  {
   "cell_type": "code",
   "execution_count": 13,
   "metadata": {
    "id": "sJQBLqLbMAHK",
    "outputId": "6be8c86e-8f49-4812-c234-66d0b82ff363"
   },
   "outputs": [
    {
     "name": "stdout",
     "output_type": "stream",
     "text": [
      "<class 'pandas.core.frame.DataFrame'>\n",
      "RangeIndex: 21525 entries, 0 to 21524\n",
      "Data columns (total 12 columns):\n",
      " #   Column            Non-Null Count  Dtype \n",
      "---  ------            --------------  ----- \n",
      " 0   children          21525 non-null  int64 \n",
      " 1   days_employed     21525 non-null  int64 \n",
      " 2   dob_years         21525 non-null  int64 \n",
      " 3   education         21525 non-null  object\n",
      " 4   education_id      21525 non-null  int64 \n",
      " 5   family_status     21525 non-null  object\n",
      " 6   family_status_id  21525 non-null  int64 \n",
      " 7   gender            21525 non-null  object\n",
      " 8   income_type       21525 non-null  object\n",
      " 9   debt              21525 non-null  int64 \n",
      " 10  total_income      21525 non-null  int64 \n",
      " 11  purpose           21525 non-null  object\n",
      "dtypes: int64(7), object(5)\n",
      "memory usage: 2.0+ MB\n"
     ]
    }
   ],
   "source": [
    "# Используем метод .astype() для изменения типа данных\n",
    "data['days_employed'] = data['days_employed'].astype('int')\n",
    "data['total_income'] = data['total_income'].astype('int')\n",
    "data.info()"
   ]
  },
  {
   "cell_type": "markdown",
   "metadata": {
    "id": "WLjMJDzOMAHP"
   },
   "source": [
    "#### Вывод 2.2"
   ]
  },
  {
   "cell_type": "markdown",
   "metadata": {
    "id": "PuA7CYRbMAHQ"
   },
   "source": [
    "Поскольку колонка days_employed содержит информацию о днях трудового стажа, то логично, что в ней должны содержаться ЦЕЛЫЕ числа.\n",
    "До замены тип данных, содержащихся в колонке days_employed был float (нецелое число с плавающей точкой).\n",
    "Поэтому заменил значения в столбце days_employed на int (целое число).\n",
    "\n",
    "ДОПОЛНИТЕЛЬНО\n",
    "поменяем тип данных в колонке total_income (доход в месяц) с float на int, поскольку информация \"до копеек\" тут не требуется.\n",
    "\n",
    "Во всех остальных колонках тип данных корректный и замены не требует!"
   ]
  },
  {
   "cell_type": "markdown",
   "metadata": {
    "id": "RN26HNBzMAHS"
   },
   "source": [
    "### 2.3. Обработка дубликатов"
   ]
  },
  {
   "cell_type": "code",
   "execution_count": 14,
   "metadata": {
    "id": "5x0X4-reMAHT",
    "outputId": "37d98fe6-4532-4423-944e-3fbefb00a2cf"
   },
   "outputs": [
    {
     "data": {
      "text/plain": [
       "среднее                15233\n",
       "высшее                  5260\n",
       "неоконченное высшее      744\n",
       "начальное                282\n",
       "ученая степень             6\n",
       "Name: education, dtype: int64"
      ]
     },
     "execution_count": 14,
     "metadata": {},
     "output_type": "execute_result"
    }
   ],
   "source": [
    " # 4. Исправим регистры в education\n",
    "data['education'] = data['education'].str.lower()\n",
    "data['education'].value_counts()\n",
    "# среднее=15233, высшее=5260, неоконченное высшее=744, начальное=282, уч.степень=6, ИТОГО-21525"
   ]
  },
  {
   "cell_type": "code",
   "execution_count": 15,
   "metadata": {},
   "outputs": [],
   "source": [
    "# За одно 'для красоты' понизим регистр для столбца family_status\n",
    "data['family_status'] = data['family_status'].str.lower()"
   ]
  },
  {
   "cell_type": "code",
   "execution_count": 16,
   "metadata": {},
   "outputs": [
    {
     "data": {
      "text/plain": [
       "children            137\n",
       "days_employed       137\n",
       "dob_years           137\n",
       "education           137\n",
       "education_id        137\n",
       "family_status       137\n",
       "family_status_id    137\n",
       "gender              137\n",
       "income_type         137\n",
       "debt                137\n",
       "total_income        137\n",
       "purpose             137\n",
       "dtype: int64"
      ]
     },
     "execution_count": 16,
     "metadata": {},
     "output_type": "execute_result"
    }
   ],
   "source": [
    "# Посмотрим на строки, которые дублируются\n",
    "data_dupl = data[data.duplicated(keep=False)]\n",
    "# Посчитаем, сколько всего дублирующихся строк\n",
    "data_dupl.count() # -> Всего 137 строк, из них 71 - повторы (keep='last')"
   ]
  },
  {
   "cell_type": "code",
   "execution_count": 17,
   "metadata": {},
   "outputs": [
    {
     "data": {
      "text/plain": [
       "0"
      ]
     },
     "execution_count": 17,
     "metadata": {},
     "output_type": "execute_result"
    }
   ],
   "source": [
    "# применим drop_deplicates() совместно с reset_index() для удаления дубликатов\n",
    "data = data.drop_duplicates().reset_index(drop=True)\n",
    "data.duplicated(keep=False).sum()\n",
    "#data.head(15)"
   ]
  },
  {
   "cell_type": "markdown",
   "metadata": {
    "id": "muvXp4eMMAHZ"
   },
   "source": [
    "#### Вывод 2.3"
   ]
  },
  {
   "cell_type": "markdown",
   "metadata": {
    "id": "3i859ZyqMAHa"
   },
   "source": [
    "Всего дубликатов методом .duplicated() выявлено 137 штуки (после правки регистра в education), из них повторов 71.\n",
    "\n",
    "При просмотре выявлено, что это реально дублирующиеся строки, поэтому решено их удалить. \n",
    "Удаляю методом drop_duplicates().\n",
    "\n",
    "Вероятная причина появления дубликатов - объединение нескольких баз, либо нескольких версий одной базы."
   ]
  },
  {
   "cell_type": "markdown",
   "metadata": {
    "id": "D9PM4_qPMAHc"
   },
   "source": [
    "### 2.4. Лемматизация"
   ]
  },
  {
   "cell_type": "code",
   "execution_count": 18,
   "metadata": {
    "id": "7p702phmMAHd"
   },
   "outputs": [],
   "source": [
    "from pymystem3 import Mystem\n",
    "m = Mystem()\n",
    "#data['lemmas'] = ' '.join(m.lemmatize(str(data['purpose'])))\n",
    "# получаю список уникальных значений столбца purpose (причина для кредита)\n",
    "purpose_unique = data['purpose'].unique()\n",
    "\n",
    "# проверяю полученный список\n",
    "#print(purpose_unique)\n",
    "\n",
    "# создаю в цикле новый список уникальных лемм\n",
    "lemmas = []\n",
    "for i in purpose_unique:\n",
    "#    result = m.lemmatize(i)\n",
    "    result = ''.join(m.lemmatize(i)).strip()\n",
    "    # Соединяем леммы друг с другом (вместо получения каждого слова как отдельного значения) [ ''.join() ],\n",
    "    # а также удаляем все пробелы оператором .strip() \n",
    "    lemmas.append(result)\n",
    "#print(lemmas)\n",
    "# Получили Series с лемматизированными уникальными значениями всех строк таблицы data"
   ]
  },
  {
   "cell_type": "markdown",
   "metadata": {
    "id": "JGxtmE9ZMAHh"
   },
   "source": [
    "#### Вывод 2.4"
   ]
  },
  {
   "cell_type": "markdown",
   "metadata": {
    "id": "sB3SW_siMAHh"
   },
   "source": [
    "Типовых запросов не так уж много: жильё/недвижимость, автомобиль, свадьба, образование и другое"
   ]
  },
  {
   "cell_type": "markdown",
   "metadata": {
    "id": "BmupXSCSrWs9"
   },
   "source": [
    "### 2.5. Исправление ошибок в данных"
   ]
  },
  {
   "cell_type": "code",
   "execution_count": 19,
   "metadata": {},
   "outputs": [
    {
     "data": {
      "text/plain": [
       "array([ 1,  0,  3,  2,  4, 20,  5])"
      ]
     },
     "execution_count": 19,
     "metadata": {},
     "output_type": "execute_result"
    }
   ],
   "source": [
    "# 1. Поправим значение в количестве детей\n",
    "data['children'] = data['children'].replace(-1, 1) # предполагаю, что это ошибка ввода, т.к. единичный случай\n",
    "data['children'].unique()"
   ]
  },
  {
   "cell_type": "code",
   "execution_count": 20,
   "metadata": {},
   "outputs": [
    {
     "data": {
      "text/plain": [
       "F    14175\n",
       "M     7279\n",
       "Name: gender, dtype: int64"
      ]
     },
     "execution_count": 20,
     "metadata": {},
     "output_type": "execute_result"
    }
   ],
   "source": [
    "# 6. Исправим значение в gender \n",
    "data['gender'] = data['gender'].replace('XNA', 'F') # меняю на 'F' т.к. по статистике их в два раза больше\n",
    "data['gender'].value_counts()"
   ]
  },
  {
   "cell_type": "code",
   "execution_count": 21,
   "metadata": {},
   "outputs": [
    {
     "name": "stdout",
     "output_type": "stream",
     "text": [
      "43\n"
     ]
    }
   ],
   "source": [
    "# 3. Исправим значения в dob_years (возраст заёмщика)\n",
    "# Найтём средний возраст для тех, у кого он указан, запишем его в переменную dob_years_mean\n",
    "data_age_nozero = data[data['dob_years'] != 0]\n",
    "dob_years_mean = data_age_nozero['dob_years'].mean()       # результат 43.4974\n",
    "dob_years_mean = int(data_age_nozero['dob_years'].mean()) # результат 43\n",
    "print(dob_years_mean)"
   ]
  },
  {
   "cell_type": "code",
   "execution_count": 22,
   "metadata": {},
   "outputs": [
    {
     "data": {
      "text/plain": [
       "0"
      ]
     },
     "execution_count": 22,
     "metadata": {},
     "output_type": "execute_result"
    }
   ],
   "source": [
    "# Заменим возраст 0 на средний возраст в таблице\n",
    "data['dob_years'] = data['dob_years'].replace(0, dob_years_mean)\n",
    "data['dob_years'].value_counts()\n",
    "data[data['dob_years'] == 0]['family_status'].count()"
   ]
  },
  {
   "cell_type": "code",
   "execution_count": 23,
   "metadata": {
    "colab": {
     "base_uri": "https://localhost:8080/"
    },
    "id": "2b3gtSHsMAHj",
    "outputId": "2c02c1a8-cd80-43dc-85f8-ece26d347c82"
   },
   "outputs": [],
   "source": [
    "                                    # 2. Поправим значения в трудовом стаже days_employed\n",
    "## Предполагаю, что отрицательные значения - ошибка\n",
    "# Проверим, сколько всего строк с отрицательным days_employed\n",
    "#data[data['days_employed'] < 0]['days_employed'].count()\n",
    "# Результат: всего 15906 строк с отрицательным days_employed (т.е. почти 74%) Это ОЧЕНЬ Много!!!\n",
    "# очевидно присутствует какая-то системная ошибка\n",
    "\n",
    "# Проверим, как распределяется по возрастам\n",
    "#data[data['days_employed'] < 0]['dob_years'].value_counts()\n",
    "# Результат: Распределение более-менее равномерное\n",
    "\n",
    "# Проверим, как распределяется по типу образования\n",
    "#data[data['days_employed'] < 0]['education'].value_counts()\n",
    "# Результат: среднее=10899, высшее=419, неоконч.высшее=640, начальное=168, уч.степень=4\n",
    "# Вывод: Строгой зависимости нет\n",
    "\n",
    "# Проверим, как распределяется по профессии income_type\n",
    "#data[data['days_employed'] < 0]['income_type'].value_counts()\n",
    "# Результат: сотрудник=10014, компаньон=4577, госслужащий=1312, предприниматель=1, в.декрете=1, студент=1\n",
    "# Вывод: Строгой зависимости нет\n",
    "\n",
    "# Проверим диапазон отрицательных значений\n",
    "#data[data['days_employed'] < 0].sort_values(by='days_employed').head()\n",
    "#data[data['days_employed'] < 0].sort_values(by='days_employed').tail(50)\n",
    "# Результат: Отрицательные значения в диапазоне от -18388 до -24\n",
    "\n",
    "#data_minus = data[data['days_employed'] < -80]\n",
    "#data_minus[data_minus['days_employed'] > -90].sort_values(by='days_employed')\n",
    "\n",
    "# Проверим, если ли связь отрицательных значений стажа days_employed с неотдачей кредита\n",
    "#data[data['days_employed'] < 0]['debt'].value_counts()\n",
    "# Результат: 14517 - не имело задолженности, 1389 - имело. Вывод: Связи нет!\n",
    "#data['days_employed'].min()\n",
    "### ОБЩИЙ ВЫВОД по столбцу days_employed: Значения неадекватные. В расчёт не принимать!!!\n"
   ]
  },
  {
   "cell_type": "markdown",
   "metadata": {
    "id": "jG-Hp99IMAHn"
   },
   "source": [
    "### 2.6. Категоризация данных"
   ]
  },
  {
   "cell_type": "code",
   "execution_count": 24,
   "metadata": {
    "id": "SOfsmcfDMAHo"
   },
   "outputs": [],
   "source": [
    "# Выделим 4 категории в зависимости от цели получения кредита (и создадим одну для проверки)\n",
    "\n",
    "# Альтернативный вариант функции БЕЗ обращения к новому (несозданному) столбцу \n",
    "def purpose_type(row):\n",
    "    \"\"\"\n",
    "    Определяет тип причины для кредита исходя из условий:\n",
    "    ключевое слово \"жилье\" или \"недвижимость\", то тип \"недвижимость\"\n",
    "    ключ.сл. \"автомобиль\", то тип \"авто\"\n",
    "    \"образование\", то \"образование\"\n",
    "    \"свадьба\", то \"свадьба\"\n",
    "    иначе, \"другое\"\n",
    "    \"\"\"\n",
    "    lemmatized_purpose = m.lemmatize(row['purpose'])\n",
    "    if 'жилье' in lemmatized_purpose or 'недвижимость' in lemmatized_purpose:\n",
    "        return 'недвижимость'\n",
    "    if 'автомобиль' in lemmatized_purpose:\n",
    "        return 'авто'\n",
    "    if 'образование' in lemmatized_purpose:\n",
    "        return 'образование'\n",
    "    if 'свадьба' in lemmatized_purpose:\n",
    "        return 'свадьба'\n",
    "    else:\n",
    "        return 'прочее' # создаю на всякий случай как проверку"
   ]
  },
  {
   "cell_type": "code",
   "execution_count": 25,
   "metadata": {},
   "outputs": [
    {
     "data": {
      "text/html": [
       "<div>\n",
       "<style scoped>\n",
       "    .dataframe tbody tr th:only-of-type {\n",
       "        vertical-align: middle;\n",
       "    }\n",
       "\n",
       "    .dataframe tbody tr th {\n",
       "        vertical-align: top;\n",
       "    }\n",
       "\n",
       "    .dataframe thead th {\n",
       "        text-align: right;\n",
       "    }\n",
       "</style>\n",
       "<table border=\"1\" class=\"dataframe\">\n",
       "  <thead>\n",
       "    <tr style=\"text-align: right;\">\n",
       "      <th>debt</th>\n",
       "      <th>0</th>\n",
       "      <th>1</th>\n",
       "      <th>perc_of_tot</th>\n",
       "    </tr>\n",
       "    <tr>\n",
       "      <th>gender</th>\n",
       "      <th></th>\n",
       "      <th></th>\n",
       "      <th></th>\n",
       "    </tr>\n",
       "  </thead>\n",
       "  <tbody>\n",
       "    <tr>\n",
       "      <th>F</th>\n",
       "      <td>13181</td>\n",
       "      <td>994</td>\n",
       "      <td>7.012346</td>\n",
       "    </tr>\n",
       "    <tr>\n",
       "      <th>M</th>\n",
       "      <td>6532</td>\n",
       "      <td>747</td>\n",
       "      <td>10.262399</td>\n",
       "    </tr>\n",
       "  </tbody>\n",
       "</table>\n",
       "</div>"
      ],
      "text/plain": [
       "debt        0    1  perc_of_tot\n",
       "gender                         \n",
       "F       13181  994     7.012346\n",
       "M        6532  747    10.262399"
      ]
     },
     "execution_count": 25,
     "metadata": {},
     "output_type": "execute_result"
    }
   ],
   "source": [
    "# Проверим зависимость возврата от пола\n",
    "pivot_gender_debt = data.pivot_table(index='debt', columns='gender',values='income_type', aggfunc='count').T\n",
    "pivot_gender_debt['perc_of_tot'] = pivot_gender_debt[1]/(pivot_gender_debt[0]+pivot_gender_debt[1])*100\n",
    "pivot_gender_debt"
   ]
  },
  {
   "cell_type": "code",
   "execution_count": 26,
   "metadata": {},
   "outputs": [
    {
     "data": {
      "text/html": [
       "<div>\n",
       "<style scoped>\n",
       "    .dataframe tbody tr th:only-of-type {\n",
       "        vertical-align: middle;\n",
       "    }\n",
       "\n",
       "    .dataframe tbody tr th {\n",
       "        vertical-align: top;\n",
       "    }\n",
       "\n",
       "    .dataframe thead th {\n",
       "        text-align: right;\n",
       "    }\n",
       "</style>\n",
       "<table border=\"1\" class=\"dataframe\">\n",
       "  <thead>\n",
       "    <tr style=\"text-align: right;\">\n",
       "      <th>debt</th>\n",
       "      <th>0</th>\n",
       "      <th>1</th>\n",
       "      <th>perc_of_tot</th>\n",
       "    </tr>\n",
       "    <tr>\n",
       "      <th>income_type</th>\n",
       "      <th></th>\n",
       "      <th></th>\n",
       "      <th></th>\n",
       "    </tr>\n",
       "  </thead>\n",
       "  <tbody>\n",
       "    <tr>\n",
       "      <th>безработный</th>\n",
       "      <td>1.0</td>\n",
       "      <td>1.0</td>\n",
       "      <td>50.000000</td>\n",
       "    </tr>\n",
       "    <tr>\n",
       "      <th>сотрудник</th>\n",
       "      <td>10023.0</td>\n",
       "      <td>1061.0</td>\n",
       "      <td>9.572357</td>\n",
       "    </tr>\n",
       "    <tr>\n",
       "      <th>компаньон</th>\n",
       "      <td>4702.0</td>\n",
       "      <td>376.0</td>\n",
       "      <td>7.404490</td>\n",
       "    </tr>\n",
       "    <tr>\n",
       "      <th>госслужащий</th>\n",
       "      <td>1371.0</td>\n",
       "      <td>86.0</td>\n",
       "      <td>5.902539</td>\n",
       "    </tr>\n",
       "    <tr>\n",
       "      <th>пенсионер</th>\n",
       "      <td>3613.0</td>\n",
       "      <td>216.0</td>\n",
       "      <td>5.641160</td>\n",
       "    </tr>\n",
       "    <tr>\n",
       "      <th>в декрете</th>\n",
       "      <td>0.0</td>\n",
       "      <td>1.0</td>\n",
       "      <td>0.000000</td>\n",
       "    </tr>\n",
       "    <tr>\n",
       "      <th>предприниматель</th>\n",
       "      <td>2.0</td>\n",
       "      <td>0.0</td>\n",
       "      <td>0.000000</td>\n",
       "    </tr>\n",
       "    <tr>\n",
       "      <th>студент</th>\n",
       "      <td>1.0</td>\n",
       "      <td>0.0</td>\n",
       "      <td>0.000000</td>\n",
       "    </tr>\n",
       "  </tbody>\n",
       "</table>\n",
       "</div>"
      ],
      "text/plain": [
       "debt                   0       1  perc_of_tot\n",
       "income_type                                  \n",
       "безработный          1.0     1.0    50.000000\n",
       "сотрудник        10023.0  1061.0     9.572357\n",
       "компаньон         4702.0   376.0     7.404490\n",
       "госслужащий       1371.0    86.0     5.902539\n",
       "пенсионер         3613.0   216.0     5.641160\n",
       "в декрете            0.0     1.0     0.000000\n",
       "предприниматель      2.0     0.0     0.000000\n",
       "студент              1.0     0.0     0.000000"
      ]
     },
     "execution_count": 26,
     "metadata": {},
     "output_type": "execute_result"
    }
   ],
   "source": [
    "# Проверим зависимость возврата от профессии\n",
    "pivot_income_type_debt = data.pivot_table(index='debt', columns='income_type',values='gender', aggfunc='count').T\n",
    "pivot_income_type_debt['perc_of_tot'] = pivot_income_type_debt[1]/(pivot_income_type_debt[0]+pivot_income_type_debt[1])*100\n",
    "pivot_income_type_debt.fillna(0).sort_values(by='perc_of_tot', ascending=False)\n",
    "# Процент невозврата  безработный - 50%, в декрете - 100%, госслужащий - 6%, компаньон - 7%, пенсионер - 5,6%,\n",
    "# предприниматель - 0%, сотрудник - 9,5%, студент - 0%\n",
    "# при этом студентам, предпринимателям, безработным и в декрете - кредиты почти не выдают!!!"
   ]
  },
  {
   "cell_type": "code",
   "execution_count": 27,
   "metadata": {},
   "outputs": [],
   "source": [
    "# Пропишем для каждого наблюдения тип причины для кредита\n",
    "data['purpose_type'] = data.apply(purpose_type, axis='columns') #alt 'axis=1'"
   ]
  },
  {
   "cell_type": "code",
   "execution_count": 28,
   "metadata": {},
   "outputs": [
    {
     "data": {
      "text/plain": [
       "array(['недвижимость', 'авто', 'образование', 'свадьба'], dtype=object)"
      ]
     },
     "execution_count": 28,
     "metadata": {},
     "output_type": "execute_result"
    }
   ],
   "source": [
    "# Проверка назначения типа\n",
    "data['purpose_type'].unique()"
   ]
  },
  {
   "cell_type": "code",
   "execution_count": 29,
   "metadata": {},
   "outputs": [
    {
     "data": {
      "text/html": [
       "<div>\n",
       "<style scoped>\n",
       "    .dataframe tbody tr th:only-of-type {\n",
       "        vertical-align: middle;\n",
       "    }\n",
       "\n",
       "    .dataframe tbody tr th {\n",
       "        vertical-align: top;\n",
       "    }\n",
       "\n",
       "    .dataframe thead th {\n",
       "        text-align: right;\n",
       "    }\n",
       "</style>\n",
       "<table border=\"1\" class=\"dataframe\">\n",
       "  <thead>\n",
       "    <tr style=\"text-align: right;\">\n",
       "      <th></th>\n",
       "      <th>purpose_type</th>\n",
       "    </tr>\n",
       "  </thead>\n",
       "  <tbody>\n",
       "    <tr>\n",
       "      <th>недвижимость</th>\n",
       "      <td>10811</td>\n",
       "    </tr>\n",
       "    <tr>\n",
       "      <th>авто</th>\n",
       "      <td>4306</td>\n",
       "    </tr>\n",
       "    <tr>\n",
       "      <th>образование</th>\n",
       "      <td>4013</td>\n",
       "    </tr>\n",
       "    <tr>\n",
       "      <th>свадьба</th>\n",
       "      <td>2324</td>\n",
       "    </tr>\n",
       "  </tbody>\n",
       "</table>\n",
       "</div>"
      ],
      "text/plain": [
       "              purpose_type\n",
       "недвижимость         10811\n",
       "авто                  4306\n",
       "образование           4013\n",
       "свадьба               2324"
      ]
     },
     "metadata": {},
     "output_type": "display_data"
    },
    {
     "data": {
      "text/html": [
       "<div>\n",
       "<style scoped>\n",
       "    .dataframe tbody tr th:only-of-type {\n",
       "        vertical-align: middle;\n",
       "    }\n",
       "\n",
       "    .dataframe tbody tr th {\n",
       "        vertical-align: top;\n",
       "    }\n",
       "\n",
       "    .dataframe thead th {\n",
       "        text-align: right;\n",
       "    }\n",
       "</style>\n",
       "<table border=\"1\" class=\"dataframe\">\n",
       "  <thead>\n",
       "    <tr style=\"text-align: right;\">\n",
       "      <th></th>\n",
       "      <th>purpose_type</th>\n",
       "    </tr>\n",
       "  </thead>\n",
       "  <tbody>\n",
       "    <tr>\n",
       "      <th>недвижимость</th>\n",
       "      <td>0.503915</td>\n",
       "    </tr>\n",
       "    <tr>\n",
       "      <th>авто</th>\n",
       "      <td>0.200708</td>\n",
       "    </tr>\n",
       "    <tr>\n",
       "      <th>образование</th>\n",
       "      <td>0.187051</td>\n",
       "    </tr>\n",
       "    <tr>\n",
       "      <th>свадьба</th>\n",
       "      <td>0.108325</td>\n",
       "    </tr>\n",
       "  </tbody>\n",
       "</table>\n",
       "</div>"
      ],
      "text/plain": [
       "              purpose_type\n",
       "недвижимость      0.503915\n",
       "авто              0.200708\n",
       "образование       0.187051\n",
       "свадьба           0.108325"
      ]
     },
     "metadata": {},
     "output_type": "display_data"
    }
   ],
   "source": [
    "# Посчитаем, сколько запросов в каждой категории\n",
    "display(data['purpose_type'].value_counts().to_frame())\n",
    "# В процентах\n",
    "display(data['purpose_type'].value_counts(normalize=True).to_frame())\n",
    "\n",
    "# Результат недвижимость=10840 (eq. 50,4%), авто=4315 (eq. 20%), образование=4022 (eq. 18,7%), \n",
    "#           свадьба=2348 (eq. 10,9%), ВСЕГО=21525"
   ]
  },
  {
   "cell_type": "markdown",
   "metadata": {
    "id": "dbQwHlPNMAHs"
   },
   "source": [
    "### Вывод по шагу 2"
   ]
  },
  {
   "cell_type": "markdown",
   "metadata": {
    "id": "WSbKWUDGMAHt"
   },
   "source": [
    "В итоге получили 4 категории причин получения кредита: \n",
    "- недвижимость (50,4% или 10840 запросов)\n",
    "- авто (20,0% или 4315 запросов)\n",
    "- образование (18,7% или 4022 запросов)\n",
    "- свадьба (10,9% или 2348 запросов)\n"
   ]
  },
  {
   "cell_type": "markdown",
   "metadata": {
    "id": "5FBHgmE7MAHu"
   },
   "source": [
    "## <a class='anchor' id='analysis'>Шаг 3. Анализ данных</a>"
   ]
  },
  {
   "cell_type": "markdown",
   "metadata": {
    "id": "EM0y9x1BMAHv"
   },
   "source": [
    "### Вопрос 3.1: Есть ли зависимость между наличием детей и возвратом кредита в срок?"
   ]
  },
  {
   "cell_type": "code",
   "execution_count": 30,
   "metadata": {
    "id": "FVAXaZgWMAHw",
    "outputId": "9572b34f-9428-4c1d-ee09-35a6e8d1272f"
   },
   "outputs": [
    {
     "data": {
      "text/html": [
       "<div>\n",
       "<style scoped>\n",
       "    .dataframe tbody tr th:only-of-type {\n",
       "        vertical-align: middle;\n",
       "    }\n",
       "\n",
       "    .dataframe tbody tr th {\n",
       "        vertical-align: top;\n",
       "    }\n",
       "\n",
       "    .dataframe thead th {\n",
       "        text-align: right;\n",
       "    }\n",
       "</style>\n",
       "<table border=\"1\" class=\"dataframe\">\n",
       "  <thead>\n",
       "    <tr style=\"text-align: right;\">\n",
       "      <th>children</th>\n",
       "      <th>0</th>\n",
       "      <th>1</th>\n",
       "      <th>2</th>\n",
       "      <th>3</th>\n",
       "      <th>4</th>\n",
       "      <th>5</th>\n",
       "      <th>20</th>\n",
       "    </tr>\n",
       "    <tr>\n",
       "      <th>debt</th>\n",
       "      <th></th>\n",
       "      <th></th>\n",
       "      <th></th>\n",
       "      <th></th>\n",
       "      <th></th>\n",
       "      <th></th>\n",
       "      <th></th>\n",
       "    </tr>\n",
       "  </thead>\n",
       "  <tbody>\n",
       "    <tr>\n",
       "      <th>0</th>\n",
       "      <td>13028.0</td>\n",
       "      <td>4410.0</td>\n",
       "      <td>1858.0</td>\n",
       "      <td>303.0</td>\n",
       "      <td>37.0</td>\n",
       "      <td>9.0</td>\n",
       "      <td>68.0</td>\n",
       "    </tr>\n",
       "    <tr>\n",
       "      <th>1</th>\n",
       "      <td>1063.0</td>\n",
       "      <td>445.0</td>\n",
       "      <td>194.0</td>\n",
       "      <td>27.0</td>\n",
       "      <td>4.0</td>\n",
       "      <td>NaN</td>\n",
       "      <td>8.0</td>\n",
       "    </tr>\n",
       "  </tbody>\n",
       "</table>\n",
       "</div>"
      ],
      "text/plain": [
       "children       0       1       2      3     4    5     20\n",
       "debt                                                     \n",
       "0         13028.0  4410.0  1858.0  303.0  37.0  9.0  68.0\n",
       "1          1063.0   445.0   194.0   27.0   4.0  NaN   8.0"
      ]
     },
     "execution_count": 30,
     "metadata": {},
     "output_type": "execute_result"
    }
   ],
   "source": [
    "# Проверим, если ли зависимость, для этого создадим сводную таблицу\n",
    "pivot_children_debt = data.pivot_table(index='debt', columns='children',values='gender', aggfunc='count')\n",
    "pivot_children_debt.head(35)\n",
    "# Результат:\n",
    "    # без детей: нет долгов = 13086 (60% от 21525) всего бездетных 14149(92% от бездетных)\n",
    "    #            есть долги = 1063 (5% от 21525) (8% от бездетных)\n",
    "    # C детьми: нет долгов = 4420+1861+303+37+9+68=6698 (31% от 21525) всего с-детьми 7376 (91% от с-детьми)\n",
    "    #            есть долги = 445+194+27+4+0+8=678 (3% от 21525) (9% от с-детьми)"
   ]
  },
  {
   "cell_type": "markdown",
   "metadata": {
    "id": "nJn0DD-JMAH0"
   },
   "source": [
    "#### Ответ 3.1"
   ]
  },
  {
   "cell_type": "markdown",
   "metadata": {
    "id": "SWhw6oKgMAH0"
   },
   "source": [
    "Корреляции между наличием детей и возвратом кредита нет (процент возврата примерно одинаковый).\n",
    "\n",
    "Результат:\n",
    "* без детей: \n",
    "    * нет долгов = 13086 (60% от 21525) всего бездетных 14149(92% от бездетных)\n",
    "    * есть долги = 1063 (5% от 21525) (8% от бездетных)\n",
    "* с детьми: \n",
    "    * нет долгов = 4420+1861+303+37+9+68=6698 (31% от 21525) всего с-детьми 7376 (91% от с-детьми)\n",
    "    * есть долги = 445+194+27+4+0+8=678 (3% от 21525) (9% от с-детьми)"
   ]
  },
  {
   "cell_type": "markdown",
   "metadata": {
    "id": "2Z82x1EMMAH1"
   },
   "source": [
    "### Вопрос 3.2: Есть ли зависимость между семейным положением и возвратом кредита в срок?"
   ]
  },
  {
   "cell_type": "code",
   "execution_count": 31,
   "metadata": {
    "id": "7ARvNYI7MAH2",
    "outputId": "70c4e5e7-5896-43d2-92ae-122c5b61be39"
   },
   "outputs": [
    {
     "data": {
      "text/html": [
       "<div>\n",
       "<style scoped>\n",
       "    .dataframe tbody tr th:only-of-type {\n",
       "        vertical-align: middle;\n",
       "    }\n",
       "\n",
       "    .dataframe tbody tr th {\n",
       "        vertical-align: top;\n",
       "    }\n",
       "\n",
       "    .dataframe thead th {\n",
       "        text-align: right;\n",
       "    }\n",
       "</style>\n",
       "<table border=\"1\" class=\"dataframe\">\n",
       "  <thead>\n",
       "    <tr style=\"text-align: right;\">\n",
       "      <th>debt</th>\n",
       "      <th>0</th>\n",
       "      <th>1</th>\n",
       "      <th>1_perc_of_tot</th>\n",
       "    </tr>\n",
       "    <tr>\n",
       "      <th>family_status</th>\n",
       "      <th></th>\n",
       "      <th></th>\n",
       "      <th></th>\n",
       "    </tr>\n",
       "  </thead>\n",
       "  <tbody>\n",
       "    <tr>\n",
       "      <th>не женат / не замужем</th>\n",
       "      <td>2536</td>\n",
       "      <td>274</td>\n",
       "      <td>9.750890</td>\n",
       "    </tr>\n",
       "    <tr>\n",
       "      <th>гражданский брак</th>\n",
       "      <td>3763</td>\n",
       "      <td>388</td>\n",
       "      <td>9.347145</td>\n",
       "    </tr>\n",
       "    <tr>\n",
       "      <th>женат / замужем</th>\n",
       "      <td>11408</td>\n",
       "      <td>931</td>\n",
       "      <td>7.545182</td>\n",
       "    </tr>\n",
       "    <tr>\n",
       "      <th>в разводе</th>\n",
       "      <td>1110</td>\n",
       "      <td>85</td>\n",
       "      <td>7.112971</td>\n",
       "    </tr>\n",
       "    <tr>\n",
       "      <th>вдовец / вдова</th>\n",
       "      <td>896</td>\n",
       "      <td>63</td>\n",
       "      <td>6.569343</td>\n",
       "    </tr>\n",
       "  </tbody>\n",
       "</table>\n",
       "</div>"
      ],
      "text/plain": [
       "debt                       0    1  1_perc_of_tot\n",
       "family_status                                   \n",
       "не женат / не замужем   2536  274       9.750890\n",
       "гражданский брак        3763  388       9.347145\n",
       "женат / замужем        11408  931       7.545182\n",
       "в разводе               1110   85       7.112971\n",
       "вдовец / вдова           896   63       6.569343"
      ]
     },
     "execution_count": 31,
     "metadata": {},
     "output_type": "execute_result"
    }
   ],
   "source": [
    "# Проверим, если ли зависимость, для этого создадим сводную таблицу\n",
    "pivot_famstat_debt = data.pivot_table(index='debt', columns='family_status',values='gender', aggfunc='count').T\n",
    "pivot_famstat_debt['1_perc_of_tot'] = pivot_famstat_debt[1]/(pivot_famstat_debt[0]+pivot_famstat_debt[1])*100\n",
    "pivot_famstat_debt.sort_values(by='1_perc_of_tot', ascending=False)\n",
    "# Результат:\n",
    "    # не женат: нет долгов = 2539; всего холостых 2813(90% от холостых)\n",
    "    #           есть долги = 274; (10% от холостых)\n",
    "    # в разводе: нет долгов = 1110; всего в-разводе 1195 (93% от в-разводе)\n",
    "    #            есть долги = 85; (7% от в-разводе)\n",
    "    # вдова:     нет долгов = 897; всего вдова 960 (93% от вдова)\n",
    "    #            есть долги = 63; (7% от вдова)\n",
    "    # гр.брак:   нет долгов = 3789; всего гр.брак 4177 (91% от гр.брак)\n",
    "    #            есть долги = 388; (9% от гр.брак)\n",
    "    # женат:     нет долгов = 11449; всего женат 12380 (92% от женат)\n",
    "    #            есть долги = 931; (8% от женат)"
   ]
  },
  {
   "cell_type": "markdown",
   "metadata": {
    "id": "Pgfd7b84MAH6"
   },
   "source": [
    "#### Ответ 3.2"
   ]
  },
  {
   "cell_type": "markdown",
   "metadata": {
    "id": "7doDfqy1MAH6"
   },
   "source": [
    "Слабая корреляции между семейным положением и возвратом кредита отслеживается.\n",
    "\n",
    "Результат:\n",
    "* не женат: \n",
    "    * нет долгов = 2539; всего холостых 2813(90% от холостых)\n",
    "    * есть долги = 274; (10% от холостых)\n",
    "* в разводе: \n",
    "    * нет долгов = 1110; всего в-разводе 1195 (93% от в-разводе)\n",
    "    * есть долги = 85; (7% от в-разводе)\n",
    "* вдова:\n",
    "    * нет долгов = 897; всего вдова 960 (93% от вдова)\n",
    "    * есть долги = 63; (7% от вдова)\n",
    "* гр.брак:  \n",
    "    * нет долгов = 3789; всего гр.брак 4177 (91% от гр.брак)\n",
    "    * есть долги = 388; (9% от гр.брак)\n",
    "* женат:     \n",
    "    * нет долгов = 11449; всего женат 12380 (92% от женат)\n",
    "    * есть долги = 931; (8% от женат)\n",
    "    \n",
    "То есть <u>самые надежные заемщики - в разводе, вдовы и женатые</u><br>\n",
    "Самые ненадежные заемщики - холостые и в гражданском браке"
   ]
  },
  {
   "cell_type": "markdown",
   "metadata": {
    "id": "L5681Qd9MAH7"
   },
   "source": [
    "### Вопрос 3.3: Есть ли зависимость между уровнем дохода и возвратом кредита в срок?"
   ]
  },
  {
   "cell_type": "code",
   "execution_count": 32,
   "metadata": {
    "id": "usPfsNAfMAH8",
    "outputId": "720cd42d-3017-408e-90a4-21c7a2c2d0bf"
   },
   "outputs": [],
   "source": [
    "# Сначала разделим на статусы в зависимости от заработка\n",
    "#data.sort_values(by='total_income').tail()\n",
    "# минимальное значение 20'667\n",
    "# максимальное значение 2'265'604\n",
    "def income_status(row):\n",
    "    '''\n",
    "    Определяет статус исходя из уровня заработка\n",
    "    До 50т.р. - минимум\n",
    "    менее 100т.р. - ниже среднего\n",
    "    менее 300т.р. - средний\n",
    "    менее 1млн.р. - выше среднего\n",
    "    более 1млн.р. - максимум\n",
    "    '''\n",
    "    total_income = row['total_income']\n",
    "    if total_income < 50000: # доход менее 50тр - минимум\n",
    "        return 'минимум'\n",
    "    if total_income < 100000: # доход от 50тр до 100тр - ниже среднего\n",
    "        return 'ниже среднего'\n",
    "    if total_income < 200000: # доход от 100тр до 200тр - средний\n",
    "        return 'средний'\n",
    "    if total_income < 500000: # доход от 200тр до 500тр - выше среднего\n",
    "        return 'выше среднего'\n",
    "    else:\n",
    "        return 'максимум' # доход более 500тр в месяц - максимум"
   ]
  },
  {
   "cell_type": "code",
   "execution_count": 33,
   "metadata": {},
   "outputs": [
    {
     "data": {
      "text/html": [
       "<div>\n",
       "<style scoped>\n",
       "    .dataframe tbody tr th:only-of-type {\n",
       "        vertical-align: middle;\n",
       "    }\n",
       "\n",
       "    .dataframe tbody tr th {\n",
       "        vertical-align: top;\n",
       "    }\n",
       "\n",
       "    .dataframe thead th {\n",
       "        text-align: right;\n",
       "    }\n",
       "</style>\n",
       "<table border=\"1\" class=\"dataframe\">\n",
       "  <thead>\n",
       "    <tr style=\"text-align: right;\">\n",
       "      <th>debt</th>\n",
       "      <th>0</th>\n",
       "      <th>1</th>\n",
       "      <th>total</th>\n",
       "      <th>1_perc_of_tot</th>\n",
       "    </tr>\n",
       "    <tr>\n",
       "      <th>total_income_status</th>\n",
       "      <th></th>\n",
       "      <th></th>\n",
       "      <th></th>\n",
       "      <th></th>\n",
       "    </tr>\n",
       "  </thead>\n",
       "  <tbody>\n",
       "    <tr>\n",
       "      <th>средний</th>\n",
       "      <td>10896</td>\n",
       "      <td>1029</td>\n",
       "      <td>11925</td>\n",
       "      <td>8.628931</td>\n",
       "    </tr>\n",
       "    <tr>\n",
       "      <th>ниже среднего</th>\n",
       "      <td>3760</td>\n",
       "      <td>331</td>\n",
       "      <td>4091</td>\n",
       "      <td>8.090931</td>\n",
       "    </tr>\n",
       "    <tr>\n",
       "      <th>выше среднего</th>\n",
       "      <td>4500</td>\n",
       "      <td>344</td>\n",
       "      <td>4844</td>\n",
       "      <td>7.101569</td>\n",
       "    </tr>\n",
       "    <tr>\n",
       "      <th>максимум</th>\n",
       "      <td>208</td>\n",
       "      <td>14</td>\n",
       "      <td>222</td>\n",
       "      <td>6.306306</td>\n",
       "    </tr>\n",
       "    <tr>\n",
       "      <th>минимум</th>\n",
       "      <td>349</td>\n",
       "      <td>23</td>\n",
       "      <td>372</td>\n",
       "      <td>6.182796</td>\n",
       "    </tr>\n",
       "  </tbody>\n",
       "</table>\n",
       "</div>"
      ],
      "text/plain": [
       "debt                     0     1  total  1_perc_of_tot\n",
       "total_income_status                                   \n",
       "средний              10896  1029  11925       8.628931\n",
       "ниже среднего         3760   331   4091       8.090931\n",
       "выше среднего         4500   344   4844       7.101569\n",
       "максимум               208    14    222       6.306306\n",
       "минимум                349    23    372       6.182796"
      ]
     },
     "execution_count": 33,
     "metadata": {},
     "output_type": "execute_result"
    }
   ],
   "source": [
    "data['total_income_status'] = data.apply(income_status, axis='columns')\n",
    "#data.head()\n",
    "\n",
    "# Создадим сводную таблицу для проверки зависимости\n",
    "pivot_income_debt = data.pivot_table(index=['debt'], columns='total_income_status',values='gender', aggfunc='count').T\n",
    "pivot_income_debt['total'] = pivot_income_debt[0]+pivot_income_debt[1]\n",
    "pivot_income_debt['1_perc_of_tot'] = pivot_income_debt[1]/pivot_income_debt['total']*100\n",
    "pivot_income_debt.sort_values(by='1_perc_of_tot', ascending=False)"
   ]
  },
  {
   "cell_type": "markdown",
   "metadata": {
    "id": "MmtpOq3zMAIA"
   },
   "source": [
    "#### Ответ 3.3"
   ]
  },
  {
   "cell_type": "markdown",
   "metadata": {
    "id": "PieOcsLqMAIB"
   },
   "source": [
    "Очень небольшая зависимость возврата кредита от уровня дохода есть:\n",
    "* Самый высокий процент невозврата:\n",
    "* 9% в группе со средними доходами (от 100тр до 200тр)\n",
    "* 8% в группе с доходами ниже среднего (от 50тр дл 100тр)\n",
    "\n",
    "<p>Самый низкий процент невозврата в группе с доходами менее 50тр - всего 6% (хотя и число выданных кредитов сильно меньше, чем в остальных группах).</p>"
   ]
  },
  {
   "cell_type": "markdown",
   "metadata": {
    "id": "ZrVOfjZZMAIB"
   },
   "source": [
    "### Вопрос 3.4: Как разные цели кредита влияют на его возврат в срок?"
   ]
  },
  {
   "cell_type": "code",
   "execution_count": 34,
   "metadata": {
    "id": "XjtQ4R0MMAIC",
    "outputId": "90e267e7-ab18-4097-cf16-63df4881d3f6"
   },
   "outputs": [
    {
     "data": {
      "text/html": [
       "<div>\n",
       "<style scoped>\n",
       "    .dataframe tbody tr th:only-of-type {\n",
       "        vertical-align: middle;\n",
       "    }\n",
       "\n",
       "    .dataframe tbody tr th {\n",
       "        vertical-align: top;\n",
       "    }\n",
       "\n",
       "    .dataframe thead th {\n",
       "        text-align: right;\n",
       "    }\n",
       "</style>\n",
       "<table border=\"1\" class=\"dataframe\">\n",
       "  <thead>\n",
       "    <tr style=\"text-align: right;\">\n",
       "      <th>purpose_type</th>\n",
       "      <th>авто</th>\n",
       "      <th>недвижимость</th>\n",
       "      <th>образование</th>\n",
       "      <th>свадьба</th>\n",
       "    </tr>\n",
       "    <tr>\n",
       "      <th>debt</th>\n",
       "      <th></th>\n",
       "      <th></th>\n",
       "      <th></th>\n",
       "      <th></th>\n",
       "    </tr>\n",
       "  </thead>\n",
       "  <tbody>\n",
       "    <tr>\n",
       "      <th>0</th>\n",
       "      <td>3903</td>\n",
       "      <td>10029</td>\n",
       "      <td>3643</td>\n",
       "      <td>2138</td>\n",
       "    </tr>\n",
       "    <tr>\n",
       "      <th>1</th>\n",
       "      <td>403</td>\n",
       "      <td>782</td>\n",
       "      <td>370</td>\n",
       "      <td>186</td>\n",
       "    </tr>\n",
       "  </tbody>\n",
       "</table>\n",
       "</div>"
      ],
      "text/plain": [
       "purpose_type  авто  недвижимость  образование  свадьба\n",
       "debt                                                  \n",
       "0             3903         10029         3643     2138\n",
       "1              403           782          370      186"
      ]
     },
     "execution_count": 34,
     "metadata": {},
     "output_type": "execute_result"
    }
   ],
   "source": [
    "# Создадим сводную таблицу для проверки зависимости\n",
    "pivot_purpose_debt = data.pivot_table(index=['debt'], columns='purpose_type',values='gender', aggfunc='count')\n",
    "pivot_purpose_debt.head()"
   ]
  },
  {
   "cell_type": "markdown",
   "metadata": {
    "id": "XGvRbLqIMAIH"
   },
   "source": [
    "#### Ответ 3.4"
   ]
  },
  {
   "cell_type": "markdown",
   "metadata": {
    "id": "okHEVGB1MAII"
   },
   "source": [
    "Результаты:\n",
    "<p>Невозврат по группам, %<br>\n",
    "* Авто 9% (3912-403)<br>\n",
    "* Недвижимость 7% (10058-782)<br>\n",
    "* Образование 9%(3652-370)<br>\n",
    "* Свадьба 8% (2162-186)<br>\n",
    "    \n",
    "<b>Вывод: Самая надежная цель для получения кредита - категория \"недвижимость\".<br>\n",
    "Самая ненадежная цель - \"авто\" и (как ни странно) \"образование\"</b>"
   ]
  },
  {
   "cell_type": "markdown",
   "metadata": {
    "id": "eYp6EkN4MAIJ"
   },
   "source": [
    "## <a class='anchor' id='resume'>Шаг 4. Общий вывод</a>"
   ]
  },
  {
   "cell_type": "markdown",
   "metadata": {
    "id": "exuV0X-nMAIJ"
   },
   "source": [
    "Возврат выданного кредита зависит:\n",
    "    - от семейного положение (самые надежные заемщики - это \"в разводе\", \"вдовы/вдовцы\" и \"женатые/замужем\", а самые ненадежные заемщики - \"холостые\" и \"в гражданском браке\"\n",
    "    - от цели кредита (самые надежные заемщики берут кредит на покупку или ремонт недвижимости, а самые ненадежные - на автомобиль и образование.\n",
    "Возврат выданного кредита не зависит:\n",
    "    - от наличия детей (возвращают одинаково и заемщики с детьми, и бездетные)\n",
    "    - от уровня дохода (заемщики с разным уровнем дохода имеют примерно одинаковый процент возврата кредита в срок)\n",
    "    \n",
    "Таким образом, портрет идеального заемщика: Женщина-пенсионер или госслужащая, состоящая в браке, которая планирует приобретение недвижимости.\n",
    "Потртет нежелательного заемщика: Холостой мужчина, сотрудник по найму, которых хочет взять кредит на автомобиль."
   ]
  }
 ],
 "metadata": {
  "colab": {
   "collapsed_sections": [
    "xiFCPDr8MAG2",
    "wEYDgd8IMAG-",
    "36AIqYvYMAHB",
    "bVpAmJeCQtRO",
    "dbQwHlPNMAHs",
    "5FBHgmE7MAHu",
    "EM0y9x1BMAHv",
    "nJn0DD-JMAH0",
    "2Z82x1EMMAH1",
    "Pgfd7b84MAH6",
    "L5681Qd9MAH7",
    "MmtpOq3zMAIA",
    "ZrVOfjZZMAIB",
    "eYp6EkN4MAIJ"
   ],
   "name": "Проект 1 - Исследование надежности заемщика.ipynb",
   "provenance": []
  },
  "kernelspec": {
   "display_name": "Python 3",
   "language": "python",
   "name": "python3"
  },
  "language_info": {
   "codemirror_mode": {
    "name": "ipython",
    "version": 3
   },
   "file_extension": ".py",
   "mimetype": "text/x-python",
   "name": "python",
   "nbconvert_exporter": "python",
   "pygments_lexer": "ipython3",
   "version": "3.7.7"
  }
 },
 "nbformat": 4,
 "nbformat_minor": 1
}
