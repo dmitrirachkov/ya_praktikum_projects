{
 "cells": [
  {
   "cell_type": "markdown",
   "metadata": {
    "id": "IwdZ635YJNIF"
   },
   "source": [
    "# Проект - Аналитика в авиакомпании"
   ]
  },
  {
   "cell_type": "markdown",
   "metadata": {
    "id": "ITiUekkwQFMd"
   },
   "source": [
    "Цель проекта: Необходимо проанализировать информацию об авиаперевозках авиакомпании и спрос пассажиров на рейсы в города, где проходят крупнейшие фестивали."
   ]
  },
  {
   "cell_type": "markdown",
   "metadata": {
    "id": "arQ7ddA_P22K"
   },
   "source": [
    "## Шаг 1. Написание парсера для сбора с сайта данных о 10 крупнейших фестивалях года."
   ]
  },
  {
   "cell_type": "code",
   "execution_count": 4,
   "metadata": {
    "colab": {
     "base_uri": "https://localhost:8080/",
     "height": 442
    },
    "executionInfo": {
     "elapsed": 1275,
     "status": "ok",
     "timestamp": 1603107642298,
     "user": {
      "displayName": "Dmitri Rachkov",
      "photoUrl": "",
      "userId": "15114973081202312151"
     },
     "user_tz": -180
    },
    "id": "FTgnecg7pvml",
    "outputId": "106ae254-f968-441c-bf0b-04b02706a857"
   },
   "outputs": [
    {
     "name": "stdout",
     "output_type": "stream",
     "text": [
      "                                  Название фестиваля Место проведения  \\\n",
      "0               Музыкальный фестиваль «Усадьба Jazz»     Екатеринбург   \n",
      "1   Фестиваль музыки и технологий Alfa Future People  Нижний Новгород   \n",
      "2                        Фестиваль еды «О, да! Еда!»  Санкт-Петербург   \n",
      "3                                          Доброфест        Ярославль   \n",
      "4                                          Park Live           Москва   \n",
      "5                                       Пикник Афиши           Москва   \n",
      "6                                            VK FEST  Санкт-Петербург   \n",
      "7                            Фестиваль «О, да! Еда!»          Иркутск   \n",
      "8                            Фестиваль «О, да! Еда!»      Владивосток   \n",
      "9                                            Видфест           Москва   \n",
      "10                                  «Нашествие 2018»            Тверь   \n",
      "\n",
      "   Дата проведения  \n",
      "0       01.07.2018  \n",
      "1       10.08.2018  \n",
      "2       21.07.2018  \n",
      "3       29.07.2018  \n",
      "4       28.07.2018  \n",
      "5       04.08.2018  \n",
      "6       29.07.2018  \n",
      "7       25.08.2018  \n",
      "8       02.09.2018  \n",
      "9       08.09.2018  \n",
      "10      05.08.2018  \n"
     ]
    }
   ],
   "source": [
    "import requests\n",
    "import re\n",
    "from bs4 import BeautifulSoup\n",
    "import pandas as pd\n",
    "\n",
    "pd.options.display.max_columns=999\n",
    "\n",
    "URL='https://code.s3.yandex.net/learning-materials/data-analyst/festival_news/index.html'\n",
    "req_text=requests.get(URL).text\n",
    "#print(req_text)\n",
    "\n",
    "table = BeautifulSoup(req_text, 'lxml')\n",
    "#print(table)\n",
    "\n",
    "# вытащим из html-таблицы названия столбцов\n",
    "heading_table = []\n",
    "for row in table.find_all('th'):\n",
    "    heading_table.append(row.text)\n",
    "#print(heading_table)\n",
    "\n",
    "# вытащим из таблицы контект (строки кроме <th>)\n",
    "content=[]\n",
    "for row in table.find_all('tr'):\n",
    "    if not row.find_all('th'):\n",
    "        content.append([element.text for element in row.find_all('td')])\n",
    "#print(content)\n",
    "\n",
    "# соединим всё в dataframe\n",
    "festivals = pd.DataFrame(content, columns=heading_table)\n",
    "print(festivals)"
   ]
  },
  {
   "cell_type": "markdown",
   "metadata": {
    "id": "tAWK_49AoKF_"
   },
   "source": [
    "## Шаг 2. Исследовательский анализ данных (SQL)"
   ]
  },
  {
   "cell_type": "markdown",
   "metadata": {
    "id": "S84M13uEoTJe"
   },
   "source": [
    "2.1. Найти количество рейсов с вылетом в сентябре на каждой модели самолёта.<br>\n",
    "2.2. Посчитать количество рейсов по всем моделям самолетов Boeing и Airbus в сентябре.<br>\n",
    "2.3. Посчитать среднее количество прибывающих рейсов в день для каждого города за август.<br>"
   ]
  },
  {
   "cell_type": "code",
   "execution_count": null,
   "metadata": {
    "id": "HrjjGIIPlqua"
   },
   "outputs": [],
   "source": [
    "# Задача 2.1.\n",
    "query = '''\n",
    "select\n",
    "  aircrafts.model as model,\n",
    "  count(flight_id) as flights_amount\n",
    "from\n",
    "  flights\n",
    "inner join aircrafts on aircrafts.aircraft_code = flights.aircraft_code\n",
    "where\n",
    "  departure_time::date >= '2018-09-01' and\n",
    "  departure_time::date < '2018-10-01'\n",
    "group by\n",
    "  model;\n",
    "'''"
   ]
  },
  {
   "cell_type": "code",
   "execution_count": null,
   "metadata": {
    "id": "qBWpGEiqmJ0O"
   },
   "outputs": [],
   "source": [
    "# Задача 2.2.\n",
    "query = '''\n",
    "select\n",
    "    count(flights.flight_id) as flights_amount,\n",
    "    case\n",
    "        when aircrafts.model LIKE '%Airbus%' then 'Airbus'\n",
    "        when aircrafts.model LIKE '%Boeing%' then 'Boeing'\n",
    "    end as type_aircraft\n",
    "from\n",
    "  flights\n",
    "inner join aircrafts on aircrafts.aircraft_code = flights.aircraft_code\n",
    "where\n",
    "  (cast(flights.departure_time as date) between '2018-09-01' and '2018-09-30') and\n",
    "  (aircrafts.model LIKE '%Airbus%' or aircrafts.model LIKE '%Boeing%')\n",
    "group by\n",
    "  type_aircraft;\n",
    "'''"
   ]
  },
  {
   "cell_type": "code",
   "execution_count": null,
   "metadata": {
    "id": "8nIEDsOlmXS4"
   },
   "outputs": [],
   "source": [
    "# Задача 2.3.\n",
    "query = '''\n",
    "select\n",
    "  airports.city as city,\n",
    "  avg(new_table.flight_cnt) as average_flights\n",
    "from\n",
    "(   select\n",
    "        arrival_airport,\n",
    "        extract(day from arrival_time) as day_number,\n",
    "        count(flight_id) as flight_cnt\n",
    "    from\n",
    "        flights\n",
    "    group by\n",
    "        arrival_airport,\n",
    "        day_number\n",
    "    where \n",
    "        day_number::date between '2018-08-01' and '2018-08-31'\n",
    ") as new_table\n",
    "inner join airports on airports.airport_code = new_table.arrival_airport\n",
    "group by\n",
    "  airports.city\n",
    "order by\n",
    "  average_flights desc;\n",
    "'''"
   ]
  },
  {
   "cell_type": "markdown",
   "metadata": {
    "id": "G3v4pWOFobfH"
   },
   "source": [
    "## Шаг 3. Проверка гипотезы об увеличении количества рейсов во время фестивалей (SQL)"
   ]
  },
  {
   "cell_type": "markdown",
   "metadata": {
    "id": "fboHkuIQonC3"
   },
   "source": [
    "3.1. Для московских фестивалей с 23.07 по 30.09 посчитать число фестивалей в неделю.<br>\n",
    "3.2. Для каждой недели посчитать количество билетов, купленных на рейсы в Москву."
   ]
  },
  {
   "cell_type": "code",
   "execution_count": null,
   "metadata": {
    "id": "lRMVoOtsmmyZ"
   },
   "outputs": [],
   "source": [
    "# Задача 3.1.\n",
    "query = '''\n",
    "select\n",
    "  festival_name,\n",
    "  extract(week from festival_date) as festival_week\n",
    "from\n",
    "  festivals\n",
    "where\n",
    "  (festival_date::date between '2018-07-23' and '2018-09-30') and\n",
    "  (festival_city = 'Москва');\n",
    "'''"
   ]
  },
  {
   "cell_type": "code",
   "execution_count": null,
   "metadata": {
    "id": "332Qhokxm_kX"
   },
   "outputs": [],
   "source": [
    "# Задача 3.2.\n",
    "query = '''\n",
    "select\n",
    "    extract(week from flights.arrival_time) as week_number, -- 1.\n",
    "    count(ticket_flights.ticket_no) as ticket_amount,       -- 2.\n",
    "    fest_subq.week_number as festival_week,                 -- 3.\n",
    "    fest_subq.festival_name as festival_name                -- 4.\n",
    "\n",
    "from\n",
    "    flights\n",
    "left join ticket_flights on ticket_flights.flight_id = flights.flight_id\n",
    "left join --вытаскиваем нужные строки из festivals \n",
    "        (\n",
    "        select\n",
    "            extract(week from festival_date) as week_number,\n",
    "            festival_city,\n",
    "            festival_name\n",
    "        from\n",
    "            festivals\n",
    "        where\n",
    "            (festivals.festival_city = 'Москва') and\n",
    "            (festivals.festival_date::date between '2018-07-23' and '2018-09-30')\n",
    "        ) as fest_subq\n",
    "    on fest_subq.week_number = extract(week from flights.arrival_time::date)\n",
    "\n",
    "where\n",
    "    (flights.arrival_airport in ('SVO', 'VKO', 'DME')) and\n",
    "    (flights.arrival_time::date between '2018-07-23' and '2018-09-30')\n",
    "\n",
    "group by\n",
    "    extract(week from flights.arrival_time),\n",
    "    fest_subq.week_number,\n",
    "    fest_subq.festival_name\n",
    "\n",
    "order by\n",
    "    extract(week from flights.arrival_time);\n",
    "'''"
   ]
  },
  {
   "cell_type": "markdown",
   "metadata": {
    "id": "FmR_YVdWJNII"
   },
   "source": [
    "## Шаг 4. Аналитика средствами Python\n",
    "У нас есть файлы (query_1.csv и query_3.csv), в которых содержатся результаты запросов из предыдущих заданий."
   ]
  },
  {
   "cell_type": "code",
   "execution_count": 2,
   "metadata": {
    "executionInfo": {
     "elapsed": 642,
     "status": "ok",
     "timestamp": 1603107341774,
     "user": {
      "displayName": "Dmitri Rachkov",
      "photoUrl": "",
      "userId": "15114973081202312151"
     },
     "user_tz": -180
    },
    "id": "PyPsvuaNJNIL"
   },
   "outputs": [],
   "source": [
    "# Импортируем библиотеки\n",
    "import pandas as pd"
   ]
  },
  {
   "cell_type": "code",
   "execution_count": null,
   "metadata": {
    "id": "8NfCGVCLJNIX"
   },
   "outputs": [],
   "source": [
    "# выводить на экран все колонки датафрейма\n",
    "pd.options.display.max_columns=999\n",
    "# отобразить большие числа без плавающей точки\n",
    "pd.set_option('display.float_format', lambda x: '%.2f' % x)"
   ]
  },
  {
   "cell_type": "code",
   "execution_count": null,
   "metadata": {
    "id": "5E8wgI9HJNIf"
   },
   "outputs": [],
   "source": [
    "# подгрузим исходные таблицы\n",
    "q1 = pd.read_csv('/datasets/query_1.csv')\n",
    "q3 = pd.read_csv('/datasets/query_3.csv')"
   ]
  },
  {
   "cell_type": "code",
   "execution_count": null,
   "metadata": {
    "id": "bVvNm6anJNIm"
   },
   "outputs": [],
   "source": [
    "def info(df):\n",
    "    r1=df.info()\n",
    "    r2=df.describe()\n",
    "    r3=df.isnull().sum()\n",
    "    r4=df.columns\n",
    "    return display('DESCRIBE',r2,'ISNULL.SUM', r3)"
   ]
  },
  {
   "cell_type": "code",
   "execution_count": null,
   "metadata": {
    "id": "UoEZe3RXJNIs",
    "outputId": "9d76cb4f-6ce3-41e8-bcd1-b768a15a5904"
   },
   "outputs": [
    {
     "data": {
      "text/html": [
       "<div>\n",
       "<style scoped>\n",
       "    .dataframe tbody tr th:only-of-type {\n",
       "        vertical-align: middle;\n",
       "    }\n",
       "\n",
       "    .dataframe tbody tr th {\n",
       "        vertical-align: top;\n",
       "    }\n",
       "\n",
       "    .dataframe thead th {\n",
       "        text-align: right;\n",
       "    }\n",
       "</style>\n",
       "<table border=\"1\" class=\"dataframe\">\n",
       "  <thead>\n",
       "    <tr style=\"text-align: right;\">\n",
       "      <th></th>\n",
       "      <th>model</th>\n",
       "      <th>flights_amount</th>\n",
       "    </tr>\n",
       "  </thead>\n",
       "  <tbody>\n",
       "    <tr>\n",
       "      <td>0</td>\n",
       "      <td>Airbus A319-100</td>\n",
       "      <td>607</td>\n",
       "    </tr>\n",
       "    <tr>\n",
       "      <td>1</td>\n",
       "      <td>Airbus A321-200</td>\n",
       "      <td>960</td>\n",
       "    </tr>\n",
       "    <tr>\n",
       "      <td>2</td>\n",
       "      <td>Boeing 737-300</td>\n",
       "      <td>630</td>\n",
       "    </tr>\n",
       "    <tr>\n",
       "      <td>3</td>\n",
       "      <td>Boeing 767-300</td>\n",
       "      <td>600</td>\n",
       "    </tr>\n",
       "    <tr>\n",
       "      <td>4</td>\n",
       "      <td>Boeing 777-300</td>\n",
       "      <td>300</td>\n",
       "    </tr>\n",
       "    <tr>\n",
       "      <td>5</td>\n",
       "      <td>Bombardier CRJ-200</td>\n",
       "      <td>4446</td>\n",
       "    </tr>\n",
       "    <tr>\n",
       "      <td>6</td>\n",
       "      <td>Cessna 208 Caravan</td>\n",
       "      <td>4557</td>\n",
       "    </tr>\n",
       "    <tr>\n",
       "      <td>7</td>\n",
       "      <td>Sukhoi SuperJet-100</td>\n",
       "      <td>4185</td>\n",
       "    </tr>\n",
       "  </tbody>\n",
       "</table>\n",
       "</div>"
      ],
      "text/plain": [
       "                 model  flights_amount\n",
       "0      Airbus A319-100             607\n",
       "1      Airbus A321-200             960\n",
       "2       Boeing 737-300             630\n",
       "3       Boeing 767-300             600\n",
       "4       Boeing 777-300             300\n",
       "5   Bombardier CRJ-200            4446\n",
       "6   Cessna 208 Caravan            4557\n",
       "7  Sukhoi SuperJet-100            4185"
      ]
     },
     "execution_count": 285,
     "metadata": {
      "tags": []
     },
     "output_type": "execute_result"
    }
   ],
   "source": [
    "q1"
   ]
  },
  {
   "cell_type": "code",
   "execution_count": null,
   "metadata": {
    "id": "PCMV5whTJNI0",
    "outputId": "53852b14-10d8-484d-d9a1-a09da372215e"
   },
   "outputs": [
    {
     "name": "stdout",
     "output_type": "stream",
     "text": [
      "<class 'pandas.core.frame.DataFrame'>\n",
      "RangeIndex: 8 entries, 0 to 7\n",
      "Data columns (total 2 columns):\n",
      "model             8 non-null object\n",
      "flights_amount    8 non-null int64\n",
      "dtypes: int64(1), object(1)\n",
      "memory usage: 256.0+ bytes\n"
     ]
    },
    {
     "data": {
      "text/plain": [
       "'DESCRIBE'"
      ]
     },
     "metadata": {
      "tags": []
     },
     "output_type": "display_data"
    },
    {
     "data": {
      "text/html": [
       "<div>\n",
       "<style scoped>\n",
       "    .dataframe tbody tr th:only-of-type {\n",
       "        vertical-align: middle;\n",
       "    }\n",
       "\n",
       "    .dataframe tbody tr th {\n",
       "        vertical-align: top;\n",
       "    }\n",
       "\n",
       "    .dataframe thead th {\n",
       "        text-align: right;\n",
       "    }\n",
       "</style>\n",
       "<table border=\"1\" class=\"dataframe\">\n",
       "  <thead>\n",
       "    <tr style=\"text-align: right;\">\n",
       "      <th></th>\n",
       "      <th>flights_amount</th>\n",
       "    </tr>\n",
       "  </thead>\n",
       "  <tbody>\n",
       "    <tr>\n",
       "      <td>count</td>\n",
       "      <td>8.00</td>\n",
       "    </tr>\n",
       "    <tr>\n",
       "      <td>mean</td>\n",
       "      <td>2035.62</td>\n",
       "    </tr>\n",
       "    <tr>\n",
       "      <td>std</td>\n",
       "      <td>1965.20</td>\n",
       "    </tr>\n",
       "    <tr>\n",
       "      <td>min</td>\n",
       "      <td>300.00</td>\n",
       "    </tr>\n",
       "    <tr>\n",
       "      <td>25%</td>\n",
       "      <td>605.25</td>\n",
       "    </tr>\n",
       "    <tr>\n",
       "      <td>50%</td>\n",
       "      <td>795.00</td>\n",
       "    </tr>\n",
       "    <tr>\n",
       "      <td>75%</td>\n",
       "      <td>4250.25</td>\n",
       "    </tr>\n",
       "    <tr>\n",
       "      <td>max</td>\n",
       "      <td>4557.00</td>\n",
       "    </tr>\n",
       "  </tbody>\n",
       "</table>\n",
       "</div>"
      ],
      "text/plain": [
       "       flights_amount\n",
       "count            8.00\n",
       "mean          2035.62\n",
       "std           1965.20\n",
       "min            300.00\n",
       "25%            605.25\n",
       "50%            795.00\n",
       "75%           4250.25\n",
       "max           4557.00"
      ]
     },
     "metadata": {
      "tags": []
     },
     "output_type": "display_data"
    },
    {
     "data": {
      "text/plain": [
       "'ISNULL.SUM'"
      ]
     },
     "metadata": {
      "tags": []
     },
     "output_type": "display_data"
    },
    {
     "data": {
      "text/plain": [
       "model             0\n",
       "flights_amount    0\n",
       "dtype: int64"
      ]
     },
     "metadata": {
      "tags": []
     },
     "output_type": "display_data"
    }
   ],
   "source": [
    "info(q1)"
   ]
  },
  {
   "cell_type": "markdown",
   "metadata": {
    "id": "i6UlDDP9JNI4"
   },
   "source": [
    "В таблице q1 пропусков нет, данные адекватные, типы данных в колонках корректные"
   ]
  },
  {
   "cell_type": "code",
   "execution_count": null,
   "metadata": {
    "id": "le0oSiNHJNI5",
    "outputId": "be7a767e-cab1-43f3-b92a-b8fc3a6c69c7"
   },
   "outputs": [
    {
     "data": {
      "text/html": [
       "<div>\n",
       "<style scoped>\n",
       "    .dataframe tbody tr th:only-of-type {\n",
       "        vertical-align: middle;\n",
       "    }\n",
       "\n",
       "    .dataframe tbody tr th {\n",
       "        vertical-align: top;\n",
       "    }\n",
       "\n",
       "    .dataframe thead th {\n",
       "        text-align: right;\n",
       "    }\n",
       "</style>\n",
       "<table border=\"1\" class=\"dataframe\">\n",
       "  <thead>\n",
       "    <tr style=\"text-align: right;\">\n",
       "      <th></th>\n",
       "      <th>city</th>\n",
       "      <th>average_flights</th>\n",
       "    </tr>\n",
       "  </thead>\n",
       "  <tbody>\n",
       "    <tr>\n",
       "      <td>0</td>\n",
       "      <td>Абакан</td>\n",
       "      <td>3.87</td>\n",
       "    </tr>\n",
       "    <tr>\n",
       "      <td>1</td>\n",
       "      <td>Анадырь</td>\n",
       "      <td>1.00</td>\n",
       "    </tr>\n",
       "    <tr>\n",
       "      <td>2</td>\n",
       "      <td>Анапа</td>\n",
       "      <td>2.16</td>\n",
       "    </tr>\n",
       "    <tr>\n",
       "      <td>3</td>\n",
       "      <td>Архангельск</td>\n",
       "      <td>5.35</td>\n",
       "    </tr>\n",
       "    <tr>\n",
       "      <td>4</td>\n",
       "      <td>Астрахань</td>\n",
       "      <td>2.45</td>\n",
       "    </tr>\n",
       "    <tr>\n",
       "      <td>...</td>\n",
       "      <td>...</td>\n",
       "      <td>...</td>\n",
       "    </tr>\n",
       "    <tr>\n",
       "      <td>96</td>\n",
       "      <td>Чита</td>\n",
       "      <td>1.58</td>\n",
       "    </tr>\n",
       "    <tr>\n",
       "      <td>97</td>\n",
       "      <td>Элиста</td>\n",
       "      <td>4.87</td>\n",
       "    </tr>\n",
       "    <tr>\n",
       "      <td>98</td>\n",
       "      <td>Южно-Сахалинск</td>\n",
       "      <td>4.29</td>\n",
       "    </tr>\n",
       "    <tr>\n",
       "      <td>99</td>\n",
       "      <td>Якутск</td>\n",
       "      <td>2.74</td>\n",
       "    </tr>\n",
       "    <tr>\n",
       "      <td>100</td>\n",
       "      <td>Ярославль</td>\n",
       "      <td>1.32</td>\n",
       "    </tr>\n",
       "  </tbody>\n",
       "</table>\n",
       "<p>101 rows × 2 columns</p>\n",
       "</div>"
      ],
      "text/plain": [
       "               city  average_flights\n",
       "0            Абакан             3.87\n",
       "1           Анадырь             1.00\n",
       "2             Анапа             2.16\n",
       "3       Архангельск             5.35\n",
       "4         Астрахань             2.45\n",
       "..              ...              ...\n",
       "96             Чита             1.58\n",
       "97           Элиста             4.87\n",
       "98   Южно-Сахалинск             4.29\n",
       "99           Якутск             2.74\n",
       "100       Ярославль             1.32\n",
       "\n",
       "[101 rows x 2 columns]"
      ]
     },
     "execution_count": 287,
     "metadata": {
      "tags": []
     },
     "output_type": "execute_result"
    }
   ],
   "source": [
    "q3"
   ]
  },
  {
   "cell_type": "code",
   "execution_count": null,
   "metadata": {
    "id": "lkAZhr95JNI-",
    "outputId": "d2bbecca-62ce-4d2b-9f4e-79d9c2077d23"
   },
   "outputs": [
    {
     "name": "stdout",
     "output_type": "stream",
     "text": [
      "<class 'pandas.core.frame.DataFrame'>\n",
      "RangeIndex: 101 entries, 0 to 100\n",
      "Data columns (total 2 columns):\n",
      "city               101 non-null object\n",
      "average_flights    101 non-null float64\n",
      "dtypes: float64(1), object(1)\n",
      "memory usage: 1.7+ KB\n"
     ]
    },
    {
     "data": {
      "text/plain": [
       "'DESCRIBE'"
      ]
     },
     "metadata": {
      "tags": []
     },
     "output_type": "display_data"
    },
    {
     "data": {
      "text/html": [
       "<div>\n",
       "<style scoped>\n",
       "    .dataframe tbody tr th:only-of-type {\n",
       "        vertical-align: middle;\n",
       "    }\n",
       "\n",
       "    .dataframe tbody tr th {\n",
       "        vertical-align: top;\n",
       "    }\n",
       "\n",
       "    .dataframe thead th {\n",
       "        text-align: right;\n",
       "    }\n",
       "</style>\n",
       "<table border=\"1\" class=\"dataframe\">\n",
       "  <thead>\n",
       "    <tr style=\"text-align: right;\">\n",
       "      <th></th>\n",
       "      <th>average_flights</th>\n",
       "    </tr>\n",
       "  </thead>\n",
       "  <tbody>\n",
       "    <tr>\n",
       "      <td>count</td>\n",
       "      <td>101.00</td>\n",
       "    </tr>\n",
       "    <tr>\n",
       "      <td>mean</td>\n",
       "      <td>5.49</td>\n",
       "    </tr>\n",
       "    <tr>\n",
       "      <td>std</td>\n",
       "      <td>13.12</td>\n",
       "    </tr>\n",
       "    <tr>\n",
       "      <td>min</td>\n",
       "      <td>1.00</td>\n",
       "    </tr>\n",
       "    <tr>\n",
       "      <td>25%</td>\n",
       "      <td>2.00</td>\n",
       "    </tr>\n",
       "    <tr>\n",
       "      <td>50%</td>\n",
       "      <td>3.00</td>\n",
       "    </tr>\n",
       "    <tr>\n",
       "      <td>75%</td>\n",
       "      <td>5.87</td>\n",
       "    </tr>\n",
       "    <tr>\n",
       "      <td>max</td>\n",
       "      <td>129.77</td>\n",
       "    </tr>\n",
       "  </tbody>\n",
       "</table>\n",
       "</div>"
      ],
      "text/plain": [
       "       average_flights\n",
       "count           101.00\n",
       "mean              5.49\n",
       "std              13.12\n",
       "min               1.00\n",
       "25%               2.00\n",
       "50%               3.00\n",
       "75%               5.87\n",
       "max             129.77"
      ]
     },
     "metadata": {
      "tags": []
     },
     "output_type": "display_data"
    },
    {
     "data": {
      "text/plain": [
       "'ISNULL.SUM'"
      ]
     },
     "metadata": {
      "tags": []
     },
     "output_type": "display_data"
    },
    {
     "data": {
      "text/plain": [
       "city               0\n",
       "average_flights    0\n",
       "dtype: int64"
      ]
     },
     "metadata": {
      "tags": []
     },
     "output_type": "display_data"
    }
   ],
   "source": [
    "info(q3)"
   ]
  },
  {
   "cell_type": "markdown",
   "metadata": {
    "id": "6RaUdZ9JJNJC"
   },
   "source": [
    "В таблице q3 пропусков нет, данные адекватные, типы данных в колонках корректные"
   ]
  },
  {
   "cell_type": "code",
   "execution_count": null,
   "metadata": {
    "id": "HbV-TQIvJNJC",
    "outputId": "ffc814a4-16de-4743-daad-42adb370be7a"
   },
   "outputs": [
    {
     "data": {
      "text/html": [
       "<div>\n",
       "<style scoped>\n",
       "    .dataframe tbody tr th:only-of-type {\n",
       "        vertical-align: middle;\n",
       "    }\n",
       "\n",
       "    .dataframe tbody tr th {\n",
       "        vertical-align: top;\n",
       "    }\n",
       "\n",
       "    .dataframe thead th {\n",
       "        text-align: right;\n",
       "    }\n",
       "</style>\n",
       "<table border=\"1\" class=\"dataframe\">\n",
       "  <thead>\n",
       "    <tr style=\"text-align: right;\">\n",
       "      <th></th>\n",
       "      <th>city</th>\n",
       "      <th>average_flights</th>\n",
       "    </tr>\n",
       "  </thead>\n",
       "  <tbody>\n",
       "    <tr>\n",
       "      <td>0</td>\n",
       "      <td>Москва</td>\n",
       "      <td>129.77</td>\n",
       "    </tr>\n",
       "    <tr>\n",
       "      <td>1</td>\n",
       "      <td>Санкт-Петербург</td>\n",
       "      <td>31.16</td>\n",
       "    </tr>\n",
       "    <tr>\n",
       "      <td>2</td>\n",
       "      <td>Новосибирск</td>\n",
       "      <td>17.32</td>\n",
       "    </tr>\n",
       "    <tr>\n",
       "      <td>3</td>\n",
       "      <td>Красноярск</td>\n",
       "      <td>11.58</td>\n",
       "    </tr>\n",
       "    <tr>\n",
       "      <td>4</td>\n",
       "      <td>Екатеринбург</td>\n",
       "      <td>11.32</td>\n",
       "    </tr>\n",
       "    <tr>\n",
       "      <td>5</td>\n",
       "      <td>Ростов-на-Дону</td>\n",
       "      <td>10.19</td>\n",
       "    </tr>\n",
       "    <tr>\n",
       "      <td>6</td>\n",
       "      <td>Пермь</td>\n",
       "      <td>10.13</td>\n",
       "    </tr>\n",
       "    <tr>\n",
       "      <td>7</td>\n",
       "      <td>Брянск</td>\n",
       "      <td>10.00</td>\n",
       "    </tr>\n",
       "    <tr>\n",
       "      <td>8</td>\n",
       "      <td>Сочи</td>\n",
       "      <td>9.61</td>\n",
       "    </tr>\n",
       "    <tr>\n",
       "      <td>9</td>\n",
       "      <td>Ульяновск</td>\n",
       "      <td>9.58</td>\n",
       "    </tr>\n",
       "  </tbody>\n",
       "</table>\n",
       "</div>"
      ],
      "text/plain": [
       "              city  average_flights\n",
       "0           Москва           129.77\n",
       "1  Санкт-Петербург            31.16\n",
       "2      Новосибирск            17.32\n",
       "3       Красноярск            11.58\n",
       "4     Екатеринбург            11.32\n",
       "5   Ростов-на-Дону            10.19\n",
       "6            Пермь            10.13\n",
       "7           Брянск            10.00\n",
       "8             Сочи             9.61\n",
       "9        Ульяновск             9.58"
      ]
     },
     "execution_count": 289,
     "metadata": {
      "tags": []
     },
     "output_type": "execute_result"
    }
   ],
   "source": [
    "# ТОП-10 городов по количеству рейсов\n",
    "top10_flights = q3.sort_values(by='average_flights', ascending=False).head(10).copy().reset_index()\n",
    "try:\n",
    "    top10_flights = top10_flights.drop('index', 1)\n",
    "except:\n",
    "    pass\n",
    "\n",
    "top10_flights"
   ]
  },
  {
   "cell_type": "markdown",
   "metadata": {
    "id": "KrQ4teN7JNJG"
   },
   "source": [
    "---"
   ]
  },
  {
   "cell_type": "markdown",
   "metadata": {
    "id": "mECqJ3jsJNJH"
   },
   "source": [
    "### Построим графики: \n",
    " * модели самолетов и количество рейсов, \n",
    " * города и количество рейсов, \n",
    " * топ-10 городов и количество рейсов"
   ]
  },
  {
   "cell_type": "code",
   "execution_count": null,
   "metadata": {
    "id": "1ub1ZPGBJNJI",
    "outputId": "c14e249d-7d4f-4a68-edbc-080512ba62e8"
   },
   "outputs": [
    {
     "data": {
      "text/html": [
       "<div>\n",
       "<style scoped>\n",
       "    .dataframe tbody tr th:only-of-type {\n",
       "        vertical-align: middle;\n",
       "    }\n",
       "\n",
       "    .dataframe tbody tr th {\n",
       "        vertical-align: top;\n",
       "    }\n",
       "\n",
       "    .dataframe thead th {\n",
       "        text-align: right;\n",
       "    }\n",
       "</style>\n",
       "<table border=\"1\" class=\"dataframe\">\n",
       "  <thead>\n",
       "    <tr style=\"text-align: right;\">\n",
       "      <th></th>\n",
       "      <th>model</th>\n",
       "      <th>flights_amount</th>\n",
       "    </tr>\n",
       "  </thead>\n",
       "  <tbody>\n",
       "    <tr>\n",
       "      <td>0</td>\n",
       "      <td>Airbus A319-100</td>\n",
       "      <td>607</td>\n",
       "    </tr>\n",
       "    <tr>\n",
       "      <td>1</td>\n",
       "      <td>Airbus A321-200</td>\n",
       "      <td>960</td>\n",
       "    </tr>\n",
       "    <tr>\n",
       "      <td>2</td>\n",
       "      <td>Boeing 737-300</td>\n",
       "      <td>630</td>\n",
       "    </tr>\n",
       "    <tr>\n",
       "      <td>3</td>\n",
       "      <td>Boeing 767-300</td>\n",
       "      <td>600</td>\n",
       "    </tr>\n",
       "    <tr>\n",
       "      <td>4</td>\n",
       "      <td>Boeing 777-300</td>\n",
       "      <td>300</td>\n",
       "    </tr>\n",
       "    <tr>\n",
       "      <td>5</td>\n",
       "      <td>Bombardier CRJ-200</td>\n",
       "      <td>4446</td>\n",
       "    </tr>\n",
       "    <tr>\n",
       "      <td>6</td>\n",
       "      <td>Cessna 208 Caravan</td>\n",
       "      <td>4557</td>\n",
       "    </tr>\n",
       "    <tr>\n",
       "      <td>7</td>\n",
       "      <td>Sukhoi SuperJet-100</td>\n",
       "      <td>4185</td>\n",
       "    </tr>\n",
       "  </tbody>\n",
       "</table>\n",
       "</div>"
      ],
      "text/plain": [
       "                 model  flights_amount\n",
       "0      Airbus A319-100             607\n",
       "1      Airbus A321-200             960\n",
       "2       Boeing 737-300             630\n",
       "3       Boeing 767-300             600\n",
       "4       Boeing 777-300             300\n",
       "5   Bombardier CRJ-200            4446\n",
       "6   Cessna 208 Caravan            4557\n",
       "7  Sukhoi SuperJet-100            4185"
      ]
     },
     "execution_count": 290,
     "metadata": {
      "tags": []
     },
     "output_type": "execute_result"
    }
   ],
   "source": [
    "q1"
   ]
  },
  {
   "cell_type": "code",
   "execution_count": null,
   "metadata": {
    "id": "nLu-tMkdJNJM",
    "outputId": "da29f2dc-6b48-4f02-e700-fbf8a33f0931"
   },
   "outputs": [
    {
     "data": {
      "text/plain": [
       "<matplotlib.axes._subplots.AxesSubplot at 0x7fc995d25b10>"
      ]
     },
     "execution_count": 291,
     "metadata": {
      "tags": []
     },
     "output_type": "execute_result"
    },
    {
     "data": {
      "image/png": "[encoded data removed]",
      "text/plain": [
       "<Figure size 864x432 with 1 Axes>"
      ]
     },
     "metadata": {
      "needs_background": "light",
      "tags": []
     },
     "output_type": "display_data"
    }
   ],
   "source": [
    "(q1\n",
    " .plot(x='model', \n",
    "       y='flights_amount', \n",
    "       figsize=(12,6), \n",
    "       grid=True, \n",
    "       kind='bar', \n",
    "       title='ГРАФИК 1 \\n Количество рейсов по моделям самолётов', \n",
    "       color='orange', \n",
    "#       table=True,\n",
    "      )\n",
    ")"
   ]
  },
  {
   "cell_type": "markdown",
   "metadata": {
    "id": "Qa7ZGxsvJNJP"
   },
   "source": [
    "### Вывод из графика 1\n",
    "В авиакомпании «F9» самолёты производства Boeing и Airbus используются значительно реже, чем воздушные российский Sukhoi, американский Cessna и канадский Bombardiaer."
   ]
  },
  {
   "cell_type": "code",
   "execution_count": null,
   "metadata": {
    "id": "dOxF7onUJNJQ",
    "outputId": "e920aee1-441b-4a43-84a3-515ef5c6143b"
   },
   "outputs": [
    {
     "data": {
      "text/plain": [
       "<matplotlib.axes._subplots.AxesSubplot at 0x7fc995bd9910>"
      ]
     },
     "execution_count": 292,
     "metadata": {
      "tags": []
     },
     "output_type": "execute_result"
    },
    {
     "data": {
      "image/png": "[encoded data removed]",
      "text/plain": [
       "<Figure size 864x720 with 1 Axes>"
      ]
     },
     "metadata": {
      "needs_background": "light",
      "tags": []
     },
     "output_type": "display_data"
    }
   ],
   "source": [
    "(q3\n",
    "     .sort_values(by='average_flights')\n",
    "     .tail(20)\n",
    "     .plot(x='city', y='average_flights', figsize=(12,10), grid=True, kind='barh', \n",
    "        title='ГРАФИК 2 \\n Среднее число рейсов за день в авг-2018г. по городам (ТОП-20)', color='skyblue')\n",
    ")\n",
    "### КАК ДОБАВИТЬ ПОДПИСИ ЗНАЧЕНИЙ ПРЯМО НА ГРАФИК ???"
   ]
  },
  {
   "cell_type": "markdown",
   "metadata": {
    "id": "x3V-iep8JNJT"
   },
   "source": [
    "### Вывод из графика 2\n",
    "1. Самый загруженный (популярный) город в стране  с точки зрения числа авиаперелётов - Москва. Большая часть перелётов внутри страны осуществляется с пересадкйо в Москве.\n",
    "2. Число рейсов в день в Москве превышает следующий по числу рейсов Санкт-Петербург более чем в 3 раза. \n",
    "3. Замыкает тройку городов по числу рейсов - Новосибирск.\n",
    "\n",
    "Все остальные города - примерно коррелирую по численности населения города. (для детального анализа нужны данные по численности)."
   ]
  },
  {
   "cell_type": "code",
   "execution_count": null,
   "metadata": {
    "id": "Eskl6R29JNJU",
    "outputId": "27273560-eace-4e09-bdd7-b3c36fcbc080"
   },
   "outputs": [
    {
     "data": {
      "text/plain": [
       "<matplotlib.axes._subplots.AxesSubplot at 0x7fc995b31350>"
      ]
     },
     "execution_count": 293,
     "metadata": {
      "tags": []
     },
     "output_type": "execute_result"
    },
    {
     "data": {
      "image/png": "[encoded data removed]",
      "text/plain": [
       "<Figure size 1008x1008 with 1 Axes>"
      ]
     },
     "metadata": {
      "tags": []
     },
     "output_type": "display_data"
    }
   ],
   "source": [
    "(q3\n",
    "     .sort_values(by='average_flights')\n",
    "     .tail(20)\n",
    "     .plot(x='city', \n",
    "           y='average_flights', \n",
    "           figsize=(14,14), \n",
    "           kind='pie', \n",
    "           title='ГРАФИК 3 \\nДоля рейсов за день в авг-2018г. по городам (ТОП-20 из 100)', \n",
    "           labels=q3.sort_values(by='average_flights')['city'].tail(20),\n",
    "           legend=False,\n",
    "           startangle=-90,\n",
    "           table=True,\n",
    "#           autopct=\"%1.1f%%\", \n",
    "#           labels=q3['city'],\n",
    "#           colormap='',\n",
    "          )\n",
    ")\n",
    "### КАК ДОБАВИТЬ АБС.ЗНАЧЕНИЯ НА КУСОЧКИ ПИРОГА ???\n",
    "### КАК УВЕЛИЧИТЬ ШРИФТ В ТАБЛИЦЕ СНИЗУ ???"
   ]
  },
  {
   "cell_type": "markdown",
   "metadata": {
    "id": "e3mOYgk7JNJX"
   },
   "source": [
    "### Вывод из графика 3\n",
    "Из первой двадцатки городов по числу авиарейсов явно выделяются 3 города (Москва, Санкт-Петербург и Новосибирск), а остальные примерно сопоставимы между собой"
   ]
  },
  {
   "cell_type": "code",
   "execution_count": null,
   "metadata": {
    "id": "cIHZd-mMJNJY",
    "outputId": "8bda0178-982e-4ee5-8907-4c876821111f"
   },
   "outputs": [
    {
     "data": {
      "text/html": [
       "<div>\n",
       "<style scoped>\n",
       "    .dataframe tbody tr th:only-of-type {\n",
       "        vertical-align: middle;\n",
       "    }\n",
       "\n",
       "    .dataframe tbody tr th {\n",
       "        vertical-align: top;\n",
       "    }\n",
       "\n",
       "    .dataframe thead th {\n",
       "        text-align: right;\n",
       "    }\n",
       "</style>\n",
       "<table border=\"1\" class=\"dataframe\">\n",
       "  <thead>\n",
       "    <tr style=\"text-align: right;\">\n",
       "      <th></th>\n",
       "      <th>city</th>\n",
       "      <th>average_flights</th>\n",
       "    </tr>\n",
       "  </thead>\n",
       "  <tbody>\n",
       "    <tr>\n",
       "      <td>0</td>\n",
       "      <td>Москва</td>\n",
       "      <td>129.77</td>\n",
       "    </tr>\n",
       "    <tr>\n",
       "      <td>1</td>\n",
       "      <td>Санкт-Петербург</td>\n",
       "      <td>31.16</td>\n",
       "    </tr>\n",
       "    <tr>\n",
       "      <td>2</td>\n",
       "      <td>Новосибирск</td>\n",
       "      <td>17.32</td>\n",
       "    </tr>\n",
       "    <tr>\n",
       "      <td>3</td>\n",
       "      <td>Красноярск</td>\n",
       "      <td>11.58</td>\n",
       "    </tr>\n",
       "    <tr>\n",
       "      <td>4</td>\n",
       "      <td>Екатеринбург</td>\n",
       "      <td>11.32</td>\n",
       "    </tr>\n",
       "    <tr>\n",
       "      <td>5</td>\n",
       "      <td>Ростов-на-Дону</td>\n",
       "      <td>10.19</td>\n",
       "    </tr>\n",
       "    <tr>\n",
       "      <td>6</td>\n",
       "      <td>Пермь</td>\n",
       "      <td>10.13</td>\n",
       "    </tr>\n",
       "    <tr>\n",
       "      <td>7</td>\n",
       "      <td>Брянск</td>\n",
       "      <td>10.00</td>\n",
       "    </tr>\n",
       "    <tr>\n",
       "      <td>8</td>\n",
       "      <td>Сочи</td>\n",
       "      <td>9.61</td>\n",
       "    </tr>\n",
       "    <tr>\n",
       "      <td>9</td>\n",
       "      <td>Ульяновск</td>\n",
       "      <td>9.58</td>\n",
       "    </tr>\n",
       "  </tbody>\n",
       "</table>\n",
       "</div>"
      ],
      "text/plain": [
       "              city  average_flights\n",
       "0           Москва           129.77\n",
       "1  Санкт-Петербург            31.16\n",
       "2      Новосибирск            17.32\n",
       "3       Красноярск            11.58\n",
       "4     Екатеринбург            11.32\n",
       "5   Ростов-на-Дону            10.19\n",
       "6            Пермь            10.13\n",
       "7           Брянск            10.00\n",
       "8             Сочи             9.61\n",
       "9        Ульяновск             9.58"
      ]
     },
     "execution_count": 294,
     "metadata": {
      "tags": []
     },
     "output_type": "execute_result"
    }
   ],
   "source": [
    "top10_flights"
   ]
  },
  {
   "cell_type": "code",
   "execution_count": null,
   "metadata": {
    "id": "0zlJil4IJNJb",
    "outputId": "bf3331ae-ec8e-483a-d818-959dab5f842e"
   },
   "outputs": [
    {
     "data": {
      "text/plain": [
       "<matplotlib.axes._subplots.AxesSubplot at 0x7fc995a38c50>"
      ]
     },
     "execution_count": 295,
     "metadata": {
      "tags": []
     },
     "output_type": "execute_result"
    },
    {
     "data": {
      "image/png": "[encoded data removed]",
      "text/plain": [
       "<Figure size 1152x432 with 1 Axes>"
      ]
     },
     "metadata": {
      "needs_background": "light",
      "tags": []
     },
     "output_type": "display_data"
    }
   ],
   "source": [
    "(top10_flights\n",
    " .sort_values(by='average_flights')\n",
    " .plot(x='city', \n",
    "                    y='average_flights',\n",
    "                    grid=True,\n",
    "                    figsize=(16,6),\n",
    "                    kind='barh',\n",
    "                    color='magenta',\n",
    "                    title='ГРАФИК 4 \\n ТОП-10 городов и количество рейсов',\n",
    "                    table=True,\n",
    "#                    table_font_size=12,\n",
    "                   )\n",
    ")"
   ]
  },
  {
   "cell_type": "markdown",
   "metadata": {
    "id": "-crtS56NJNJe"
   },
   "source": [
    "    СПРАВКА\n",
    "ТОП-10 крупнейших городов России\n",
    " \n",
    "1. Москва\n",
    "2. Санкт-Петербург\n",
    "3. Новосибирск\n",
    "4. Екатеринбург\n",
    "5. Нижний Новгород\n",
    "6. Казань\n",
    "7. Самара\n",
    "8. Омск\n",
    "9. Челябинск\n",
    "10. Ростов-на-Дону"
   ]
  },
  {
   "cell_type": "markdown",
   "metadata": {
    "id": "_GZj_Zb1JNJe"
   },
   "source": [
    "### Вывод из графика 4\n",
    "Интересно, что половина городов из ТОП-10 крупнейших в стране не попали в ТОП-10 по числу авиаперелётов.\n",
    "Это города: <u>Казань, Нижний Новгород, Самара, Омск и Челябинск </u>.\n",
    "\n",
    "При этом, <u>Красноярск, Пермь, Брянск, Сочи и Ульяновск</u>, попали в ТОП-10 по числу авиарейсов, хотя они не входят в ТОП-10 по численности населения."
   ]
  },
  {
   "cell_type": "markdown",
   "metadata": {
    "id": "jIGxANlrJNJf"
   },
   "source": [
    "---"
   ]
  },
  {
   "cell_type": "markdown",
   "metadata": {
    "id": "TMPSr-e6JNJf"
   },
   "source": [
    "### Проведём дополнительный анализ данных"
   ]
  },
  {
   "cell_type": "code",
   "execution_count": null,
   "metadata": {
    "id": "poNS0m4dJNJg"
   },
   "outputs": [],
   "source": [
    "# Добавим вместимость самолётов\n",
    "capacity = [['Airbus A319-100', 156],\n",
    "            ['Airbus A321-200', 180], \n",
    "            ['Boeing 737-300', 149], \n",
    "            ['Boeing 767-300', 350], \n",
    "            ['Boeing 777-300', 451], \n",
    "            ['Bombardier CRJ-200', 50], \n",
    "            ['Cessna 208 Caravan', 13], \n",
    "            ['Sukhoi SuperJet-100', 108]\n",
    "           ]\n",
    "capacity_cols = ['model', 'capacity_max']"
   ]
  },
  {
   "cell_type": "code",
   "execution_count": null,
   "metadata": {
    "id": "B2q23RipJNJj"
   },
   "outputs": [],
   "source": [
    "aircraft_capacity = pd.DataFrame(capacity, columns=capacity_cols)"
   ]
  },
  {
   "cell_type": "code",
   "execution_count": null,
   "metadata": {
    "id": "MjCBpbznJNJm"
   },
   "outputs": [],
   "source": [
    "q1_new = q1.merge(aircraft_capacity, on='model', how='left')"
   ]
  },
  {
   "cell_type": "code",
   "execution_count": null,
   "metadata": {
    "id": "s51WXl_lJNJo",
    "outputId": "fb874433-3808-4289-ef13-19559a1cf398"
   },
   "outputs": [
    {
     "data": {
      "text/html": [
       "<div>\n",
       "<style scoped>\n",
       "    .dataframe tbody tr th:only-of-type {\n",
       "        vertical-align: middle;\n",
       "    }\n",
       "\n",
       "    .dataframe tbody tr th {\n",
       "        vertical-align: top;\n",
       "    }\n",
       "\n",
       "    .dataframe thead th {\n",
       "        text-align: right;\n",
       "    }\n",
       "</style>\n",
       "<table border=\"1\" class=\"dataframe\">\n",
       "  <thead>\n",
       "    <tr style=\"text-align: right;\">\n",
       "      <th></th>\n",
       "      <th>model</th>\n",
       "      <th>flights_amount</th>\n",
       "      <th>capacity_max</th>\n",
       "    </tr>\n",
       "  </thead>\n",
       "  <tbody>\n",
       "    <tr>\n",
       "      <td>4</td>\n",
       "      <td>Boeing 777-300</td>\n",
       "      <td>300</td>\n",
       "      <td>451</td>\n",
       "    </tr>\n",
       "    <tr>\n",
       "      <td>3</td>\n",
       "      <td>Boeing 767-300</td>\n",
       "      <td>600</td>\n",
       "      <td>350</td>\n",
       "    </tr>\n",
       "    <tr>\n",
       "      <td>1</td>\n",
       "      <td>Airbus A321-200</td>\n",
       "      <td>960</td>\n",
       "      <td>180</td>\n",
       "    </tr>\n",
       "    <tr>\n",
       "      <td>0</td>\n",
       "      <td>Airbus A319-100</td>\n",
       "      <td>607</td>\n",
       "      <td>156</td>\n",
       "    </tr>\n",
       "    <tr>\n",
       "      <td>2</td>\n",
       "      <td>Boeing 737-300</td>\n",
       "      <td>630</td>\n",
       "      <td>149</td>\n",
       "    </tr>\n",
       "    <tr>\n",
       "      <td>7</td>\n",
       "      <td>Sukhoi SuperJet-100</td>\n",
       "      <td>4185</td>\n",
       "      <td>108</td>\n",
       "    </tr>\n",
       "    <tr>\n",
       "      <td>5</td>\n",
       "      <td>Bombardier CRJ-200</td>\n",
       "      <td>4446</td>\n",
       "      <td>50</td>\n",
       "    </tr>\n",
       "    <tr>\n",
       "      <td>6</td>\n",
       "      <td>Cessna 208 Caravan</td>\n",
       "      <td>4557</td>\n",
       "      <td>13</td>\n",
       "    </tr>\n",
       "  </tbody>\n",
       "</table>\n",
       "</div>"
      ],
      "text/plain": [
       "                 model  flights_amount  capacity_max\n",
       "4       Boeing 777-300             300           451\n",
       "3       Boeing 767-300             600           350\n",
       "1      Airbus A321-200             960           180\n",
       "0      Airbus A319-100             607           156\n",
       "2       Boeing 737-300             630           149\n",
       "7  Sukhoi SuperJet-100            4185           108\n",
       "5   Bombardier CRJ-200            4446            50\n",
       "6   Cessna 208 Caravan            4557            13"
      ]
     },
     "execution_count": 299,
     "metadata": {
      "tags": []
     },
     "output_type": "execute_result"
    }
   ],
   "source": [
    "q1_new.sort_values(by='capacity_max', ascending=False)"
   ]
  },
  {
   "cell_type": "code",
   "execution_count": null,
   "metadata": {
    "id": "7UCAdd6gJNJr",
    "outputId": "66ee5ce6-27ad-4b00-efeb-547af2552e0c"
   },
   "outputs": [
    {
     "data": {
      "text/plain": [
       "<matplotlib.axes._subplots.AxesSubplot at 0x7fc9959695d0>"
      ]
     },
     "execution_count": 300,
     "metadata": {
      "tags": []
     },
     "output_type": "execute_result"
    },
    {
     "data": {
      "image/png": "[encoded data removed]",
      "text/plain": [
       "<Figure size 1152x432 with 2 Axes>"
      ]
     },
     "metadata": {
      "needs_background": "light",
      "tags": []
     },
     "output_type": "display_data"
    }
   ],
   "source": [
    "ax1=(q1_new\n",
    " .sort_values(by='capacity_max')\n",
    " .plot(x='model', \n",
    "       y='flights_amount', \n",
    "       kind='bar', \n",
    "       color='orange',\n",
    "      ))\n",
    "\n",
    "(q1_new\n",
    " .sort_values(by='capacity_max')\n",
    " .plot(x='model', \n",
    "       y='capacity_max', \n",
    "       secondary_y=True,\n",
    "       style='g',\n",
    "       figsize=(16,6), \n",
    "       grid=True, \n",
    "       title='ГРАФИК 5 (дополнительно к графику 1) \\nКоличество рейсов по моделям самолётов \\\n",
    "(сопоставление с максимальной вместимостью самолёта)', \n",
    "       ax=ax1,\n",
    "      ))"
   ]
  },
  {
   "cell_type": "code",
   "execution_count": null,
   "metadata": {
    "id": "8WNwYiUyJNJu",
    "outputId": "ce83a9f1-f8bb-41f0-8c8d-ec9597967f6b"
   },
   "outputs": [
    {
     "data": {
      "text/html": [
       "<div>\n",
       "<style scoped>\n",
       "    .dataframe tbody tr th:only-of-type {\n",
       "        vertical-align: middle;\n",
       "    }\n",
       "\n",
       "    .dataframe tbody tr th {\n",
       "        vertical-align: top;\n",
       "    }\n",
       "\n",
       "    .dataframe thead th {\n",
       "        text-align: right;\n",
       "    }\n",
       "</style>\n",
       "<table border=\"1\" class=\"dataframe\">\n",
       "  <thead>\n",
       "    <tr style=\"text-align: right;\">\n",
       "      <th></th>\n",
       "      <th>flights_amount</th>\n",
       "      <th>capacity_max</th>\n",
       "    </tr>\n",
       "  </thead>\n",
       "  <tbody>\n",
       "    <tr>\n",
       "      <td>flights_amount</td>\n",
       "      <td>1.00</td>\n",
       "      <td>-0.75</td>\n",
       "    </tr>\n",
       "    <tr>\n",
       "      <td>capacity_max</td>\n",
       "      <td>-0.75</td>\n",
       "      <td>1.00</td>\n",
       "    </tr>\n",
       "  </tbody>\n",
       "</table>\n",
       "</div>"
      ],
      "text/plain": [
       "                flights_amount  capacity_max\n",
       "flights_amount            1.00         -0.75\n",
       "capacity_max             -0.75          1.00"
      ]
     },
     "execution_count": 301,
     "metadata": {
      "tags": []
     },
     "output_type": "execute_result"
    }
   ],
   "source": [
    "q1_new.corr()"
   ]
  },
  {
   "cell_type": "markdown",
   "metadata": {
    "id": "dcFzckHGJNJx"
   },
   "source": [
    "### Вывод из графика 5 (дополнительно к графику 1)\n",
    "Число авиаперелётов в авиакомпании \"F9\" имеет явную обратную корреляцию с пассажировместимостью моделей самолётов: <u>больше рейсов совершается на менее вместительных самолётах</u>."
   ]
  },
  {
   "cell_type": "markdown",
   "metadata": {
    "id": "l4R8f9XxJNJx"
   },
   "source": [
    "## <font color=blue>Шаг 5. Общие выводы по проекту\n",
    "<font color=blue>Проходящий <b>музыкальный фестиваль - совершенно не влияющее на авиаперевозки событие</b>!\n",
    "\n",
    "Вероятно, музыкальные фанаты посещают фестивали, которые проводятся в городах их проживания, либо предпочитают передвигаться другими способами (на рейсах других авиакомпаний-лоукостеров или на железнодорожном \\ автомобильном транспорте)."
   ]
  },
  {
   "cell_type": "code",
   "execution_count": null,
   "metadata": {
    "id": "egjXfMFdqxyJ"
   },
   "outputs": [],
   "source": []
  }
 ],
 "metadata": {
  "colab": {
   "name": "project4_aviasales_festivals_(sql+python).ipynb",
   "provenance": []
  },
  "kernelspec": {
   "display_name": "Python 3",
   "language": "python",
   "name": "python3"
  },
  "language_info": {
   "codemirror_mode": {
    "name": "ipython",
    "version": 3
   },
   "file_extension": ".py",
   "mimetype": "text/x-python",
   "name": "python",
   "nbconvert_exporter": "python",
   "pygments_lexer": "ipython3",
   "version": "3.7.7"
  }
 },
 "nbformat": 4,
 "nbformat_minor": 1
}
